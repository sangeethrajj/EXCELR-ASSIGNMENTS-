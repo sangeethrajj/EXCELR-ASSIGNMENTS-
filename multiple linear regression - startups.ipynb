{
 "cells": [
  {
   "cell_type": "markdown",
   "id": "9de8c9d2",
   "metadata": {},
   "source": [
    "# 1.Import Libraries"
   ]
  },
  {
   "cell_type": "code",
   "execution_count": 1,
   "id": "05ddbdce",
   "metadata": {
    "ExecuteTime": {
     "end_time": "2021-11-26T06:12:28.339200Z",
     "start_time": "2021-11-26T06:12:26.068391Z"
    }
   },
   "outputs": [],
   "source": [
    "import pandas as pd \n",
    "import numpy as np\n",
    "import seaborn as sns\n",
    "import matplotlib.pyplot as plt\n",
    "import warnings\n",
    "warnings.filterwarnings('ignore')"
   ]
  },
  {
   "cell_type": "markdown",
   "id": "8b55e174",
   "metadata": {},
   "source": [
    "# 2.Import Datasets"
   ]
  },
  {
   "cell_type": "code",
   "execution_count": 2,
   "id": "ea4d92ef",
   "metadata": {
    "ExecuteTime": {
     "end_time": "2021-11-26T06:12:28.386201Z",
     "start_time": "2021-11-26T06:12:28.342186Z"
    }
   },
   "outputs": [
    {
     "data": {
      "text/html": [
       "<div>\n",
       "<style scoped>\n",
       "    .dataframe tbody tr th:only-of-type {\n",
       "        vertical-align: middle;\n",
       "    }\n",
       "\n",
       "    .dataframe tbody tr th {\n",
       "        vertical-align: top;\n",
       "    }\n",
       "\n",
       "    .dataframe thead th {\n",
       "        text-align: right;\n",
       "    }\n",
       "</style>\n",
       "<table border=\"1\" class=\"dataframe\">\n",
       "  <thead>\n",
       "    <tr style=\"text-align: right;\">\n",
       "      <th></th>\n",
       "      <th>R&amp;D Spend</th>\n",
       "      <th>Administration</th>\n",
       "      <th>Marketing Spend</th>\n",
       "      <th>State</th>\n",
       "      <th>Profit</th>\n",
       "    </tr>\n",
       "  </thead>\n",
       "  <tbody>\n",
       "    <tr>\n",
       "      <th>0</th>\n",
       "      <td>165349.20</td>\n",
       "      <td>136897.80</td>\n",
       "      <td>471784.10</td>\n",
       "      <td>New York</td>\n",
       "      <td>192261.83</td>\n",
       "    </tr>\n",
       "    <tr>\n",
       "      <th>1</th>\n",
       "      <td>162597.70</td>\n",
       "      <td>151377.59</td>\n",
       "      <td>443898.53</td>\n",
       "      <td>California</td>\n",
       "      <td>191792.06</td>\n",
       "    </tr>\n",
       "    <tr>\n",
       "      <th>2</th>\n",
       "      <td>153441.51</td>\n",
       "      <td>101145.55</td>\n",
       "      <td>407934.54</td>\n",
       "      <td>Florida</td>\n",
       "      <td>191050.39</td>\n",
       "    </tr>\n",
       "    <tr>\n",
       "      <th>3</th>\n",
       "      <td>144372.41</td>\n",
       "      <td>118671.85</td>\n",
       "      <td>383199.62</td>\n",
       "      <td>New York</td>\n",
       "      <td>182901.99</td>\n",
       "    </tr>\n",
       "    <tr>\n",
       "      <th>4</th>\n",
       "      <td>142107.34</td>\n",
       "      <td>91391.77</td>\n",
       "      <td>366168.42</td>\n",
       "      <td>Florida</td>\n",
       "      <td>166187.94</td>\n",
       "    </tr>\n",
       "  </tbody>\n",
       "</table>\n",
       "</div>"
      ],
      "text/plain": [
       "   R&D Spend  Administration  Marketing Spend       State     Profit\n",
       "0  165349.20       136897.80        471784.10    New York  192261.83\n",
       "1  162597.70       151377.59        443898.53  California  191792.06\n",
       "2  153441.51       101145.55        407934.54     Florida  191050.39\n",
       "3  144372.41       118671.85        383199.62    New York  182901.99\n",
       "4  142107.34        91391.77        366168.42     Florida  166187.94"
      ]
     },
     "execution_count": 2,
     "metadata": {},
     "output_type": "execute_result"
    }
   ],
   "source": [
    "startup_data=pd.read_csv(\"50_Startups.csv\")\n",
    "startup_data.head()"
   ]
  },
  {
   "cell_type": "markdown",
   "id": "910e2104",
   "metadata": {},
   "source": [
    "# 3.Data Understanding "
   ]
  },
  {
   "cell_type": "code",
   "execution_count": 3,
   "id": "a6675211",
   "metadata": {
    "ExecuteTime": {
     "end_time": "2021-11-26T06:12:28.401199Z",
     "start_time": "2021-11-26T06:12:28.388197Z"
    }
   },
   "outputs": [
    {
     "data": {
      "text/plain": [
       "(50, 5)"
      ]
     },
     "execution_count": 3,
     "metadata": {},
     "output_type": "execute_result"
    }
   ],
   "source": [
    "startup_data.shape"
   ]
  },
  {
   "cell_type": "code",
   "execution_count": 4,
   "id": "5668cf9c",
   "metadata": {
    "ExecuteTime": {
     "end_time": "2021-11-26T06:12:28.417204Z",
     "start_time": "2021-11-26T06:12:28.403203Z"
    }
   },
   "outputs": [
    {
     "data": {
      "text/plain": [
       "R&D Spend          float64\n",
       "Administration     float64\n",
       "Marketing Spend    float64\n",
       "State               object\n",
       "Profit             float64\n",
       "dtype: object"
      ]
     },
     "execution_count": 4,
     "metadata": {},
     "output_type": "execute_result"
    }
   ],
   "source": [
    "startup_data.dtypes"
   ]
  },
  {
   "cell_type": "code",
   "execution_count": 5,
   "id": "b64b986a",
   "metadata": {
    "ExecuteTime": {
     "end_time": "2021-11-26T06:12:28.433207Z",
     "start_time": "2021-11-26T06:12:28.419203Z"
    }
   },
   "outputs": [
    {
     "data": {
      "text/plain": [
       "R&D Spend          0\n",
       "Administration     0\n",
       "Marketing Spend    0\n",
       "State              0\n",
       "Profit             0\n",
       "dtype: int64"
      ]
     },
     "execution_count": 5,
     "metadata": {},
     "output_type": "execute_result"
    }
   ],
   "source": [
    "startup_data.isna().sum()"
   ]
  },
  {
   "cell_type": "code",
   "execution_count": 6,
   "id": "2d96bf6b",
   "metadata": {
    "ExecuteTime": {
     "end_time": "2021-11-26T06:12:28.449211Z",
     "start_time": "2021-11-26T06:12:28.435207Z"
    }
   },
   "outputs": [
    {
     "data": {
      "text/html": [
       "<div>\n",
       "<style scoped>\n",
       "    .dataframe tbody tr th:only-of-type {\n",
       "        vertical-align: middle;\n",
       "    }\n",
       "\n",
       "    .dataframe tbody tr th {\n",
       "        vertical-align: top;\n",
       "    }\n",
       "\n",
       "    .dataframe thead th {\n",
       "        text-align: right;\n",
       "    }\n",
       "</style>\n",
       "<table border=\"1\" class=\"dataframe\">\n",
       "  <thead>\n",
       "    <tr style=\"text-align: right;\">\n",
       "      <th></th>\n",
       "      <th>R&amp;D Spend</th>\n",
       "      <th>Administration</th>\n",
       "      <th>Marketing Spend</th>\n",
       "      <th>State</th>\n",
       "      <th>Profit</th>\n",
       "    </tr>\n",
       "  </thead>\n",
       "  <tbody>\n",
       "    <tr>\n",
       "      <th>0</th>\n",
       "      <td>165349.20</td>\n",
       "      <td>136897.80</td>\n",
       "      <td>471784.10</td>\n",
       "      <td>New York</td>\n",
       "      <td>192261.83</td>\n",
       "    </tr>\n",
       "    <tr>\n",
       "      <th>1</th>\n",
       "      <td>162597.70</td>\n",
       "      <td>151377.59</td>\n",
       "      <td>443898.53</td>\n",
       "      <td>California</td>\n",
       "      <td>191792.06</td>\n",
       "    </tr>\n",
       "    <tr>\n",
       "      <th>2</th>\n",
       "      <td>153441.51</td>\n",
       "      <td>101145.55</td>\n",
       "      <td>407934.54</td>\n",
       "      <td>Florida</td>\n",
       "      <td>191050.39</td>\n",
       "    </tr>\n",
       "    <tr>\n",
       "      <th>3</th>\n",
       "      <td>144372.41</td>\n",
       "      <td>118671.85</td>\n",
       "      <td>383199.62</td>\n",
       "      <td>New York</td>\n",
       "      <td>182901.99</td>\n",
       "    </tr>\n",
       "    <tr>\n",
       "      <th>4</th>\n",
       "      <td>142107.34</td>\n",
       "      <td>91391.77</td>\n",
       "      <td>366168.42</td>\n",
       "      <td>Florida</td>\n",
       "      <td>166187.94</td>\n",
       "    </tr>\n",
       "  </tbody>\n",
       "</table>\n",
       "</div>"
      ],
      "text/plain": [
       "   R&D Spend  Administration  Marketing Spend       State     Profit\n",
       "0  165349.20       136897.80        471784.10    New York  192261.83\n",
       "1  162597.70       151377.59        443898.53  California  191792.06\n",
       "2  153441.51       101145.55        407934.54     Florida  191050.39\n",
       "3  144372.41       118671.85        383199.62    New York  182901.99\n",
       "4  142107.34        91391.77        366168.42     Florida  166187.94"
      ]
     },
     "execution_count": 6,
     "metadata": {},
     "output_type": "execute_result"
    }
   ],
   "source": [
    "startup_data.head()"
   ]
  },
  {
   "cell_type": "markdown",
   "id": "24fba07b",
   "metadata": {},
   "source": [
    "## 4.Data Preparation"
   ]
  },
  {
   "cell_type": "code",
   "execution_count": 7,
   "id": "5116f52b",
   "metadata": {
    "ExecuteTime": {
     "end_time": "2021-11-26T06:12:28.465214Z",
     "start_time": "2021-11-26T06:12:28.454211Z"
    }
   },
   "outputs": [],
   "source": [
    "del startup_data['State']"
   ]
  },
  {
   "cell_type": "code",
   "execution_count": 8,
   "id": "c9d2c23d",
   "metadata": {
    "ExecuteTime": {
     "end_time": "2021-11-26T06:12:28.481276Z",
     "start_time": "2021-11-26T06:12:28.467216Z"
    }
   },
   "outputs": [],
   "source": [
    "x=startup_data.iloc[:,0:3]\n",
    "y=startup_data['Profit']"
   ]
  },
  {
   "cell_type": "code",
   "execution_count": 9,
   "id": "e2c71e18",
   "metadata": {
    "ExecuteTime": {
     "end_time": "2021-11-26T06:12:28.496527Z",
     "start_time": "2021-11-26T06:12:28.483252Z"
    }
   },
   "outputs": [],
   "source": [
    "startup_data=startup_data.rename({'R&D Spend':'R_D_Spend','Marketing Spend':'Marketing_Spend'},axis=1)"
   ]
  },
  {
   "cell_type": "code",
   "execution_count": 10,
   "id": "33c57ae5",
   "metadata": {
    "ExecuteTime": {
     "end_time": "2021-11-26T06:12:28.512398Z",
     "start_time": "2021-11-26T06:12:28.499535Z"
    }
   },
   "outputs": [
    {
     "data": {
      "text/html": [
       "<div>\n",
       "<style scoped>\n",
       "    .dataframe tbody tr th:only-of-type {\n",
       "        vertical-align: middle;\n",
       "    }\n",
       "\n",
       "    .dataframe tbody tr th {\n",
       "        vertical-align: top;\n",
       "    }\n",
       "\n",
       "    .dataframe thead th {\n",
       "        text-align: right;\n",
       "    }\n",
       "</style>\n",
       "<table border=\"1\" class=\"dataframe\">\n",
       "  <thead>\n",
       "    <tr style=\"text-align: right;\">\n",
       "      <th></th>\n",
       "      <th>R_D_Spend</th>\n",
       "      <th>Administration</th>\n",
       "      <th>Marketing_Spend</th>\n",
       "      <th>Profit</th>\n",
       "    </tr>\n",
       "  </thead>\n",
       "  <tbody>\n",
       "    <tr>\n",
       "      <th>0</th>\n",
       "      <td>165349.20</td>\n",
       "      <td>136897.80</td>\n",
       "      <td>471784.10</td>\n",
       "      <td>192261.83</td>\n",
       "    </tr>\n",
       "    <tr>\n",
       "      <th>1</th>\n",
       "      <td>162597.70</td>\n",
       "      <td>151377.59</td>\n",
       "      <td>443898.53</td>\n",
       "      <td>191792.06</td>\n",
       "    </tr>\n",
       "    <tr>\n",
       "      <th>2</th>\n",
       "      <td>153441.51</td>\n",
       "      <td>101145.55</td>\n",
       "      <td>407934.54</td>\n",
       "      <td>191050.39</td>\n",
       "    </tr>\n",
       "    <tr>\n",
       "      <th>3</th>\n",
       "      <td>144372.41</td>\n",
       "      <td>118671.85</td>\n",
       "      <td>383199.62</td>\n",
       "      <td>182901.99</td>\n",
       "    </tr>\n",
       "    <tr>\n",
       "      <th>4</th>\n",
       "      <td>142107.34</td>\n",
       "      <td>91391.77</td>\n",
       "      <td>366168.42</td>\n",
       "      <td>166187.94</td>\n",
       "    </tr>\n",
       "  </tbody>\n",
       "</table>\n",
       "</div>"
      ],
      "text/plain": [
       "   R_D_Spend  Administration  Marketing_Spend     Profit\n",
       "0  165349.20       136897.80        471784.10  192261.83\n",
       "1  162597.70       151377.59        443898.53  191792.06\n",
       "2  153441.51       101145.55        407934.54  191050.39\n",
       "3  144372.41       118671.85        383199.62  182901.99\n",
       "4  142107.34        91391.77        366168.42  166187.94"
      ]
     },
     "execution_count": 10,
     "metadata": {},
     "output_type": "execute_result"
    }
   ],
   "source": [
    "startup_data.head()"
   ]
  },
  {
   "cell_type": "markdown",
   "id": "05a7a747",
   "metadata": {},
   "source": [
    "## Data Transformation"
   ]
  },
  {
   "cell_type": "code",
   "execution_count": 12,
   "id": "51d6a98d",
   "metadata": {
    "ExecuteTime": {
     "end_time": "2021-11-26T06:19:54.970177Z",
     "start_time": "2021-11-26T06:19:54.949084Z"
    }
   },
   "outputs": [],
   "source": [
    "from sklearn.preprocessing import StandardScaler\n",
    "x_scaled=StandardScaler().fit_transform(x)"
   ]
  },
  {
   "cell_type": "code",
   "execution_count": 13,
   "id": "56919996",
   "metadata": {
    "ExecuteTime": {
     "end_time": "2021-11-26T06:21:07.144494Z",
     "start_time": "2021-11-26T06:21:07.101972Z"
    }
   },
   "outputs": [
    {
     "data": {
      "text/html": [
       "<div>\n",
       "<style scoped>\n",
       "    .dataframe tbody tr th:only-of-type {\n",
       "        vertical-align: middle;\n",
       "    }\n",
       "\n",
       "    .dataframe tbody tr th {\n",
       "        vertical-align: top;\n",
       "    }\n",
       "\n",
       "    .dataframe thead th {\n",
       "        text-align: right;\n",
       "    }\n",
       "</style>\n",
       "<table border=\"1\" class=\"dataframe\">\n",
       "  <thead>\n",
       "    <tr style=\"text-align: right;\">\n",
       "      <th></th>\n",
       "      <th>R_D_Spend</th>\n",
       "      <th>Administration</th>\n",
       "      <th>Marketing_Spend</th>\n",
       "      <th>Profit</th>\n",
       "    </tr>\n",
       "  </thead>\n",
       "  <tbody>\n",
       "    <tr>\n",
       "      <th>0</th>\n",
       "      <td>2.016411</td>\n",
       "      <td>0.560753</td>\n",
       "      <td>2.153943</td>\n",
       "      <td>192261.83</td>\n",
       "    </tr>\n",
       "    <tr>\n",
       "      <th>1</th>\n",
       "      <td>1.955860</td>\n",
       "      <td>1.082807</td>\n",
       "      <td>1.923600</td>\n",
       "      <td>191792.06</td>\n",
       "    </tr>\n",
       "    <tr>\n",
       "      <th>2</th>\n",
       "      <td>1.754364</td>\n",
       "      <td>-0.728257</td>\n",
       "      <td>1.626528</td>\n",
       "      <td>191050.39</td>\n",
       "    </tr>\n",
       "    <tr>\n",
       "      <th>3</th>\n",
       "      <td>1.554784</td>\n",
       "      <td>-0.096365</td>\n",
       "      <td>1.422210</td>\n",
       "      <td>182901.99</td>\n",
       "    </tr>\n",
       "    <tr>\n",
       "      <th>4</th>\n",
       "      <td>1.504937</td>\n",
       "      <td>-1.079919</td>\n",
       "      <td>1.281528</td>\n",
       "      <td>166187.94</td>\n",
       "    </tr>\n",
       "    <tr>\n",
       "      <th>5</th>\n",
       "      <td>1.279800</td>\n",
       "      <td>-0.776239</td>\n",
       "      <td>1.254210</td>\n",
       "      <td>156991.12</td>\n",
       "    </tr>\n",
       "    <tr>\n",
       "      <th>6</th>\n",
       "      <td>1.340066</td>\n",
       "      <td>0.932147</td>\n",
       "      <td>-0.688150</td>\n",
       "      <td>156122.51</td>\n",
       "    </tr>\n",
       "    <tr>\n",
       "      <th>7</th>\n",
       "      <td>1.245057</td>\n",
       "      <td>0.871980</td>\n",
       "      <td>0.932186</td>\n",
       "      <td>155752.60</td>\n",
       "    </tr>\n",
       "    <tr>\n",
       "      <th>8</th>\n",
       "      <td>1.030369</td>\n",
       "      <td>0.986952</td>\n",
       "      <td>0.830887</td>\n",
       "      <td>152211.77</td>\n",
       "    </tr>\n",
       "    <tr>\n",
       "      <th>9</th>\n",
       "      <td>1.091819</td>\n",
       "      <td>-0.456640</td>\n",
       "      <td>0.776107</td>\n",
       "      <td>149759.96</td>\n",
       "    </tr>\n",
       "    <tr>\n",
       "      <th>10</th>\n",
       "      <td>0.620398</td>\n",
       "      <td>-0.387599</td>\n",
       "      <td>0.149807</td>\n",
       "      <td>146121.95</td>\n",
       "    </tr>\n",
       "    <tr>\n",
       "      <th>11</th>\n",
       "      <td>0.593085</td>\n",
       "      <td>-1.065540</td>\n",
       "      <td>0.319834</td>\n",
       "      <td>144259.40</td>\n",
       "    </tr>\n",
       "    <tr>\n",
       "      <th>12</th>\n",
       "      <td>0.443260</td>\n",
       "      <td>0.215449</td>\n",
       "      <td>0.320617</td>\n",
       "      <td>141585.52</td>\n",
       "    </tr>\n",
       "    <tr>\n",
       "      <th>13</th>\n",
       "      <td>0.402078</td>\n",
       "      <td>0.510179</td>\n",
       "      <td>0.343957</td>\n",
       "      <td>134307.35</td>\n",
       "    </tr>\n",
       "    <tr>\n",
       "      <th>14</th>\n",
       "      <td>1.017181</td>\n",
       "      <td>1.269199</td>\n",
       "      <td>0.375742</td>\n",
       "      <td>132602.65</td>\n",
       "    </tr>\n",
       "    <tr>\n",
       "      <th>15</th>\n",
       "      <td>0.897913</td>\n",
       "      <td>0.045868</td>\n",
       "      <td>0.419219</td>\n",
       "      <td>129917.04</td>\n",
       "    </tr>\n",
       "    <tr>\n",
       "      <th>16</th>\n",
       "      <td>0.094441</td>\n",
       "      <td>0.009118</td>\n",
       "      <td>0.440446</td>\n",
       "      <td>126992.93</td>\n",
       "    </tr>\n",
       "    <tr>\n",
       "      <th>17</th>\n",
       "      <td>0.460720</td>\n",
       "      <td>0.855666</td>\n",
       "      <td>0.591017</td>\n",
       "      <td>125370.37</td>\n",
       "    </tr>\n",
       "    <tr>\n",
       "      <th>18</th>\n",
       "      <td>0.396725</td>\n",
       "      <td>-0.258465</td>\n",
       "      <td>0.692992</td>\n",
       "      <td>124266.90</td>\n",
       "    </tr>\n",
       "    <tr>\n",
       "      <th>19</th>\n",
       "      <td>0.279442</td>\n",
       "      <td>1.159837</td>\n",
       "      <td>-1.743127</td>\n",
       "      <td>122776.86</td>\n",
       "    </tr>\n",
       "    <tr>\n",
       "      <th>20</th>\n",
       "      <td>0.055726</td>\n",
       "      <td>-0.269588</td>\n",
       "      <td>0.723926</td>\n",
       "      <td>118474.03</td>\n",
       "    </tr>\n",
       "    <tr>\n",
       "      <th>21</th>\n",
       "      <td>0.102724</td>\n",
       "      <td>1.169186</td>\n",
       "      <td>0.732788</td>\n",
       "      <td>111313.02</td>\n",
       "    </tr>\n",
       "    <tr>\n",
       "      <th>22</th>\n",
       "      <td>0.006007</td>\n",
       "      <td>0.051850</td>\n",
       "      <td>0.762376</td>\n",
       "      <td>110352.25</td>\n",
       "    </tr>\n",
       "    <tr>\n",
       "      <th>23</th>\n",
       "      <td>-0.136201</td>\n",
       "      <td>-0.562211</td>\n",
       "      <td>0.774349</td>\n",
       "      <td>108733.99</td>\n",
       "    </tr>\n",
       "    <tr>\n",
       "      <th>24</th>\n",
       "      <td>0.073115</td>\n",
       "      <td>-0.795469</td>\n",
       "      <td>-0.581939</td>\n",
       "      <td>108552.04</td>\n",
       "    </tr>\n",
       "    <tr>\n",
       "      <th>25</th>\n",
       "      <td>-0.199312</td>\n",
       "      <td>0.656489</td>\n",
       "      <td>-0.603517</td>\n",
       "      <td>107404.34</td>\n",
       "    </tr>\n",
       "    <tr>\n",
       "      <th>26</th>\n",
       "      <td>0.035370</td>\n",
       "      <td>0.821718</td>\n",
       "      <td>-0.635835</td>\n",
       "      <td>105733.54</td>\n",
       "    </tr>\n",
       "    <tr>\n",
       "      <th>27</th>\n",
       "      <td>-0.035519</td>\n",
       "      <td>0.235069</td>\n",
       "      <td>1.174271</td>\n",
       "      <td>105008.31</td>\n",
       "    </tr>\n",
       "    <tr>\n",
       "      <th>28</th>\n",
       "      <td>-0.168793</td>\n",
       "      <td>2.210141</td>\n",
       "      <td>-0.767189</td>\n",
       "      <td>103282.38</td>\n",
       "    </tr>\n",
       "    <tr>\n",
       "      <th>29</th>\n",
       "      <td>-0.178609</td>\n",
       "      <td>1.142457</td>\n",
       "      <td>-0.858134</td>\n",
       "      <td>101004.64</td>\n",
       "    </tr>\n",
       "    <tr>\n",
       "      <th>30</th>\n",
       "      <td>-0.258074</td>\n",
       "      <td>-0.205629</td>\n",
       "      <td>-0.990357</td>\n",
       "      <td>99937.59</td>\n",
       "    </tr>\n",
       "    <tr>\n",
       "      <th>31</th>\n",
       "      <td>-0.276958</td>\n",
       "      <td>1.130554</td>\n",
       "      <td>-1.014419</td>\n",
       "      <td>97483.56</td>\n",
       "    </tr>\n",
       "    <tr>\n",
       "      <th>32</th>\n",
       "      <td>-0.226949</td>\n",
       "      <td>0.283924</td>\n",
       "      <td>-1.362450</td>\n",
       "      <td>97427.84</td>\n",
       "    </tr>\n",
       "    <tr>\n",
       "      <th>33</th>\n",
       "      <td>-0.401129</td>\n",
       "      <td>-0.659324</td>\n",
       "      <td>0.029817</td>\n",
       "      <td>96778.92</td>\n",
       "    </tr>\n",
       "    <tr>\n",
       "      <th>34</th>\n",
       "      <td>-0.600682</td>\n",
       "      <td>1.310535</td>\n",
       "      <td>-0.001879</td>\n",
       "      <td>96712.80</td>\n",
       "    </tr>\n",
       "    <tr>\n",
       "      <th>35</th>\n",
       "      <td>-0.609750</td>\n",
       "      <td>-1.308658</td>\n",
       "      <td>-0.045493</td>\n",
       "      <td>96479.51</td>\n",
       "    </tr>\n",
       "    <tr>\n",
       "      <th>36</th>\n",
       "      <td>-0.991570</td>\n",
       "      <td>0.205925</td>\n",
       "      <td>-0.081763</td>\n",
       "      <td>90708.19</td>\n",
       "    </tr>\n",
       "    <tr>\n",
       "      <th>37</th>\n",
       "      <td>-0.652532</td>\n",
       "      <td>-2.525994</td>\n",
       "      <td>-0.115608</td>\n",
       "      <td>89949.14</td>\n",
       "    </tr>\n",
       "    <tr>\n",
       "      <th>38</th>\n",
       "      <td>-1.177178</td>\n",
       "      <td>-1.997270</td>\n",
       "      <td>-0.212785</td>\n",
       "      <td>81229.06</td>\n",
       "    </tr>\n",
       "    <tr>\n",
       "      <th>39</th>\n",
       "      <td>-0.773820</td>\n",
       "      <td>-1.383122</td>\n",
       "      <td>-0.297583</td>\n",
       "      <td>81005.76</td>\n",
       "    </tr>\n",
       "    <tr>\n",
       "      <th>40</th>\n",
       "      <td>-0.989577</td>\n",
       "      <td>-0.100900</td>\n",
       "      <td>-0.315786</td>\n",
       "      <td>78239.91</td>\n",
       "    </tr>\n",
       "    <tr>\n",
       "      <th>41</th>\n",
       "      <td>-1.008534</td>\n",
       "      <td>-1.320796</td>\n",
       "      <td>-0.384552</td>\n",
       "      <td>77798.83</td>\n",
       "    </tr>\n",
       "    <tr>\n",
       "      <th>42</th>\n",
       "      <td>-1.102106</td>\n",
       "      <td>-0.906938</td>\n",
       "      <td>-0.520596</td>\n",
       "      <td>71498.49</td>\n",
       "    </tr>\n",
       "    <tr>\n",
       "      <th>43</th>\n",
       "      <td>-1.281134</td>\n",
       "      <td>0.217682</td>\n",
       "      <td>-1.449605</td>\n",
       "      <td>69758.98</td>\n",
       "    </tr>\n",
       "    <tr>\n",
       "      <th>44</th>\n",
       "      <td>-1.134305</td>\n",
       "      <td>1.206419</td>\n",
       "      <td>-1.509074</td>\n",
       "      <td>65200.33</td>\n",
       "    </tr>\n",
       "    <tr>\n",
       "      <th>45</th>\n",
       "      <td>-1.600350</td>\n",
       "      <td>0.101254</td>\n",
       "      <td>-1.727400</td>\n",
       "      <td>64926.08</td>\n",
       "    </tr>\n",
       "    <tr>\n",
       "      <th>46</th>\n",
       "      <td>-1.593413</td>\n",
       "      <td>-0.199322</td>\n",
       "      <td>0.711122</td>\n",
       "      <td>49490.75</td>\n",
       "    </tr>\n",
       "    <tr>\n",
       "      <th>47</th>\n",
       "      <td>-1.622362</td>\n",
       "      <td>0.507722</td>\n",
       "      <td>-1.743127</td>\n",
       "      <td>42559.73</td>\n",
       "    </tr>\n",
       "    <tr>\n",
       "      <th>48</th>\n",
       "      <td>-1.610433</td>\n",
       "      <td>-2.509409</td>\n",
       "      <td>-1.743127</td>\n",
       "      <td>35673.41</td>\n",
       "    </tr>\n",
       "    <tr>\n",
       "      <th>49</th>\n",
       "      <td>-1.622362</td>\n",
       "      <td>-0.157226</td>\n",
       "      <td>-1.369985</td>\n",
       "      <td>14681.40</td>\n",
       "    </tr>\n",
       "  </tbody>\n",
       "</table>\n",
       "</div>"
      ],
      "text/plain": [
       "    R_D_Spend  Administration  Marketing_Spend     Profit\n",
       "0    2.016411        0.560753         2.153943  192261.83\n",
       "1    1.955860        1.082807         1.923600  191792.06\n",
       "2    1.754364       -0.728257         1.626528  191050.39\n",
       "3    1.554784       -0.096365         1.422210  182901.99\n",
       "4    1.504937       -1.079919         1.281528  166187.94\n",
       "5    1.279800       -0.776239         1.254210  156991.12\n",
       "6    1.340066        0.932147        -0.688150  156122.51\n",
       "7    1.245057        0.871980         0.932186  155752.60\n",
       "8    1.030369        0.986952         0.830887  152211.77\n",
       "9    1.091819       -0.456640         0.776107  149759.96\n",
       "10   0.620398       -0.387599         0.149807  146121.95\n",
       "11   0.593085       -1.065540         0.319834  144259.40\n",
       "12   0.443260        0.215449         0.320617  141585.52\n",
       "13   0.402078        0.510179         0.343957  134307.35\n",
       "14   1.017181        1.269199         0.375742  132602.65\n",
       "15   0.897913        0.045868         0.419219  129917.04\n",
       "16   0.094441        0.009118         0.440446  126992.93\n",
       "17   0.460720        0.855666         0.591017  125370.37\n",
       "18   0.396725       -0.258465         0.692992  124266.90\n",
       "19   0.279442        1.159837        -1.743127  122776.86\n",
       "20   0.055726       -0.269588         0.723926  118474.03\n",
       "21   0.102724        1.169186         0.732788  111313.02\n",
       "22   0.006007        0.051850         0.762376  110352.25\n",
       "23  -0.136201       -0.562211         0.774349  108733.99\n",
       "24   0.073115       -0.795469        -0.581939  108552.04\n",
       "25  -0.199312        0.656489        -0.603517  107404.34\n",
       "26   0.035370        0.821718        -0.635835  105733.54\n",
       "27  -0.035519        0.235069         1.174271  105008.31\n",
       "28  -0.168793        2.210141        -0.767189  103282.38\n",
       "29  -0.178609        1.142457        -0.858134  101004.64\n",
       "30  -0.258074       -0.205629        -0.990357   99937.59\n",
       "31  -0.276958        1.130554        -1.014419   97483.56\n",
       "32  -0.226949        0.283924        -1.362450   97427.84\n",
       "33  -0.401129       -0.659324         0.029817   96778.92\n",
       "34  -0.600682        1.310535        -0.001879   96712.80\n",
       "35  -0.609750       -1.308658        -0.045493   96479.51\n",
       "36  -0.991570        0.205925        -0.081763   90708.19\n",
       "37  -0.652532       -2.525994        -0.115608   89949.14\n",
       "38  -1.177178       -1.997270        -0.212785   81229.06\n",
       "39  -0.773820       -1.383122        -0.297583   81005.76\n",
       "40  -0.989577       -0.100900        -0.315786   78239.91\n",
       "41  -1.008534       -1.320796        -0.384552   77798.83\n",
       "42  -1.102106       -0.906938        -0.520596   71498.49\n",
       "43  -1.281134        0.217682        -1.449605   69758.98\n",
       "44  -1.134305        1.206419        -1.509074   65200.33\n",
       "45  -1.600350        0.101254        -1.727400   64926.08\n",
       "46  -1.593413       -0.199322         0.711122   49490.75\n",
       "47  -1.622362        0.507722        -1.743127   42559.73\n",
       "48  -1.610433       -2.509409        -1.743127   35673.41\n",
       "49  -1.622362       -0.157226        -1.369985   14681.40"
      ]
     },
     "execution_count": 13,
     "metadata": {},
     "output_type": "execute_result"
    }
   ],
   "source": [
    "scaled_data_df=pd.DataFrame(data=x_scaled,columns=('R_D_Spend','Administration','Marketing_Spend'))\n",
    "scaled_data_df['Profit']=y\n",
    "scaled_data_df"
   ]
  },
  {
   "cell_type": "code",
   "execution_count": 14,
   "id": "7ca7bb47",
   "metadata": {
    "ExecuteTime": {
     "end_time": "2021-11-26T06:21:27.061535Z",
     "start_time": "2021-11-26T06:21:27.053505Z"
    }
   },
   "outputs": [
    {
     "data": {
      "text/plain": [
       "(50, 4)"
      ]
     },
     "execution_count": 14,
     "metadata": {},
     "output_type": "execute_result"
    }
   ],
   "source": [
    "scaled_data_df.shape"
   ]
  },
  {
   "cell_type": "code",
   "execution_count": 15,
   "id": "f2a19902",
   "metadata": {
    "ExecuteTime": {
     "end_time": "2021-11-26T06:21:35.346385Z",
     "start_time": "2021-11-26T06:21:35.325380Z"
    }
   },
   "outputs": [
    {
     "data": {
      "text/plain": [
       "R_D_Spend          1.199041e-16\n",
       "Administration    -2.919887e-16\n",
       "Marketing_Spend   -9.325873e-17\n",
       "Profit             1.120126e+05\n",
       "dtype: float64"
      ]
     },
     "execution_count": 15,
     "metadata": {},
     "output_type": "execute_result"
    }
   ],
   "source": [
    "scaled_data_df.mean()"
   ]
  },
  {
   "cell_type": "code",
   "execution_count": 16,
   "id": "3fd98d99",
   "metadata": {
    "ExecuteTime": {
     "end_time": "2021-11-26T06:22:02.176051Z",
     "start_time": "2021-11-26T06:22:02.165018Z"
    }
   },
   "outputs": [
    {
     "data": {
      "text/plain": [
       "R_D_Spend              1.010153\n",
       "Administration         1.010153\n",
       "Marketing_Spend        1.010153\n",
       "Profit             40306.180338\n",
       "dtype: float64"
      ]
     },
     "execution_count": 16,
     "metadata": {},
     "output_type": "execute_result"
    }
   ],
   "source": [
    "scaled_data_df.std()"
   ]
  },
  {
   "cell_type": "markdown",
   "id": "5e63e10e",
   "metadata": {},
   "source": [
    "## Model Building"
   ]
  },
  {
   "cell_type": "code",
   "execution_count": 22,
   "id": "514abee3",
   "metadata": {
    "ExecuteTime": {
     "end_time": "2021-11-26T06:25:21.494632Z",
     "start_time": "2021-11-26T06:25:21.470214Z"
    }
   },
   "outputs": [],
   "source": [
    "x_scaled=scaled_data_df.iloc[:,:3]\n",
    "y_scaled=scaled_data_df[['Profit']]"
   ]
  },
  {
   "cell_type": "code",
   "execution_count": 23,
   "id": "93212dd5",
   "metadata": {
    "ExecuteTime": {
     "end_time": "2021-11-26T06:25:21.806886Z",
     "start_time": "2021-11-26T06:25:21.789884Z"
    }
   },
   "outputs": [],
   "source": [
    "from sklearn.model_selection import train_test_split\n",
    "x_train,x_test,y_train,y_test=train_test_split(x_scaled,y_scaled,test_size=0.20)"
   ]
  },
  {
   "cell_type": "code",
   "execution_count": 24,
   "id": "308ddfa1",
   "metadata": {
    "ExecuteTime": {
     "end_time": "2021-11-26T06:25:22.149478Z",
     "start_time": "2021-11-26T06:25:22.133979Z"
    }
   },
   "outputs": [
    {
     "data": {
      "text/plain": [
       "((40, 3), (40, 1))"
      ]
     },
     "execution_count": 24,
     "metadata": {},
     "output_type": "execute_result"
    }
   ],
   "source": [
    "x_train.shape,y_train.shape"
   ]
  },
  {
   "cell_type": "code",
   "execution_count": 25,
   "id": "f652131f",
   "metadata": {
    "ExecuteTime": {
     "end_time": "2021-11-26T06:25:53.049278Z",
     "start_time": "2021-11-26T06:25:53.038286Z"
    }
   },
   "outputs": [
    {
     "data": {
      "text/plain": [
       "((10, 3), (10, 1))"
      ]
     },
     "execution_count": 25,
     "metadata": {},
     "output_type": "execute_result"
    }
   ],
   "source": [
    "x_test.shape,y_test.shape"
   ]
  },
  {
   "cell_type": "markdown",
   "id": "c5d5275b",
   "metadata": {},
   "source": [
    "## Assumptions check"
   ]
  },
  {
   "cell_type": "code",
   "execution_count": 26,
   "id": "f9eb7f88",
   "metadata": {
    "ExecuteTime": {
     "end_time": "2021-11-26T06:26:33.798317Z",
     "start_time": "2021-11-26T06:26:33.764736Z"
    }
   },
   "outputs": [
    {
     "data": {
      "text/html": [
       "<div>\n",
       "<style scoped>\n",
       "    .dataframe tbody tr th:only-of-type {\n",
       "        vertical-align: middle;\n",
       "    }\n",
       "\n",
       "    .dataframe tbody tr th {\n",
       "        vertical-align: top;\n",
       "    }\n",
       "\n",
       "    .dataframe thead th {\n",
       "        text-align: right;\n",
       "    }\n",
       "</style>\n",
       "<table border=\"1\" class=\"dataframe\">\n",
       "  <thead>\n",
       "    <tr style=\"text-align: right;\">\n",
       "      <th></th>\n",
       "      <th>R_D_Spend</th>\n",
       "      <th>Administration</th>\n",
       "      <th>Marketing_Spend</th>\n",
       "      <th>Profit</th>\n",
       "    </tr>\n",
       "  </thead>\n",
       "  <tbody>\n",
       "    <tr>\n",
       "      <th>R_D_Spend</th>\n",
       "      <td>1.000000</td>\n",
       "      <td>0.241955</td>\n",
       "      <td>0.724248</td>\n",
       "      <td>0.972900</td>\n",
       "    </tr>\n",
       "    <tr>\n",
       "      <th>Administration</th>\n",
       "      <td>0.241955</td>\n",
       "      <td>1.000000</td>\n",
       "      <td>-0.032154</td>\n",
       "      <td>0.200717</td>\n",
       "    </tr>\n",
       "    <tr>\n",
       "      <th>Marketing_Spend</th>\n",
       "      <td>0.724248</td>\n",
       "      <td>-0.032154</td>\n",
       "      <td>1.000000</td>\n",
       "      <td>0.747766</td>\n",
       "    </tr>\n",
       "    <tr>\n",
       "      <th>Profit</th>\n",
       "      <td>0.972900</td>\n",
       "      <td>0.200717</td>\n",
       "      <td>0.747766</td>\n",
       "      <td>1.000000</td>\n",
       "    </tr>\n",
       "  </tbody>\n",
       "</table>\n",
       "</div>"
      ],
      "text/plain": [
       "                 R_D_Spend  Administration  Marketing_Spend    Profit\n",
       "R_D_Spend         1.000000        0.241955         0.724248  0.972900\n",
       "Administration    0.241955        1.000000        -0.032154  0.200717\n",
       "Marketing_Spend   0.724248       -0.032154         1.000000  0.747766\n",
       "Profit            0.972900        0.200717         0.747766  1.000000"
      ]
     },
     "execution_count": 26,
     "metadata": {},
     "output_type": "execute_result"
    }
   ],
   "source": [
    "scaled_data_df.corr()"
   ]
  },
  {
   "cell_type": "markdown",
   "id": "13260058",
   "metadata": {},
   "source": [
    "## Inference\n",
    "From the correlation table, R&D and Marketing spend is highly correlated with the profit"
   ]
  },
  {
   "cell_type": "code",
   "execution_count": 29,
   "id": "c0e45e3a",
   "metadata": {
    "ExecuteTime": {
     "end_time": "2021-11-26T06:36:41.612159Z",
     "start_time": "2021-11-26T06:36:41.524864Z"
    }
   },
   "outputs": [
    {
     "data": {
      "text/plain": [
       "<AxesSubplot:>"
      ]
     },
     "execution_count": 29,
     "metadata": {},
     "output_type": "execute_result"
    },
    {
     "data": {
      "image/png": "[encoded data removed]",
      "text/plain": [
       "<Figure size 432x288 with 1 Axes>"
      ]
     },
     "metadata": {
      "needs_background": "light"
     },
     "output_type": "display_data"
    }
   ],
   "source": [
    "startup_data.boxplot()"
   ]
  },
  {
   "cell_type": "code",
   "execution_count": 33,
   "id": "57eaf3a3",
   "metadata": {
    "ExecuteTime": {
     "end_time": "2021-11-26T06:38:01.270395Z",
     "start_time": "2021-11-26T06:38:01.158167Z"
    }
   },
   "outputs": [
    {
     "data": {
      "image/png": "[encoded data removed]",
      "text/plain": [
       "<Figure size 432x288 with 1 Axes>"
      ]
     },
     "metadata": {
      "needs_background": "light"
     },
     "output_type": "display_data"
    }
   ],
   "source": [
    "sns.distplot(startup_data['R_D_Spend'],color='blue'),sns.distplot(startup_data['Administration'],color='orange')\n",
    "plt.show()"
   ]
  },
  {
   "cell_type": "code",
   "execution_count": 35,
   "id": "02c4eaa6",
   "metadata": {
    "ExecuteTime": {
     "end_time": "2021-11-26T06:38:41.052620Z",
     "start_time": "2021-11-26T06:38:40.926195Z"
    }
   },
   "outputs": [
    {
     "data": {
      "image/png": "[encoded data removed]",
      "text/plain": [
       "<Figure size 432x288 with 1 Axes>"
      ]
     },
     "metadata": {
      "needs_background": "light"
     },
     "output_type": "display_data"
    }
   ],
   "source": [
    "sns.distplot(startup_data['Marketing_Spend'],color='green'),sns.distplot(startup_data['Profit'],color='blue')\n",
    "plt.show()"
   ]
  },
  {
   "cell_type": "code",
   "execution_count": 36,
   "id": "7250f5c3",
   "metadata": {
    "ExecuteTime": {
     "end_time": "2021-11-26T06:39:44.202114Z",
     "start_time": "2021-11-26T06:39:42.686710Z"
    }
   },
   "outputs": [
    {
     "data": {
      "text/plain": [
       "<seaborn.axisgrid.PairGrid at 0x2c8971d4280>"
      ]
     },
     "execution_count": 36,
     "metadata": {},
     "output_type": "execute_result"
    },
    {
     "data": {
      "image/png": "[encoded data removed]",
      "text/plain": [
       "<Figure size 720x720 with 20 Axes>"
      ]
     },
     "metadata": {
      "needs_background": "light"
     },
     "output_type": "display_data"
    }
   ],
   "source": [
    "sns.pairplot(scaled_data_df)"
   ]
  },
  {
   "cell_type": "markdown",
   "id": "1ae028f9",
   "metadata": {},
   "source": [
    "## Model Training"
   ]
  },
  {
   "cell_type": "code",
   "execution_count": 37,
   "id": "0a236790",
   "metadata": {
    "ExecuteTime": {
     "end_time": "2021-11-26T06:41:37.133418Z",
     "start_time": "2021-11-26T06:41:37.110415Z"
    }
   },
   "outputs": [
    {
     "data": {
      "text/plain": [
       "LinearRegression()"
      ]
     },
     "execution_count": 37,
     "metadata": {},
     "output_type": "execute_result"
    }
   ],
   "source": [
    "from sklearn.linear_model import LinearRegression\n",
    "linear_model=LinearRegression()\n",
    "linear_model"
   ]
  },
  {
   "cell_type": "code",
   "execution_count": 38,
   "id": "0069b761",
   "metadata": {
    "ExecuteTime": {
     "end_time": "2021-11-26T06:41:59.437233Z",
     "start_time": "2021-11-26T06:41:59.390431Z"
    }
   },
   "outputs": [
    {
     "data": {
      "text/plain": [
       "LinearRegression()"
      ]
     },
     "execution_count": 38,
     "metadata": {},
     "output_type": "execute_result"
    }
   ],
   "source": [
    "linear_model.fit(x_scaled,y_scaled)"
   ]
  },
  {
   "cell_type": "markdown",
   "id": "897c65cb",
   "metadata": {},
   "source": [
    "## Model Testing"
   ]
  },
  {
   "cell_type": "code",
   "execution_count": 39,
   "id": "925efe38",
   "metadata": {
    "ExecuteTime": {
     "end_time": "2021-11-26T06:43:34.711852Z",
     "start_time": "2021-11-26T06:43:34.694533Z"
    }
   },
   "outputs": [],
   "source": [
    "y_pred_train=linear_model.predict(x_train)\n",
    "y_pred_test=linear_model.predict(x_test)"
   ]
  },
  {
   "cell_type": "markdown",
   "id": "80207391",
   "metadata": {},
   "source": [
    "## Model Evaluation"
   ]
  },
  {
   "cell_type": "code",
   "execution_count": 40,
   "id": "709c6536",
   "metadata": {
    "ExecuteTime": {
     "end_time": "2021-11-26T06:44:33.185022Z",
     "start_time": "2021-11-26T06:44:33.175014Z"
    }
   },
   "outputs": [],
   "source": [
    "from sklearn.metrics import mean_squared_error,r2_score"
   ]
  },
  {
   "cell_type": "code",
   "execution_count": 41,
   "id": "00a82344",
   "metadata": {
    "ExecuteTime": {
     "end_time": "2021-11-26T06:44:55.480166Z",
     "start_time": "2021-11-26T06:44:55.471164Z"
    }
   },
   "outputs": [
    {
     "name": "stdout",
     "output_type": "stream",
     "text": [
      "R2 score for train data:  0.938464789126257\n",
      "R2 score for test data:  0.9785806868586105\n"
     ]
    }
   ],
   "source": [
    "print('R2 score for train data: ',r2_score(y_train,y_pred_train))\n",
    "print('R2 score for test data: ',r2_score(y_test,y_pred_test))"
   ]
  },
  {
   "cell_type": "markdown",
   "id": "e26faf08",
   "metadata": {},
   "source": [
    "## Model Optimization"
   ]
  },
  {
   "cell_type": "code",
   "execution_count": 43,
   "id": "e71824a1",
   "metadata": {
    "ExecuteTime": {
     "end_time": "2021-11-26T06:47:59.869301Z",
     "start_time": "2021-11-26T06:47:59.758948Z"
    }
   },
   "outputs": [],
   "source": [
    "import statsmodels.formula.api as smf"
   ]
  },
  {
   "cell_type": "code",
   "execution_count": 45,
   "id": "dd2f3109",
   "metadata": {
    "ExecuteTime": {
     "end_time": "2021-11-26T06:50:34.821300Z",
     "start_time": "2021-11-26T06:50:34.800033Z"
    }
   },
   "outputs": [
    {
     "data": {
      "text/plain": [
       "<statsmodels.regression.linear_model.OLS at 0x2c89ace7ac0>"
      ]
     },
     "execution_count": 45,
     "metadata": {},
     "output_type": "execute_result"
    }
   ],
   "source": [
    "smf.ols('Profit~R_D_Spend + Administration + Marketing_Spend',data=scaled_data_df)"
   ]
  },
  {
   "cell_type": "code",
   "execution_count": 49,
   "id": "e823f677",
   "metadata": {
    "ExecuteTime": {
     "end_time": "2021-11-26T06:53:34.566400Z",
     "start_time": "2021-11-26T06:53:34.552405Z"
    }
   },
   "outputs": [],
   "source": [
    "methods=(('Profit ~ R_D_Spend + Administration + Marketing_Spend'),\n",
    "         ('Profit ~ R_D_Spend + Administration'),\n",
    "         ('Profit ~ R_D_Spend  + Marketing_Spend'),\n",
    "         ('Profit ~ Administration + Marketing_Spend'),\n",
    "         ('Profit ~ R_D_Spend'),\n",
    "         ('Profit ~ Administration'),\n",
    "         ('Profit ~ Marketing_Spend'))"
   ]
  },
  {
   "cell_type": "code",
   "execution_count": 50,
   "id": "cab8f0af",
   "metadata": {
    "ExecuteTime": {
     "end_time": "2021-11-26T06:53:35.237936Z",
     "start_time": "2021-11-26T06:53:35.176265Z"
    }
   },
   "outputs": [
    {
     "name": "stdout",
     "output_type": "stream",
     "text": [
      "Profit ~ R_D_Spend + Administration + Marketing_Spend\n",
      "Intercept          112012.639200\n",
      "R_D_Spend           36612.429551\n",
      "Administration       -743.773321\n",
      "Marketing_Spend      3296.263048\n",
      "dtype: float64\n",
      "\n",
      "pvalue is:\n",
      "             index             0\n",
      "0        Intercept  2.053195e-52\n",
      "1        R_D_Spend  2.634968e-22\n",
      "2   Administration  6.017551e-01\n",
      "3  Marketing_Spend  1.047168e-01\n",
      "\n",
      "Administration is an insignificant feature, since pvalue 0.6017551078497427 is more than 0.05\n",
      "\n",
      "Marketing_Spend is an insignificant feature, since pvalue 0.10471681926658044 is more than 0.05\n",
      "\n",
      "aic value is:  1058.7714985998055\n",
      "rsqaure value is:  0.9507459940683246\n",
      "_____________________________________________________________________________________________________\n",
      "Profit ~ R_D_Spend + Administration\n",
      "Intercept         112012.639200\n",
      "R_D_Spend          39175.430231\n",
      "Administration     -1469.892410\n",
      "dtype: float64\n",
      "\n",
      "pvalue is:\n",
      "            index             0\n",
      "0       Intercept  6.180876e-53\n",
      "1       R_D_Spend  2.278348e-31\n",
      "2  Administration  2.888932e-01\n",
      "\n",
      "Administration is an insignificant feature, since pvalue 0.2888932453803835 is more than 0.05\n",
      "\n",
      "aic value is:  1059.6636934567293\n",
      "rsqaure value is:  0.9478129385009173\n",
      "_____________________________________________________________________________________________________\n",
      "Profit ~ R_D_Spend  + Marketing_Spend\n",
      "Intercept          112012.639200\n",
      "R_D_Spend           36197.508284\n",
      "Marketing_Spend      3620.684194\n",
      "dtype: float64\n",
      "\n",
      "pvalue is:\n",
      "             index             0\n",
      "0        Intercept  1.841244e-53\n",
      "1        R_D_Spend  6.040433e-24\n",
      "2  Marketing_Spend  6.003040e-02\n",
      "\n",
      "Marketing_Spend is an insignificant feature, since pvalue 0.06003039719112971 is more than 0.05\n",
      "\n",
      "aic value is:  1057.070772191826\n",
      "rsqaure value is:  0.9504503015559763\n",
      "_____________________________________________________________________________________________________\n",
      "Profit ~ Administration + Marketing_Spend\n",
      "Intercept          112012.639200\n",
      "Administration       8977.454253\n",
      "Marketing_Spend     30125.321934\n",
      "dtype: float64\n",
      "\n",
      "pvalue is:\n",
      "             index             0\n",
      "0        Intercept  8.096953e-33\n",
      "1   Administration  1.729198e-02\n",
      "2  Marketing_Spend  9.727245e-11\n",
      "\n",
      "aic value is:  1160.2648038638672\n",
      "rsqaure value is:  0.6097229746770664\n",
      "_____________________________________________________________________________________________________\n",
      "Profit ~ R_D_Spend\n",
      "Intercept    112012.639200\n",
      "R_D_Spend     38819.782053\n",
      "dtype: float64\n",
      "\n",
      "pvalue is:\n",
      "       index             0\n",
      "0  Intercept  8.831782e-54\n",
      "1  R_D_Spend  3.500322e-32\n",
      "\n",
      "aic value is:  1058.8730295624773\n",
      "rsqaure value is:  0.9465353160804392\n",
      "_____________________________________________________________________________________________________\n",
      "Profit ~ Administration\n",
      "Intercept         112012.639200\n",
      "Administration      8008.808413\n",
      "dtype: float64\n",
      "\n",
      "pvalue is:\n",
      "            index             0\n",
      "0       Intercept  8.689851e-25\n",
      "1  Administration  1.622174e-01\n",
      "\n",
      "Administration is an insignificant feature, since pvalue 0.1622173947035822 is more than 0.05\n",
      "\n",
      "aic value is:  1203.2536701858016\n",
      "rsqaure value is:  0.04028714077757223\n",
      "_____________________________________________________________________________________________________\n",
      "Profit ~ Marketing_Spend\n",
      "Intercept          112012.639200\n",
      "Marketing_Spend     29836.661991\n",
      "dtype: float64\n",
      "\n",
      "pvalue is:\n",
      "             index             0\n",
      "0        Intercept  2.807978e-32\n",
      "1  Marketing_Spend  4.381073e-10\n",
      "\n",
      "aic value is:  1164.3567921009328\n",
      "rsqaure value is:  0.5591535746115515\n",
      "_____________________________________________________________________________________________________\n"
     ]
    }
   ],
   "source": [
    "for model in methods:\n",
    "    models=smf.ols(model,data=scaled_data_df).fit()\n",
    "    print(model)\n",
    "    params=models.params\n",
    "    print(params)\n",
    "    pvalue=models.pvalues\n",
    "    pvalue_data=pvalue.to_frame()\n",
    "    pvalue_data.reset_index(inplace=True)\n",
    "    pvalue_data.rename({'index':'features'},axis=1)\n",
    "    print('')\n",
    "    print('pvalue is:')\n",
    "    print(pvalue_data)\n",
    "    for i in range(len(pvalue_data)):\n",
    "        if i!=0:\n",
    "            if pvalue_data.iloc[i,1]>0.05:\n",
    "                print('')\n",
    "                print('{} is an insignificant feature, since pvalue {} is more than 0.05'\n",
    "                  .format(pvalue_data.iloc[i,0],pvalue_data.iloc[i,1]))\n",
    "    print('')\n",
    "    print('aic value is: ',models.aic)\n",
    "    print('rsqaure value is: ',models.rsquared)\n",
    "    print('_____________________________________________________________________________________________________')"
   ]
  },
  {
   "cell_type": "markdown",
   "id": "357daaec",
   "metadata": {},
   "source": [
    "### Inference\n",
    "\n",
    "1)The model with least aic value and higher rsquare value is considered comparatively as a good model\n",
    "\n",
    "2)In our model, the model which include all the three column gives better result(least aic, more rsquare)\n",
    "\n",
    "3)In most of the cases, administration become the insignificant feature towards model predictions\n",
    "\n",
    "4)When model is built separetly by using individual feature, then their individual contribution is high"
   ]
  },
  {
   "cell_type": "markdown",
   "id": "fcbae1b0",
   "metadata": {},
   "source": [
    "## Calculating Variance Influence Factor"
   ]
  },
  {
   "cell_type": "code",
   "execution_count": 51,
   "id": "440f4230",
   "metadata": {
    "ExecuteTime": {
     "end_time": "2021-11-26T07:02:45.793777Z",
     "start_time": "2021-11-26T07:02:45.761396Z"
    }
   },
   "outputs": [],
   "source": [
    "reg_rd=smf.ols('R_D_Spend ~ Administration + Marketing_Spend',data=scaled_data_df).fit().rsquared\n",
    "vif_rd=1/(1-reg_rd)\n",
    "\n",
    "reg_ad=smf.ols('Administration ~ R_D_Spend + Marketing_Spend',data=scaled_data_df).fit().rsquared\n",
    "vif_ad=1/(1-reg_ad)\n",
    "\n",
    "reg_ms=smf.ols('Marketing_Spend ~ R_D_Spend + Administration ',data=scaled_data_df).fit().rsquared\n",
    "vif_ms=1/(1-reg_ms)"
   ]
  },
  {
   "cell_type": "code",
   "execution_count": 52,
   "id": "83b2d5c3",
   "metadata": {
    "ExecuteTime": {
     "end_time": "2021-11-26T07:02:55.623988Z",
     "start_time": "2021-11-26T07:02:55.608946Z"
    }
   },
   "outputs": [
    {
     "data": {
      "text/html": [
       "<div>\n",
       "<style scoped>\n",
       "    .dataframe tbody tr th:only-of-type {\n",
       "        vertical-align: middle;\n",
       "    }\n",
       "\n",
       "    .dataframe tbody tr th {\n",
       "        vertical-align: top;\n",
       "    }\n",
       "\n",
       "    .dataframe thead th {\n",
       "        text-align: right;\n",
       "    }\n",
       "</style>\n",
       "<table border=\"1\" class=\"dataframe\">\n",
       "  <thead>\n",
       "    <tr style=\"text-align: right;\">\n",
       "      <th></th>\n",
       "      <th>feature</th>\n",
       "      <th>VIF</th>\n",
       "    </tr>\n",
       "  </thead>\n",
       "  <tbody>\n",
       "    <tr>\n",
       "      <th>0</th>\n",
       "      <td>R_D_Spend</td>\n",
       "      <td>2.468903</td>\n",
       "    </tr>\n",
       "    <tr>\n",
       "      <th>1</th>\n",
       "      <td>Administration</td>\n",
       "      <td>1.175091</td>\n",
       "    </tr>\n",
       "    <tr>\n",
       "      <th>2</th>\n",
       "      <td>Marketing_Spend</td>\n",
       "      <td>2.326773</td>\n",
       "    </tr>\n",
       "  </tbody>\n",
       "</table>\n",
       "</div>"
      ],
      "text/plain": [
       "           feature       VIF\n",
       "0        R_D_Spend  2.468903\n",
       "1   Administration  1.175091\n",
       "2  Marketing_Spend  2.326773"
      ]
     },
     "execution_count": 52,
     "metadata": {},
     "output_type": "execute_result"
    }
   ],
   "source": [
    "vif_table=pd.DataFrame({'feature':['R_D_Spend','Administration','Marketing_Spend'],'VIF':[vif_rd,vif_ad,vif_ms]})\n",
    "vif_table"
   ]
  },
  {
   "cell_type": "markdown",
   "id": "778ca1ab",
   "metadata": {},
   "source": [
    "Here, vif value lies between 1 to 3, hence the features are moderately correlated"
   ]
  },
  {
   "cell_type": "markdown",
   "id": "90b633a4",
   "metadata": {},
   "source": [
    "## Residual Analysis"
   ]
  },
  {
   "cell_type": "markdown",
   "id": "759b6321",
   "metadata": {},
   "source": [
    "### Test for Normality of Residuals (Q-Q Plot)"
   ]
  },
  {
   "cell_type": "code",
   "execution_count": 55,
   "id": "9e00d4eb",
   "metadata": {
    "ExecuteTime": {
     "end_time": "2021-11-26T07:04:48.594770Z",
     "start_time": "2021-11-26T07:04:48.584658Z"
    }
   },
   "outputs": [],
   "source": [
    "modelqq=smf.ols('Profit ~ R_D_Spend + Administration + Marketing_Spend',data=scaled_data_df).fit()"
   ]
  },
  {
   "cell_type": "code",
   "execution_count": 56,
   "id": "4dea01cb",
   "metadata": {
    "ExecuteTime": {
     "end_time": "2021-11-26T07:05:03.115471Z",
     "start_time": "2021-11-26T07:05:02.209107Z"
    }
   },
   "outputs": [
    {
     "data": {
      "image/png": "[encoded data removed]",
      "text/plain": [
       "<Figure size 432x288 with 1 Axes>"
      ]
     },
     "metadata": {
      "needs_background": "light"
     },
     "output_type": "display_data"
    }
   ],
   "source": [
    "import statsmodels.api as sm\n",
    "qqplot=sm.qqplot(modelqq.resid,line='q')"
   ]
  },
  {
   "cell_type": "markdown",
   "id": "daf2ed48",
   "metadata": {},
   "source": [
    "### Inference\n",
    "The Q-Q plot significes that, the data are moderately normally distributed"
   ]
  },
  {
   "cell_type": "code",
   "execution_count": 57,
   "id": "e54440e7",
   "metadata": {
    "ExecuteTime": {
     "end_time": "2021-11-26T07:06:11.617238Z",
     "start_time": "2021-11-26T07:06:11.602150Z"
    }
   },
   "outputs": [
    {
     "data": {
      "text/plain": [
       "[array([14, 15, 49], dtype=int64)]"
      ]
     },
     "execution_count": 57,
     "metadata": {},
     "output_type": "execute_result"
    }
   ],
   "source": [
    "list(np.where(modelqq.resid<-15000))"
   ]
  },
  {
   "cell_type": "markdown",
   "id": "d545959b",
   "metadata": {},
   "source": [
    "## Residual Plot for Homoscedasticity"
   ]
  },
  {
   "cell_type": "code",
   "execution_count": 58,
   "id": "5b32ed0d",
   "metadata": {
    "ExecuteTime": {
     "end_time": "2021-11-26T07:07:21.926018Z",
     "start_time": "2021-11-26T07:07:21.913512Z"
    }
   },
   "outputs": [],
   "source": [
    "def get_standardized_values(vals):\n",
    "    return(vals-vals.mean())/vals.std()"
   ]
  },
  {
   "cell_type": "code",
   "execution_count": 59,
   "id": "eacad77b",
   "metadata": {
    "ExecuteTime": {
     "end_time": "2021-11-26T07:07:57.543533Z",
     "start_time": "2021-11-26T07:07:57.369494Z"
    }
   },
   "outputs": [
    {
     "data": {
      "image/png": "[encoded data removed]",
      "text/plain": [
       "<Figure size 432x288 with 1 Axes>"
      ]
     },
     "metadata": {
      "needs_background": "light"
     },
     "output_type": "display_data"
    }
   ],
   "source": [
    "plt.scatter(get_standardized_values(modelqq.fittedvalues),get_standardized_values(modelqq.resid))\n",
    "plt.title('Residual plot')\n",
    "plt.xlabel('standardized fitted value')\n",
    "plt.ylabel('standardized residual value')\n",
    "plt.show()"
   ]
  },
  {
   "cell_type": "markdown",
   "id": "176e1008",
   "metadata": {},
   "source": [
    "### Residual Vs Regressors"
   ]
  },
  {
   "cell_type": "code",
   "execution_count": 60,
   "id": "aedf9240",
   "metadata": {
    "ExecuteTime": {
     "end_time": "2021-11-26T07:09:01.949983Z",
     "start_time": "2021-11-26T07:08:59.905387Z"
    }
   },
   "outputs": [
    {
     "name": "stdout",
     "output_type": "stream",
     "text": [
      "R_D_Spend\n"
     ]
    },
    {
     "data": {
      "image/png": "[encoded data removed]",
      "text/plain": [
       "<Figure size 1080x576 with 4 Axes>"
      ]
     },
     "metadata": {
      "needs_background": "light"
     },
     "output_type": "display_data"
    },
    {
     "name": "stdout",
     "output_type": "stream",
     "text": [
      "Administration\n"
     ]
    },
    {
     "data": {
      "image/png": "[encoded data removed]",
      "text/plain": [
       "<Figure size 1080x576 with 4 Axes>"
      ]
     },
     "metadata": {
      "needs_background": "light"
     },
     "output_type": "display_data"
    },
    {
     "name": "stdout",
     "output_type": "stream",
     "text": [
      "Marketing_Spend\n"
     ]
    },
    {
     "data": {
      "image/png": "[encoded data removed]",
      "text/plain": [
       "<Figure size 1080x576 with 4 Axes>"
      ]
     },
     "metadata": {
      "needs_background": "light"
     },
     "output_type": "display_data"
    }
   ],
   "source": [
    "graphics=['R_D_Spend','Administration','Marketing_Spend']\n",
    "for i in graphics:\n",
    "    print(i)\n",
    "    fig=plt.figure(figsize=(15,8))\n",
    "    fig=sm.graphics.plot_regress_exog(modelqq,i,fig=fig)\n",
    "    plt.show()"
   ]
  },
  {
   "cell_type": "markdown",
   "id": "d4aad7c4",
   "metadata": {},
   "source": [
    "## Model Deletion Diagonosis"
   ]
  },
  {
   "cell_type": "markdown",
   "id": "eab58a1f",
   "metadata": {},
   "source": [
    "### Detecting outliers / Influencers"
   ]
  },
  {
   "cell_type": "markdown",
   "id": "2639cc24",
   "metadata": {},
   "source": [
    "## Cook's Distance"
   ]
  },
  {
   "cell_type": "code",
   "execution_count": 61,
   "id": "1216754c",
   "metadata": {
    "ExecuteTime": {
     "end_time": "2021-11-26T07:14:06.842147Z",
     "start_time": "2021-11-26T07:14:06.818973Z"
    }
   },
   "outputs": [],
   "source": [
    "model_influence=modelqq.get_influence()\n",
    "c,_=model_influence.cooks_distance"
   ]
  },
  {
   "cell_type": "code",
   "execution_count": 63,
   "id": "d8ed9e13",
   "metadata": {
    "ExecuteTime": {
     "end_time": "2021-11-26T07:14:22.836924Z",
     "start_time": "2021-11-26T07:14:22.018705Z"
    }
   },
   "outputs": [
    {
     "data": {
      "text/plain": [
       "<StemContainer object of 3 artists>"
      ]
     },
     "execution_count": 63,
     "metadata": {},
     "output_type": "execute_result"
    },
    {
     "data": {
      "image/png": "[encoded data removed]",
      "text/plain": [
       "<Figure size 1440x576 with 1 Axes>"
      ]
     },
     "metadata": {
      "needs_background": "light"
     },
     "output_type": "display_data"
    }
   ],
   "source": [
    "fig_cook=plt.figure(figsize=(20,8))\n",
    "plt.stem(np.arange(len(startup_data)),np.round(c,3))"
   ]
  },
  {
   "cell_type": "code",
   "execution_count": 64,
   "id": "ab06616c",
   "metadata": {
    "ExecuteTime": {
     "end_time": "2021-11-26T07:14:40.592424Z",
     "start_time": "2021-11-26T07:14:40.586418Z"
    }
   },
   "outputs": [
    {
     "data": {
      "text/plain": [
       "(49, 0.2880822927543265)"
      ]
     },
     "execution_count": 64,
     "metadata": {},
     "output_type": "execute_result"
    }
   ],
   "source": [
    "(np.argmax(c),np.max(c))"
   ]
  },
  {
   "cell_type": "markdown",
   "id": "6075ebcc",
   "metadata": {},
   "source": [
    "### Inference\n",
    "The cook's distance clearly shows that the point 49 is an outlier"
   ]
  },
  {
   "cell_type": "markdown",
   "id": "df2ca1f9",
   "metadata": {},
   "source": [
    "## High Influence point"
   ]
  },
  {
   "cell_type": "code",
   "execution_count": 65,
   "id": "dc60fd47",
   "metadata": {
    "ExecuteTime": {
     "end_time": "2021-11-26T07:15:56.211577Z",
     "start_time": "2021-11-26T07:15:55.995019Z"
    }
   },
   "outputs": [
    {
     "data": {
      "image/png": "[encoded data removed]",
      "text/plain": [
       "<Figure size 432x288 with 1 Axes>"
      ]
     },
     "metadata": {
      "needs_background": "light"
     },
     "output_type": "display_data"
    }
   ],
   "source": [
    "from statsmodels.graphics.regressionplots import influence_plot\n",
    "influence_plot(modelqq)\n",
    "plt.show()"
   ]
  },
  {
   "cell_type": "code",
   "execution_count": 66,
   "id": "acd49b07",
   "metadata": {
    "ExecuteTime": {
     "end_time": "2021-11-26T07:16:23.806415Z",
     "start_time": "2021-11-26T07:16:23.794414Z"
    }
   },
   "outputs": [
    {
     "data": {
      "text/plain": [
       "0.30000000000000004"
      ]
     },
     "execution_count": 66,
     "metadata": {},
     "output_type": "execute_result"
    }
   ],
   "source": [
    "k=startup_data.shape[1]\n",
    "n=startup_data.shape[0]\n",
    "leverage_cutoff=3*((k +1)/n)\n",
    "leverage_cutoff"
   ]
  },
  {
   "cell_type": "markdown",
   "id": "80f57504",
   "metadata": {},
   "source": [
    "## Model Optimization"
   ]
  },
  {
   "cell_type": "code",
   "execution_count": 67,
   "id": "2e3cad16",
   "metadata": {
    "ExecuteTime": {
     "end_time": "2021-11-26T07:16:54.570732Z",
     "start_time": "2021-11-26T07:16:54.545708Z"
    }
   },
   "outputs": [
    {
     "data": {
      "text/html": [
       "<div>\n",
       "<style scoped>\n",
       "    .dataframe tbody tr th:only-of-type {\n",
       "        vertical-align: middle;\n",
       "    }\n",
       "\n",
       "    .dataframe tbody tr th {\n",
       "        vertical-align: top;\n",
       "    }\n",
       "\n",
       "    .dataframe thead th {\n",
       "        text-align: right;\n",
       "    }\n",
       "</style>\n",
       "<table border=\"1\" class=\"dataframe\">\n",
       "  <thead>\n",
       "    <tr style=\"text-align: right;\">\n",
       "      <th></th>\n",
       "      <th>R_D_Spend</th>\n",
       "      <th>Administration</th>\n",
       "      <th>Marketing_Spend</th>\n",
       "      <th>Profit</th>\n",
       "    </tr>\n",
       "  </thead>\n",
       "  <tbody>\n",
       "    <tr>\n",
       "      <th>0</th>\n",
       "      <td>165349.20</td>\n",
       "      <td>136897.80</td>\n",
       "      <td>471784.10</td>\n",
       "      <td>192261.83</td>\n",
       "    </tr>\n",
       "    <tr>\n",
       "      <th>1</th>\n",
       "      <td>162597.70</td>\n",
       "      <td>151377.59</td>\n",
       "      <td>443898.53</td>\n",
       "      <td>191792.06</td>\n",
       "    </tr>\n",
       "    <tr>\n",
       "      <th>2</th>\n",
       "      <td>153441.51</td>\n",
       "      <td>101145.55</td>\n",
       "      <td>407934.54</td>\n",
       "      <td>191050.39</td>\n",
       "    </tr>\n",
       "    <tr>\n",
       "      <th>3</th>\n",
       "      <td>144372.41</td>\n",
       "      <td>118671.85</td>\n",
       "      <td>383199.62</td>\n",
       "      <td>182901.99</td>\n",
       "    </tr>\n",
       "    <tr>\n",
       "      <th>4</th>\n",
       "      <td>142107.34</td>\n",
       "      <td>91391.77</td>\n",
       "      <td>366168.42</td>\n",
       "      <td>166187.94</td>\n",
       "    </tr>\n",
       "    <tr>\n",
       "      <th>5</th>\n",
       "      <td>131876.90</td>\n",
       "      <td>99814.71</td>\n",
       "      <td>362861.36</td>\n",
       "      <td>156991.12</td>\n",
       "    </tr>\n",
       "    <tr>\n",
       "      <th>6</th>\n",
       "      <td>134615.46</td>\n",
       "      <td>147198.87</td>\n",
       "      <td>127716.82</td>\n",
       "      <td>156122.51</td>\n",
       "    </tr>\n",
       "    <tr>\n",
       "      <th>7</th>\n",
       "      <td>130298.13</td>\n",
       "      <td>145530.06</td>\n",
       "      <td>323876.68</td>\n",
       "      <td>155752.60</td>\n",
       "    </tr>\n",
       "    <tr>\n",
       "      <th>8</th>\n",
       "      <td>120542.52</td>\n",
       "      <td>148718.95</td>\n",
       "      <td>311613.29</td>\n",
       "      <td>152211.77</td>\n",
       "    </tr>\n",
       "    <tr>\n",
       "      <th>9</th>\n",
       "      <td>123334.88</td>\n",
       "      <td>108679.17</td>\n",
       "      <td>304981.62</td>\n",
       "      <td>149759.96</td>\n",
       "    </tr>\n",
       "    <tr>\n",
       "      <th>10</th>\n",
       "      <td>101913.08</td>\n",
       "      <td>110594.11</td>\n",
       "      <td>229160.95</td>\n",
       "      <td>146121.95</td>\n",
       "    </tr>\n",
       "    <tr>\n",
       "      <th>11</th>\n",
       "      <td>100671.96</td>\n",
       "      <td>91790.61</td>\n",
       "      <td>249744.55</td>\n",
       "      <td>144259.40</td>\n",
       "    </tr>\n",
       "    <tr>\n",
       "      <th>12</th>\n",
       "      <td>93863.75</td>\n",
       "      <td>127320.38</td>\n",
       "      <td>249839.44</td>\n",
       "      <td>141585.52</td>\n",
       "    </tr>\n",
       "    <tr>\n",
       "      <th>13</th>\n",
       "      <td>91992.39</td>\n",
       "      <td>135495.07</td>\n",
       "      <td>252664.93</td>\n",
       "      <td>134307.35</td>\n",
       "    </tr>\n",
       "    <tr>\n",
       "      <th>14</th>\n",
       "      <td>119943.24</td>\n",
       "      <td>156547.42</td>\n",
       "      <td>256512.92</td>\n",
       "      <td>132602.65</td>\n",
       "    </tr>\n",
       "    <tr>\n",
       "      <th>15</th>\n",
       "      <td>114523.61</td>\n",
       "      <td>122616.84</td>\n",
       "      <td>261776.23</td>\n",
       "      <td>129917.04</td>\n",
       "    </tr>\n",
       "    <tr>\n",
       "      <th>16</th>\n",
       "      <td>78013.11</td>\n",
       "      <td>121597.55</td>\n",
       "      <td>264346.06</td>\n",
       "      <td>126992.93</td>\n",
       "    </tr>\n",
       "    <tr>\n",
       "      <th>17</th>\n",
       "      <td>94657.16</td>\n",
       "      <td>145077.58</td>\n",
       "      <td>282574.31</td>\n",
       "      <td>125370.37</td>\n",
       "    </tr>\n",
       "    <tr>\n",
       "      <th>18</th>\n",
       "      <td>91749.16</td>\n",
       "      <td>114175.79</td>\n",
       "      <td>294919.57</td>\n",
       "      <td>124266.90</td>\n",
       "    </tr>\n",
       "    <tr>\n",
       "      <th>19</th>\n",
       "      <td>86419.70</td>\n",
       "      <td>153514.11</td>\n",
       "      <td>0.00</td>\n",
       "      <td>122776.86</td>\n",
       "    </tr>\n",
       "    <tr>\n",
       "      <th>20</th>\n",
       "      <td>76253.86</td>\n",
       "      <td>113867.30</td>\n",
       "      <td>298664.47</td>\n",
       "      <td>118474.03</td>\n",
       "    </tr>\n",
       "    <tr>\n",
       "      <th>21</th>\n",
       "      <td>78389.47</td>\n",
       "      <td>153773.43</td>\n",
       "      <td>299737.29</td>\n",
       "      <td>111313.02</td>\n",
       "    </tr>\n",
       "    <tr>\n",
       "      <th>22</th>\n",
       "      <td>73994.56</td>\n",
       "      <td>122782.75</td>\n",
       "      <td>303319.26</td>\n",
       "      <td>110352.25</td>\n",
       "    </tr>\n",
       "    <tr>\n",
       "      <th>23</th>\n",
       "      <td>67532.53</td>\n",
       "      <td>105751.03</td>\n",
       "      <td>304768.73</td>\n",
       "      <td>108733.99</td>\n",
       "    </tr>\n",
       "    <tr>\n",
       "      <th>24</th>\n",
       "      <td>77044.01</td>\n",
       "      <td>99281.34</td>\n",
       "      <td>140574.81</td>\n",
       "      <td>108552.04</td>\n",
       "    </tr>\n",
       "    <tr>\n",
       "      <th>25</th>\n",
       "      <td>64664.71</td>\n",
       "      <td>139553.16</td>\n",
       "      <td>137962.62</td>\n",
       "      <td>107404.34</td>\n",
       "    </tr>\n",
       "    <tr>\n",
       "      <th>26</th>\n",
       "      <td>75328.87</td>\n",
       "      <td>144135.98</td>\n",
       "      <td>134050.07</td>\n",
       "      <td>105733.54</td>\n",
       "    </tr>\n",
       "    <tr>\n",
       "      <th>27</th>\n",
       "      <td>72107.60</td>\n",
       "      <td>127864.55</td>\n",
       "      <td>353183.81</td>\n",
       "      <td>105008.31</td>\n",
       "    </tr>\n",
       "    <tr>\n",
       "      <th>28</th>\n",
       "      <td>66051.52</td>\n",
       "      <td>182645.56</td>\n",
       "      <td>118148.20</td>\n",
       "      <td>103282.38</td>\n",
       "    </tr>\n",
       "    <tr>\n",
       "      <th>29</th>\n",
       "      <td>65605.48</td>\n",
       "      <td>153032.06</td>\n",
       "      <td>107138.38</td>\n",
       "      <td>101004.64</td>\n",
       "    </tr>\n",
       "    <tr>\n",
       "      <th>30</th>\n",
       "      <td>61994.48</td>\n",
       "      <td>115641.28</td>\n",
       "      <td>91131.24</td>\n",
       "      <td>99937.59</td>\n",
       "    </tr>\n",
       "    <tr>\n",
       "      <th>31</th>\n",
       "      <td>61136.38</td>\n",
       "      <td>152701.92</td>\n",
       "      <td>88218.23</td>\n",
       "      <td>97483.56</td>\n",
       "    </tr>\n",
       "    <tr>\n",
       "      <th>32</th>\n",
       "      <td>63408.86</td>\n",
       "      <td>129219.61</td>\n",
       "      <td>46085.25</td>\n",
       "      <td>97427.84</td>\n",
       "    </tr>\n",
       "    <tr>\n",
       "      <th>33</th>\n",
       "      <td>55493.95</td>\n",
       "      <td>103057.49</td>\n",
       "      <td>214634.81</td>\n",
       "      <td>96778.92</td>\n",
       "    </tr>\n",
       "    <tr>\n",
       "      <th>34</th>\n",
       "      <td>46426.07</td>\n",
       "      <td>157693.92</td>\n",
       "      <td>210797.67</td>\n",
       "      <td>96712.80</td>\n",
       "    </tr>\n",
       "    <tr>\n",
       "      <th>35</th>\n",
       "      <td>46014.02</td>\n",
       "      <td>85047.44</td>\n",
       "      <td>205517.64</td>\n",
       "      <td>96479.51</td>\n",
       "    </tr>\n",
       "    <tr>\n",
       "      <th>36</th>\n",
       "      <td>28663.76</td>\n",
       "      <td>127056.21</td>\n",
       "      <td>201126.82</td>\n",
       "      <td>90708.19</td>\n",
       "    </tr>\n",
       "    <tr>\n",
       "      <th>37</th>\n",
       "      <td>44069.95</td>\n",
       "      <td>51283.14</td>\n",
       "      <td>197029.42</td>\n",
       "      <td>89949.14</td>\n",
       "    </tr>\n",
       "    <tr>\n",
       "      <th>38</th>\n",
       "      <td>20229.59</td>\n",
       "      <td>65947.93</td>\n",
       "      <td>185265.10</td>\n",
       "      <td>81229.06</td>\n",
       "    </tr>\n",
       "    <tr>\n",
       "      <th>39</th>\n",
       "      <td>38558.51</td>\n",
       "      <td>82982.09</td>\n",
       "      <td>174999.30</td>\n",
       "      <td>81005.76</td>\n",
       "    </tr>\n",
       "    <tr>\n",
       "      <th>40</th>\n",
       "      <td>28754.33</td>\n",
       "      <td>118546.05</td>\n",
       "      <td>172795.67</td>\n",
       "      <td>78239.91</td>\n",
       "    </tr>\n",
       "    <tr>\n",
       "      <th>41</th>\n",
       "      <td>27892.92</td>\n",
       "      <td>84710.77</td>\n",
       "      <td>164470.71</td>\n",
       "      <td>77798.83</td>\n",
       "    </tr>\n",
       "    <tr>\n",
       "      <th>42</th>\n",
       "      <td>23640.93</td>\n",
       "      <td>96189.63</td>\n",
       "      <td>148001.11</td>\n",
       "      <td>71498.49</td>\n",
       "    </tr>\n",
       "    <tr>\n",
       "      <th>43</th>\n",
       "      <td>15505.73</td>\n",
       "      <td>127382.30</td>\n",
       "      <td>35534.17</td>\n",
       "      <td>69758.98</td>\n",
       "    </tr>\n",
       "    <tr>\n",
       "      <th>44</th>\n",
       "      <td>22177.74</td>\n",
       "      <td>154806.14</td>\n",
       "      <td>28334.72</td>\n",
       "      <td>65200.33</td>\n",
       "    </tr>\n",
       "    <tr>\n",
       "      <th>45</th>\n",
       "      <td>1000.23</td>\n",
       "      <td>124153.04</td>\n",
       "      <td>1903.93</td>\n",
       "      <td>64926.08</td>\n",
       "    </tr>\n",
       "    <tr>\n",
       "      <th>46</th>\n",
       "      <td>1315.46</td>\n",
       "      <td>115816.21</td>\n",
       "      <td>297114.46</td>\n",
       "      <td>49490.75</td>\n",
       "    </tr>\n",
       "    <tr>\n",
       "      <th>47</th>\n",
       "      <td>0.00</td>\n",
       "      <td>135426.92</td>\n",
       "      <td>0.00</td>\n",
       "      <td>42559.73</td>\n",
       "    </tr>\n",
       "    <tr>\n",
       "      <th>48</th>\n",
       "      <td>542.05</td>\n",
       "      <td>51743.15</td>\n",
       "      <td>0.00</td>\n",
       "      <td>35673.41</td>\n",
       "    </tr>\n",
       "    <tr>\n",
       "      <th>49</th>\n",
       "      <td>0.00</td>\n",
       "      <td>116983.80</td>\n",
       "      <td>45173.06</td>\n",
       "      <td>14681.40</td>\n",
       "    </tr>\n",
       "  </tbody>\n",
       "</table>\n",
       "</div>"
      ],
      "text/plain": [
       "    R_D_Spend  Administration  Marketing_Spend     Profit\n",
       "0   165349.20       136897.80        471784.10  192261.83\n",
       "1   162597.70       151377.59        443898.53  191792.06\n",
       "2   153441.51       101145.55        407934.54  191050.39\n",
       "3   144372.41       118671.85        383199.62  182901.99\n",
       "4   142107.34        91391.77        366168.42  166187.94\n",
       "5   131876.90        99814.71        362861.36  156991.12\n",
       "6   134615.46       147198.87        127716.82  156122.51\n",
       "7   130298.13       145530.06        323876.68  155752.60\n",
       "8   120542.52       148718.95        311613.29  152211.77\n",
       "9   123334.88       108679.17        304981.62  149759.96\n",
       "10  101913.08       110594.11        229160.95  146121.95\n",
       "11  100671.96        91790.61        249744.55  144259.40\n",
       "12   93863.75       127320.38        249839.44  141585.52\n",
       "13   91992.39       135495.07        252664.93  134307.35\n",
       "14  119943.24       156547.42        256512.92  132602.65\n",
       "15  114523.61       122616.84        261776.23  129917.04\n",
       "16   78013.11       121597.55        264346.06  126992.93\n",
       "17   94657.16       145077.58        282574.31  125370.37\n",
       "18   91749.16       114175.79        294919.57  124266.90\n",
       "19   86419.70       153514.11             0.00  122776.86\n",
       "20   76253.86       113867.30        298664.47  118474.03\n",
       "21   78389.47       153773.43        299737.29  111313.02\n",
       "22   73994.56       122782.75        303319.26  110352.25\n",
       "23   67532.53       105751.03        304768.73  108733.99\n",
       "24   77044.01        99281.34        140574.81  108552.04\n",
       "25   64664.71       139553.16        137962.62  107404.34\n",
       "26   75328.87       144135.98        134050.07  105733.54\n",
       "27   72107.60       127864.55        353183.81  105008.31\n",
       "28   66051.52       182645.56        118148.20  103282.38\n",
       "29   65605.48       153032.06        107138.38  101004.64\n",
       "30   61994.48       115641.28         91131.24   99937.59\n",
       "31   61136.38       152701.92         88218.23   97483.56\n",
       "32   63408.86       129219.61         46085.25   97427.84\n",
       "33   55493.95       103057.49        214634.81   96778.92\n",
       "34   46426.07       157693.92        210797.67   96712.80\n",
       "35   46014.02        85047.44        205517.64   96479.51\n",
       "36   28663.76       127056.21        201126.82   90708.19\n",
       "37   44069.95        51283.14        197029.42   89949.14\n",
       "38   20229.59        65947.93        185265.10   81229.06\n",
       "39   38558.51        82982.09        174999.30   81005.76\n",
       "40   28754.33       118546.05        172795.67   78239.91\n",
       "41   27892.92        84710.77        164470.71   77798.83\n",
       "42   23640.93        96189.63        148001.11   71498.49\n",
       "43   15505.73       127382.30         35534.17   69758.98\n",
       "44   22177.74       154806.14         28334.72   65200.33\n",
       "45    1000.23       124153.04          1903.93   64926.08\n",
       "46    1315.46       115816.21        297114.46   49490.75\n",
       "47       0.00       135426.92             0.00   42559.73\n",
       "48     542.05        51743.15             0.00   35673.41\n",
       "49       0.00       116983.80         45173.06   14681.40"
      ]
     },
     "execution_count": 67,
     "metadata": {},
     "output_type": "execute_result"
    }
   ],
   "source": [
    "startups_data_new=startup_data\n",
    "startups_data_new"
   ]
  },
  {
   "cell_type": "code",
   "execution_count": 68,
   "id": "57aca0a9",
   "metadata": {
    "ExecuteTime": {
     "end_time": "2021-11-26T07:17:07.665388Z",
     "start_time": "2021-11-26T07:17:07.658386Z"
    }
   },
   "outputs": [],
   "source": [
    "startups_data_new=startups_data_new.drop(startups_data_new.index[49])\n",
    "startups_data_new=startups_data_new.drop(startups_data_new.index[48])\n",
    "startups_data_new=startups_data_new.drop(startups_data_new.index[46])\n",
    "startups_data_new=startups_data_new.drop(startups_data_new.index[14]).reset_index()"
   ]
  },
  {
   "cell_type": "code",
   "execution_count": 70,
   "id": "4231b3ed",
   "metadata": {
    "ExecuteTime": {
     "end_time": "2021-11-26T07:17:26.241621Z",
     "start_time": "2021-11-26T07:17:26.234620Z"
    }
   },
   "outputs": [
    {
     "data": {
      "text/plain": [
       "((46, 5), (50, 4))"
      ]
     },
     "execution_count": 70,
     "metadata": {},
     "output_type": "execute_result"
    }
   ],
   "source": [
    "startups_data_new.shape,scaled_data_df.shape"
   ]
  },
  {
   "cell_type": "markdown",
   "id": "17fe0a24",
   "metadata": {},
   "source": [
    "## Final Model"
   ]
  },
  {
   "cell_type": "code",
   "execution_count": 72,
   "id": "f02189cc",
   "metadata": {
    "ExecuteTime": {
     "end_time": "2021-11-26T07:18:25.325523Z",
     "start_time": "2021-11-26T07:18:25.300037Z"
    }
   },
   "outputs": [],
   "source": [
    "model_final=smf.ols('Profit ~ R_D_Spend + Administration + Marketing_Spend',data=scaled_data_df).fit()"
   ]
  },
  {
   "cell_type": "code",
   "execution_count": 73,
   "id": "c26417e1",
   "metadata": {
    "ExecuteTime": {
     "end_time": "2021-11-26T07:18:36.431616Z",
     "start_time": "2021-11-26T07:18:36.418560Z"
    }
   },
   "outputs": [
    {
     "data": {
      "text/plain": [
       "(0.9507459940683246, 1058.7714985998055)"
      ]
     },
     "execution_count": 73,
     "metadata": {},
     "output_type": "execute_result"
    }
   ],
   "source": [
    "model_final.rsquared,model_final.aic"
   ]
  },
  {
   "cell_type": "code",
   "execution_count": 75,
   "id": "b4412442",
   "metadata": {
    "ExecuteTime": {
     "end_time": "2021-11-26T07:19:00.431162Z",
     "start_time": "2021-11-26T07:19:00.419157Z"
    }
   },
   "outputs": [],
   "source": [
    "model_final_ad=smf.ols('Profit ~ R_D_Spend + Marketing_Spend',data=scaled_data_df).fit()"
   ]
  },
  {
   "cell_type": "code",
   "execution_count": 76,
   "id": "0e341d04",
   "metadata": {
    "ExecuteTime": {
     "end_time": "2021-11-26T07:19:08.446986Z",
     "start_time": "2021-11-26T07:19:08.427922Z"
    }
   },
   "outputs": [
    {
     "data": {
      "text/plain": [
       "(0.9504503015559763, 1057.070772191826)"
      ]
     },
     "execution_count": 76,
     "metadata": {},
     "output_type": "execute_result"
    }
   ],
   "source": [
    "model_final_ad.rsquared,model_final_ad.aic"
   ]
  },
  {
   "cell_type": "markdown",
   "id": "0ff1e9f4",
   "metadata": {},
   "source": [
    "### Inference:\n",
    "\n",
    "The final model is bulit after dropping the outlier\n",
    "\n",
    "since,feature administration doen't contribute more towards the result, the model built after dropping door performs better than considering all feature (aic value decreases)"
   ]
  }
 ],
 "metadata": {
  "kernelspec": {
   "display_name": "Python 3",
   "language": "python",
   "name": "python3"
  },
  "language_info": {
   "codemirror_mode": {
    "name": "ipython",
    "version": 3
   },
   "file_extension": ".py",
   "mimetype": "text/x-python",
   "name": "python",
   "nbconvert_exporter": "python",
   "pygments_lexer": "ipython3",
   "version": "3.8.8"
  },
  "varInspector": {
   "cols": {
    "lenName": 16,
    "lenType": 16,
    "lenVar": 40
   },
   "kernels_config": {
    "python": {
     "delete_cmd_postfix": "",
     "delete_cmd_prefix": "del ",
     "library": "var_list.py",
     "varRefreshCmd": "print(var_dic_list())"
    },
    "r": {
     "delete_cmd_postfix": ") ",
     "delete_cmd_prefix": "rm(",
     "library": "var_list.r",
     "varRefreshCmd": "cat(var_dic_list()) "
    }
   },
   "types_to_exclude": [
    "module",
    "function",
    "builtin_function_or_method",
    "instance",
    "_Feature"
   ],
   "window_display": false
  }
 },
 "nbformat": 4,
 "nbformat_minor": 5
}
