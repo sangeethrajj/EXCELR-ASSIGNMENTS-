{
 "cells": [
  {
   "cell_type": "code",
   "execution_count": 1,
   "id": "357cd732",
   "metadata": {
    "ExecuteTime": {
     "end_time": "2021-12-05T16:47:55.735458Z",
     "start_time": "2021-12-05T16:47:54.202449Z"
    }
   },
   "outputs": [],
   "source": [
    "import pandas as pd\n",
    "import matplotlib.pyplot as plt\n",
    "import warnings\n",
    "warnings.filterwarnings('ignore')\n",
    "import seaborn as sns"
   ]
  },
  {
   "cell_type": "code",
   "execution_count": 2,
   "id": "f2663a8a",
   "metadata": {
    "ExecuteTime": {
     "end_time": "2021-12-05T16:47:55.782906Z",
     "start_time": "2021-12-05T16:47:55.738481Z"
    }
   },
   "outputs": [
    {
     "data": {
      "text/html": [
       "<div>\n",
       "<style scoped>\n",
       "    .dataframe tbody tr th:only-of-type {\n",
       "        vertical-align: middle;\n",
       "    }\n",
       "\n",
       "    .dataframe tbody tr th {\n",
       "        vertical-align: top;\n",
       "    }\n",
       "\n",
       "    .dataframe thead th {\n",
       "        text-align: right;\n",
       "    }\n",
       "</style>\n",
       "<table border=\"1\" class=\"dataframe\">\n",
       "  <thead>\n",
       "    <tr style=\"text-align: right;\">\n",
       "      <th></th>\n",
       "      <th>Sales</th>\n",
       "      <th>CompPrice</th>\n",
       "      <th>Income</th>\n",
       "      <th>Advertising</th>\n",
       "      <th>Population</th>\n",
       "      <th>Price</th>\n",
       "      <th>ShelveLoc</th>\n",
       "      <th>Age</th>\n",
       "      <th>Education</th>\n",
       "      <th>Urban</th>\n",
       "      <th>US</th>\n",
       "    </tr>\n",
       "  </thead>\n",
       "  <tbody>\n",
       "    <tr>\n",
       "      <th>0</th>\n",
       "      <td>9.50</td>\n",
       "      <td>138</td>\n",
       "      <td>73</td>\n",
       "      <td>11</td>\n",
       "      <td>276</td>\n",
       "      <td>120</td>\n",
       "      <td>Bad</td>\n",
       "      <td>42</td>\n",
       "      <td>17</td>\n",
       "      <td>Yes</td>\n",
       "      <td>Yes</td>\n",
       "    </tr>\n",
       "    <tr>\n",
       "      <th>1</th>\n",
       "      <td>11.22</td>\n",
       "      <td>111</td>\n",
       "      <td>48</td>\n",
       "      <td>16</td>\n",
       "      <td>260</td>\n",
       "      <td>83</td>\n",
       "      <td>Good</td>\n",
       "      <td>65</td>\n",
       "      <td>10</td>\n",
       "      <td>Yes</td>\n",
       "      <td>Yes</td>\n",
       "    </tr>\n",
       "    <tr>\n",
       "      <th>2</th>\n",
       "      <td>10.06</td>\n",
       "      <td>113</td>\n",
       "      <td>35</td>\n",
       "      <td>10</td>\n",
       "      <td>269</td>\n",
       "      <td>80</td>\n",
       "      <td>Medium</td>\n",
       "      <td>59</td>\n",
       "      <td>12</td>\n",
       "      <td>Yes</td>\n",
       "      <td>Yes</td>\n",
       "    </tr>\n",
       "    <tr>\n",
       "      <th>3</th>\n",
       "      <td>7.40</td>\n",
       "      <td>117</td>\n",
       "      <td>100</td>\n",
       "      <td>4</td>\n",
       "      <td>466</td>\n",
       "      <td>97</td>\n",
       "      <td>Medium</td>\n",
       "      <td>55</td>\n",
       "      <td>14</td>\n",
       "      <td>Yes</td>\n",
       "      <td>Yes</td>\n",
       "    </tr>\n",
       "    <tr>\n",
       "      <th>4</th>\n",
       "      <td>4.15</td>\n",
       "      <td>141</td>\n",
       "      <td>64</td>\n",
       "      <td>3</td>\n",
       "      <td>340</td>\n",
       "      <td>128</td>\n",
       "      <td>Bad</td>\n",
       "      <td>38</td>\n",
       "      <td>13</td>\n",
       "      <td>Yes</td>\n",
       "      <td>No</td>\n",
       "    </tr>\n",
       "  </tbody>\n",
       "</table>\n",
       "</div>"
      ],
      "text/plain": [
       "   Sales  CompPrice  Income  Advertising  Population  Price ShelveLoc  Age  \\\n",
       "0   9.50        138      73           11         276    120       Bad   42   \n",
       "1  11.22        111      48           16         260     83      Good   65   \n",
       "2  10.06        113      35           10         269     80    Medium   59   \n",
       "3   7.40        117     100            4         466     97    Medium   55   \n",
       "4   4.15        141      64            3         340    128       Bad   38   \n",
       "\n",
       "   Education Urban   US  \n",
       "0         17   Yes  Yes  \n",
       "1         10   Yes  Yes  \n",
       "2         12   Yes  Yes  \n",
       "3         14   Yes  Yes  \n",
       "4         13   Yes   No  "
      ]
     },
     "execution_count": 2,
     "metadata": {},
     "output_type": "execute_result"
    }
   ],
   "source": [
    "company_data=pd.read_csv(\"Company_Data.csv\")\n",
    "company_data.head()"
   ]
  },
  {
   "cell_type": "markdown",
   "id": "91e47fe3",
   "metadata": {},
   "source": [
    "### Initial investigation"
   ]
  },
  {
   "cell_type": "code",
   "execution_count": 3,
   "id": "1d16827e",
   "metadata": {
    "ExecuteTime": {
     "end_time": "2021-12-05T16:47:55.798895Z",
     "start_time": "2021-12-05T16:47:55.784891Z"
    }
   },
   "outputs": [
    {
     "data": {
      "text/plain": [
       "(400, 11)"
      ]
     },
     "execution_count": 3,
     "metadata": {},
     "output_type": "execute_result"
    }
   ],
   "source": [
    "company_data.shape"
   ]
  },
  {
   "cell_type": "code",
   "execution_count": 4,
   "id": "3b2bf20e",
   "metadata": {
    "ExecuteTime": {
     "end_time": "2021-12-05T16:47:55.814899Z",
     "start_time": "2021-12-05T16:47:55.801895Z"
    }
   },
   "outputs": [
    {
     "data": {
      "text/plain": [
       "Sales          float64\n",
       "CompPrice        int64\n",
       "Income           int64\n",
       "Advertising      int64\n",
       "Population       int64\n",
       "Price            int64\n",
       "ShelveLoc       object\n",
       "Age              int64\n",
       "Education        int64\n",
       "Urban           object\n",
       "US              object\n",
       "dtype: object"
      ]
     },
     "execution_count": 4,
     "metadata": {},
     "output_type": "execute_result"
    }
   ],
   "source": [
    "company_data.dtypes"
   ]
  },
  {
   "cell_type": "code",
   "execution_count": 5,
   "id": "dbda4520",
   "metadata": {
    "ExecuteTime": {
     "end_time": "2021-12-05T16:47:55.830913Z",
     "start_time": "2021-12-05T16:47:55.816897Z"
    }
   },
   "outputs": [
    {
     "data": {
      "text/plain": [
       "Sales          0\n",
       "CompPrice      0\n",
       "Income         0\n",
       "Advertising    0\n",
       "Population     0\n",
       "Price          0\n",
       "ShelveLoc      0\n",
       "Age            0\n",
       "Education      0\n",
       "Urban          0\n",
       "US             0\n",
       "dtype: int64"
      ]
     },
     "execution_count": 5,
     "metadata": {},
     "output_type": "execute_result"
    }
   ],
   "source": [
    "company_data.isnull().sum()"
   ]
  },
  {
   "cell_type": "code",
   "execution_count": 6,
   "id": "da0bb0ff",
   "metadata": {
    "ExecuteTime": {
     "end_time": "2021-12-05T16:47:55.846917Z",
     "start_time": "2021-12-05T16:47:55.832901Z"
    }
   },
   "outputs": [
    {
     "data": {
      "text/plain": [
       "Sales          0\n",
       "CompPrice      0\n",
       "Income         0\n",
       "Advertising    0\n",
       "Population     0\n",
       "Price          0\n",
       "ShelveLoc      0\n",
       "Age            0\n",
       "Education      0\n",
       "Urban          0\n",
       "US             0\n",
       "dtype: int64"
      ]
     },
     "execution_count": 6,
     "metadata": {},
     "output_type": "execute_result"
    }
   ],
   "source": [
    "company_data.isnull().sum()"
   ]
  },
  {
   "cell_type": "code",
   "execution_count": 7,
   "id": "e2630e67",
   "metadata": {
    "ExecuteTime": {
     "end_time": "2021-12-05T16:47:55.892915Z",
     "start_time": "2021-12-05T16:47:55.850907Z"
    }
   },
   "outputs": [
    {
     "data": {
      "text/html": [
       "<div>\n",
       "<style scoped>\n",
       "    .dataframe tbody tr th:only-of-type {\n",
       "        vertical-align: middle;\n",
       "    }\n",
       "\n",
       "    .dataframe tbody tr th {\n",
       "        vertical-align: top;\n",
       "    }\n",
       "\n",
       "    .dataframe thead th {\n",
       "        text-align: right;\n",
       "    }\n",
       "</style>\n",
       "<table border=\"1\" class=\"dataframe\">\n",
       "  <thead>\n",
       "    <tr style=\"text-align: right;\">\n",
       "      <th></th>\n",
       "      <th>Sales</th>\n",
       "      <th>CompPrice</th>\n",
       "      <th>Income</th>\n",
       "      <th>Advertising</th>\n",
       "      <th>Population</th>\n",
       "      <th>Price</th>\n",
       "      <th>Age</th>\n",
       "      <th>Education</th>\n",
       "    </tr>\n",
       "  </thead>\n",
       "  <tbody>\n",
       "    <tr>\n",
       "      <th>count</th>\n",
       "      <td>400.000000</td>\n",
       "      <td>400.000000</td>\n",
       "      <td>400.000000</td>\n",
       "      <td>400.000000</td>\n",
       "      <td>400.000000</td>\n",
       "      <td>400.000000</td>\n",
       "      <td>400.000000</td>\n",
       "      <td>400.000000</td>\n",
       "    </tr>\n",
       "    <tr>\n",
       "      <th>mean</th>\n",
       "      <td>7.496325</td>\n",
       "      <td>124.975000</td>\n",
       "      <td>68.657500</td>\n",
       "      <td>6.635000</td>\n",
       "      <td>264.840000</td>\n",
       "      <td>115.795000</td>\n",
       "      <td>53.322500</td>\n",
       "      <td>13.900000</td>\n",
       "    </tr>\n",
       "    <tr>\n",
       "      <th>std</th>\n",
       "      <td>2.824115</td>\n",
       "      <td>15.334512</td>\n",
       "      <td>27.986037</td>\n",
       "      <td>6.650364</td>\n",
       "      <td>147.376436</td>\n",
       "      <td>23.676664</td>\n",
       "      <td>16.200297</td>\n",
       "      <td>2.620528</td>\n",
       "    </tr>\n",
       "    <tr>\n",
       "      <th>min</th>\n",
       "      <td>0.000000</td>\n",
       "      <td>77.000000</td>\n",
       "      <td>21.000000</td>\n",
       "      <td>0.000000</td>\n",
       "      <td>10.000000</td>\n",
       "      <td>24.000000</td>\n",
       "      <td>25.000000</td>\n",
       "      <td>10.000000</td>\n",
       "    </tr>\n",
       "    <tr>\n",
       "      <th>25%</th>\n",
       "      <td>5.390000</td>\n",
       "      <td>115.000000</td>\n",
       "      <td>42.750000</td>\n",
       "      <td>0.000000</td>\n",
       "      <td>139.000000</td>\n",
       "      <td>100.000000</td>\n",
       "      <td>39.750000</td>\n",
       "      <td>12.000000</td>\n",
       "    </tr>\n",
       "    <tr>\n",
       "      <th>50%</th>\n",
       "      <td>7.490000</td>\n",
       "      <td>125.000000</td>\n",
       "      <td>69.000000</td>\n",
       "      <td>5.000000</td>\n",
       "      <td>272.000000</td>\n",
       "      <td>117.000000</td>\n",
       "      <td>54.500000</td>\n",
       "      <td>14.000000</td>\n",
       "    </tr>\n",
       "    <tr>\n",
       "      <th>75%</th>\n",
       "      <td>9.320000</td>\n",
       "      <td>135.000000</td>\n",
       "      <td>91.000000</td>\n",
       "      <td>12.000000</td>\n",
       "      <td>398.500000</td>\n",
       "      <td>131.000000</td>\n",
       "      <td>66.000000</td>\n",
       "      <td>16.000000</td>\n",
       "    </tr>\n",
       "    <tr>\n",
       "      <th>max</th>\n",
       "      <td>16.270000</td>\n",
       "      <td>175.000000</td>\n",
       "      <td>120.000000</td>\n",
       "      <td>29.000000</td>\n",
       "      <td>509.000000</td>\n",
       "      <td>191.000000</td>\n",
       "      <td>80.000000</td>\n",
       "      <td>18.000000</td>\n",
       "    </tr>\n",
       "  </tbody>\n",
       "</table>\n",
       "</div>"
      ],
      "text/plain": [
       "            Sales   CompPrice      Income  Advertising  Population  \\\n",
       "count  400.000000  400.000000  400.000000   400.000000  400.000000   \n",
       "mean     7.496325  124.975000   68.657500     6.635000  264.840000   \n",
       "std      2.824115   15.334512   27.986037     6.650364  147.376436   \n",
       "min      0.000000   77.000000   21.000000     0.000000   10.000000   \n",
       "25%      5.390000  115.000000   42.750000     0.000000  139.000000   \n",
       "50%      7.490000  125.000000   69.000000     5.000000  272.000000   \n",
       "75%      9.320000  135.000000   91.000000    12.000000  398.500000   \n",
       "max     16.270000  175.000000  120.000000    29.000000  509.000000   \n",
       "\n",
       "            Price         Age   Education  \n",
       "count  400.000000  400.000000  400.000000  \n",
       "mean   115.795000   53.322500   13.900000  \n",
       "std     23.676664   16.200297    2.620528  \n",
       "min     24.000000   25.000000   10.000000  \n",
       "25%    100.000000   39.750000   12.000000  \n",
       "50%    117.000000   54.500000   14.000000  \n",
       "75%    131.000000   66.000000   16.000000  \n",
       "max    191.000000   80.000000   18.000000  "
      ]
     },
     "execution_count": 7,
     "metadata": {},
     "output_type": "execute_result"
    }
   ],
   "source": [
    "company_data.describe()"
   ]
  },
  {
   "cell_type": "markdown",
   "id": "4d483863",
   "metadata": {},
   "source": [
    "### Inference \n",
    "* Number of features and records in the given data set is 11 and 400 respesctively\n",
    "\n",
    "* There is no null values in the data set\n",
    "\n",
    "* The categorical data can be converted into numeric data type by using encoder so that the model can learn the things more easily"
   ]
  },
  {
   "cell_type": "markdown",
   "id": "e0fd9a95",
   "metadata": {},
   "source": [
    "### Data preparation"
   ]
  },
  {
   "cell_type": "code",
   "execution_count": 8,
   "id": "aafbe716",
   "metadata": {
    "ExecuteTime": {
     "end_time": "2021-12-05T16:47:56.497362Z",
     "start_time": "2021-12-05T16:47:55.896917Z"
    }
   },
   "outputs": [],
   "source": [
    "from sklearn.preprocessing import LabelEncoder\n",
    "le=LabelEncoder()"
   ]
  },
  {
   "cell_type": "code",
   "execution_count": 9,
   "id": "a22c13bb",
   "metadata": {
    "ExecuteTime": {
     "end_time": "2021-12-05T16:47:56.513365Z",
     "start_time": "2021-12-05T16:47:56.499362Z"
    }
   },
   "outputs": [
    {
     "data": {
      "text/plain": [
       "Sales          float64\n",
       "CompPrice        int64\n",
       "Income           int64\n",
       "Advertising      int64\n",
       "Population       int64\n",
       "Price            int64\n",
       "ShelveLoc        int32\n",
       "Age              int64\n",
       "Education        int64\n",
       "Urban            int32\n",
       "US               int32\n",
       "dtype: object"
      ]
     },
     "execution_count": 9,
     "metadata": {},
     "output_type": "execute_result"
    }
   ],
   "source": [
    "company_data['ShelveLoc']=le.fit_transform(company_data['ShelveLoc'])\n",
    "company_data['Urban']=le.fit_transform(company_data['Urban'])\n",
    "company_data['US']=le.fit_transform(company_data['US'])\n",
    "company_data.dtypes"
   ]
  },
  {
   "cell_type": "markdown",
   "id": "d2c695fe",
   "metadata": {},
   "source": [
    "#### Converting sales to category of high,medium and low sales"
   ]
  },
  {
   "cell_type": "code",
   "execution_count": 10,
   "id": "f6e610d5",
   "metadata": {
    "ExecuteTime": {
     "end_time": "2021-12-05T16:47:56.544731Z",
     "start_time": "2021-12-05T16:47:56.515955Z"
    }
   },
   "outputs": [
    {
     "data": {
      "text/html": [
       "<div>\n",
       "<style scoped>\n",
       "    .dataframe tbody tr th:only-of-type {\n",
       "        vertical-align: middle;\n",
       "    }\n",
       "\n",
       "    .dataframe tbody tr th {\n",
       "        vertical-align: top;\n",
       "    }\n",
       "\n",
       "    .dataframe thead th {\n",
       "        text-align: right;\n",
       "    }\n",
       "</style>\n",
       "<table border=\"1\" class=\"dataframe\">\n",
       "  <thead>\n",
       "    <tr style=\"text-align: right;\">\n",
       "      <th></th>\n",
       "      <th>Sales</th>\n",
       "      <th>CompPrice</th>\n",
       "      <th>Income</th>\n",
       "      <th>Advertising</th>\n",
       "      <th>Population</th>\n",
       "      <th>Price</th>\n",
       "      <th>ShelveLoc</th>\n",
       "      <th>Age</th>\n",
       "      <th>Education</th>\n",
       "      <th>Urban</th>\n",
       "      <th>US</th>\n",
       "      <th>sales_category</th>\n",
       "    </tr>\n",
       "  </thead>\n",
       "  <tbody>\n",
       "    <tr>\n",
       "      <th>0</th>\n",
       "      <td>9.50</td>\n",
       "      <td>138</td>\n",
       "      <td>73</td>\n",
       "      <td>11</td>\n",
       "      <td>276</td>\n",
       "      <td>120</td>\n",
       "      <td>0</td>\n",
       "      <td>42</td>\n",
       "      <td>17</td>\n",
       "      <td>1</td>\n",
       "      <td>1</td>\n",
       "      <td></td>\n",
       "    </tr>\n",
       "    <tr>\n",
       "      <th>1</th>\n",
       "      <td>11.22</td>\n",
       "      <td>111</td>\n",
       "      <td>48</td>\n",
       "      <td>16</td>\n",
       "      <td>260</td>\n",
       "      <td>83</td>\n",
       "      <td>1</td>\n",
       "      <td>65</td>\n",
       "      <td>10</td>\n",
       "      <td>1</td>\n",
       "      <td>1</td>\n",
       "      <td></td>\n",
       "    </tr>\n",
       "    <tr>\n",
       "      <th>2</th>\n",
       "      <td>10.06</td>\n",
       "      <td>113</td>\n",
       "      <td>35</td>\n",
       "      <td>10</td>\n",
       "      <td>269</td>\n",
       "      <td>80</td>\n",
       "      <td>2</td>\n",
       "      <td>59</td>\n",
       "      <td>12</td>\n",
       "      <td>1</td>\n",
       "      <td>1</td>\n",
       "      <td></td>\n",
       "    </tr>\n",
       "    <tr>\n",
       "      <th>3</th>\n",
       "      <td>7.40</td>\n",
       "      <td>117</td>\n",
       "      <td>100</td>\n",
       "      <td>4</td>\n",
       "      <td>466</td>\n",
       "      <td>97</td>\n",
       "      <td>2</td>\n",
       "      <td>55</td>\n",
       "      <td>14</td>\n",
       "      <td>1</td>\n",
       "      <td>1</td>\n",
       "      <td></td>\n",
       "    </tr>\n",
       "    <tr>\n",
       "      <th>4</th>\n",
       "      <td>4.15</td>\n",
       "      <td>141</td>\n",
       "      <td>64</td>\n",
       "      <td>3</td>\n",
       "      <td>340</td>\n",
       "      <td>128</td>\n",
       "      <td>0</td>\n",
       "      <td>38</td>\n",
       "      <td>13</td>\n",
       "      <td>1</td>\n",
       "      <td>0</td>\n",
       "      <td></td>\n",
       "    </tr>\n",
       "    <tr>\n",
       "      <th>...</th>\n",
       "      <td>...</td>\n",
       "      <td>...</td>\n",
       "      <td>...</td>\n",
       "      <td>...</td>\n",
       "      <td>...</td>\n",
       "      <td>...</td>\n",
       "      <td>...</td>\n",
       "      <td>...</td>\n",
       "      <td>...</td>\n",
       "      <td>...</td>\n",
       "      <td>...</td>\n",
       "      <td>...</td>\n",
       "    </tr>\n",
       "    <tr>\n",
       "      <th>395</th>\n",
       "      <td>12.57</td>\n",
       "      <td>138</td>\n",
       "      <td>108</td>\n",
       "      <td>17</td>\n",
       "      <td>203</td>\n",
       "      <td>128</td>\n",
       "      <td>1</td>\n",
       "      <td>33</td>\n",
       "      <td>14</td>\n",
       "      <td>1</td>\n",
       "      <td>1</td>\n",
       "      <td></td>\n",
       "    </tr>\n",
       "    <tr>\n",
       "      <th>396</th>\n",
       "      <td>6.14</td>\n",
       "      <td>139</td>\n",
       "      <td>23</td>\n",
       "      <td>3</td>\n",
       "      <td>37</td>\n",
       "      <td>120</td>\n",
       "      <td>2</td>\n",
       "      <td>55</td>\n",
       "      <td>11</td>\n",
       "      <td>0</td>\n",
       "      <td>1</td>\n",
       "      <td></td>\n",
       "    </tr>\n",
       "    <tr>\n",
       "      <th>397</th>\n",
       "      <td>7.41</td>\n",
       "      <td>162</td>\n",
       "      <td>26</td>\n",
       "      <td>12</td>\n",
       "      <td>368</td>\n",
       "      <td>159</td>\n",
       "      <td>2</td>\n",
       "      <td>40</td>\n",
       "      <td>18</td>\n",
       "      <td>1</td>\n",
       "      <td>1</td>\n",
       "      <td></td>\n",
       "    </tr>\n",
       "    <tr>\n",
       "      <th>398</th>\n",
       "      <td>5.94</td>\n",
       "      <td>100</td>\n",
       "      <td>79</td>\n",
       "      <td>7</td>\n",
       "      <td>284</td>\n",
       "      <td>95</td>\n",
       "      <td>0</td>\n",
       "      <td>50</td>\n",
       "      <td>12</td>\n",
       "      <td>1</td>\n",
       "      <td>1</td>\n",
       "      <td></td>\n",
       "    </tr>\n",
       "    <tr>\n",
       "      <th>399</th>\n",
       "      <td>9.71</td>\n",
       "      <td>134</td>\n",
       "      <td>37</td>\n",
       "      <td>0</td>\n",
       "      <td>27</td>\n",
       "      <td>120</td>\n",
       "      <td>1</td>\n",
       "      <td>49</td>\n",
       "      <td>16</td>\n",
       "      <td>1</td>\n",
       "      <td>1</td>\n",
       "      <td></td>\n",
       "    </tr>\n",
       "  </tbody>\n",
       "</table>\n",
       "<p>400 rows × 12 columns</p>\n",
       "</div>"
      ],
      "text/plain": [
       "     Sales  CompPrice  Income  Advertising  Population  Price  ShelveLoc  Age  \\\n",
       "0     9.50        138      73           11         276    120          0   42   \n",
       "1    11.22        111      48           16         260     83          1   65   \n",
       "2    10.06        113      35           10         269     80          2   59   \n",
       "3     7.40        117     100            4         466     97          2   55   \n",
       "4     4.15        141      64            3         340    128          0   38   \n",
       "..     ...        ...     ...          ...         ...    ...        ...  ...   \n",
       "395  12.57        138     108           17         203    128          1   33   \n",
       "396   6.14        139      23            3          37    120          2   55   \n",
       "397   7.41        162      26           12         368    159          2   40   \n",
       "398   5.94        100      79            7         284     95          0   50   \n",
       "399   9.71        134      37            0          27    120          1   49   \n",
       "\n",
       "     Education  Urban  US sales_category  \n",
       "0           17      1   1                 \n",
       "1           10      1   1                 \n",
       "2           12      1   1                 \n",
       "3           14      1   1                 \n",
       "4           13      1   0                 \n",
       "..         ...    ...  ..            ...  \n",
       "395         14      1   1                 \n",
       "396         11      0   1                 \n",
       "397         18      1   1                 \n",
       "398         12      1   1                 \n",
       "399         16      1   1                 \n",
       "\n",
       "[400 rows x 12 columns]"
      ]
     },
     "execution_count": 10,
     "metadata": {},
     "output_type": "execute_result"
    }
   ],
   "source": [
    "company_data.insert(11,'sales_category','')\n",
    "company_data"
   ]
  },
  {
   "cell_type": "code",
   "execution_count": 11,
   "id": "fd8df247",
   "metadata": {
    "ExecuteTime": {
     "end_time": "2021-12-05T16:47:56.704017Z",
     "start_time": "2021-12-05T16:47:56.545719Z"
    }
   },
   "outputs": [],
   "source": [
    "for i in range(0,len(company_data['Sales']),1):\n",
    "    if company_data['Sales'][i]>=11.0:\n",
    "        company_data[\"sales_category\"][i]='high'\n",
    "    elif company_data['Sales'][i]<=6.0:\n",
    "        company_data['sales_category'][i]='Low'\n",
    "    else:\n",
    "        company_data['sales_category'][i]='Medium'"
   ]
  },
  {
   "cell_type": "code",
   "execution_count": 12,
   "id": "db9acde1",
   "metadata": {
    "ExecuteTime": {
     "end_time": "2021-12-05T16:47:56.719451Z",
     "start_time": "2021-12-05T16:47:56.706017Z"
    }
   },
   "outputs": [
    {
     "data": {
      "text/plain": [
       "3"
      ]
     },
     "execution_count": 12,
     "metadata": {},
     "output_type": "execute_result"
    }
   ],
   "source": [
    "company_data['sales_category'].nunique()"
   ]
  },
  {
   "cell_type": "code",
   "execution_count": 13,
   "id": "735905e3",
   "metadata": {
    "ExecuteTime": {
     "end_time": "2021-12-05T16:47:56.735456Z",
     "start_time": "2021-12-05T16:47:56.721454Z"
    }
   },
   "outputs": [
    {
     "data": {
      "text/html": [
       "<div>\n",
       "<style scoped>\n",
       "    .dataframe tbody tr th:only-of-type {\n",
       "        vertical-align: middle;\n",
       "    }\n",
       "\n",
       "    .dataframe tbody tr th {\n",
       "        vertical-align: top;\n",
       "    }\n",
       "\n",
       "    .dataframe thead th {\n",
       "        text-align: right;\n",
       "    }\n",
       "</style>\n",
       "<table border=\"1\" class=\"dataframe\">\n",
       "  <thead>\n",
       "    <tr style=\"text-align: right;\">\n",
       "      <th></th>\n",
       "      <th>Sales</th>\n",
       "      <th>CompPrice</th>\n",
       "      <th>Income</th>\n",
       "      <th>Advertising</th>\n",
       "      <th>Population</th>\n",
       "      <th>Price</th>\n",
       "      <th>ShelveLoc</th>\n",
       "      <th>Age</th>\n",
       "      <th>Education</th>\n",
       "      <th>Urban</th>\n",
       "      <th>US</th>\n",
       "      <th>sales_category</th>\n",
       "    </tr>\n",
       "  </thead>\n",
       "  <tbody>\n",
       "    <tr>\n",
       "      <th>0</th>\n",
       "      <td>9.50</td>\n",
       "      <td>138</td>\n",
       "      <td>73</td>\n",
       "      <td>11</td>\n",
       "      <td>276</td>\n",
       "      <td>120</td>\n",
       "      <td>0</td>\n",
       "      <td>42</td>\n",
       "      <td>17</td>\n",
       "      <td>1</td>\n",
       "      <td>1</td>\n",
       "      <td>Medium</td>\n",
       "    </tr>\n",
       "    <tr>\n",
       "      <th>1</th>\n",
       "      <td>11.22</td>\n",
       "      <td>111</td>\n",
       "      <td>48</td>\n",
       "      <td>16</td>\n",
       "      <td>260</td>\n",
       "      <td>83</td>\n",
       "      <td>1</td>\n",
       "      <td>65</td>\n",
       "      <td>10</td>\n",
       "      <td>1</td>\n",
       "      <td>1</td>\n",
       "      <td>high</td>\n",
       "    </tr>\n",
       "    <tr>\n",
       "      <th>2</th>\n",
       "      <td>10.06</td>\n",
       "      <td>113</td>\n",
       "      <td>35</td>\n",
       "      <td>10</td>\n",
       "      <td>269</td>\n",
       "      <td>80</td>\n",
       "      <td>2</td>\n",
       "      <td>59</td>\n",
       "      <td>12</td>\n",
       "      <td>1</td>\n",
       "      <td>1</td>\n",
       "      <td>Medium</td>\n",
       "    </tr>\n",
       "    <tr>\n",
       "      <th>3</th>\n",
       "      <td>7.40</td>\n",
       "      <td>117</td>\n",
       "      <td>100</td>\n",
       "      <td>4</td>\n",
       "      <td>466</td>\n",
       "      <td>97</td>\n",
       "      <td>2</td>\n",
       "      <td>55</td>\n",
       "      <td>14</td>\n",
       "      <td>1</td>\n",
       "      <td>1</td>\n",
       "      <td>Medium</td>\n",
       "    </tr>\n",
       "    <tr>\n",
       "      <th>4</th>\n",
       "      <td>4.15</td>\n",
       "      <td>141</td>\n",
       "      <td>64</td>\n",
       "      <td>3</td>\n",
       "      <td>340</td>\n",
       "      <td>128</td>\n",
       "      <td>0</td>\n",
       "      <td>38</td>\n",
       "      <td>13</td>\n",
       "      <td>1</td>\n",
       "      <td>0</td>\n",
       "      <td>Low</td>\n",
       "    </tr>\n",
       "  </tbody>\n",
       "</table>\n",
       "</div>"
      ],
      "text/plain": [
       "   Sales  CompPrice  Income  Advertising  Population  Price  ShelveLoc  Age  \\\n",
       "0   9.50        138      73           11         276    120          0   42   \n",
       "1  11.22        111      48           16         260     83          1   65   \n",
       "2  10.06        113      35           10         269     80          2   59   \n",
       "3   7.40        117     100            4         466     97          2   55   \n",
       "4   4.15        141      64            3         340    128          0   38   \n",
       "\n",
       "   Education  Urban  US sales_category  \n",
       "0         17      1   1         Medium  \n",
       "1         10      1   1           high  \n",
       "2         12      1   1         Medium  \n",
       "3         14      1   1         Medium  \n",
       "4         13      1   0            Low  "
      ]
     },
     "execution_count": 13,
     "metadata": {},
     "output_type": "execute_result"
    }
   ],
   "source": [
    "company_data.head()"
   ]
  },
  {
   "cell_type": "markdown",
   "id": "99403d3e",
   "metadata": {},
   "source": [
    "### Model building"
   ]
  },
  {
   "cell_type": "code",
   "execution_count": 14,
   "id": "98ccc790",
   "metadata": {
    "ExecuteTime": {
     "end_time": "2021-12-05T16:47:56.751475Z",
     "start_time": "2021-12-05T16:47:56.737458Z"
    }
   },
   "outputs": [],
   "source": [
    "x=company_data.iloc[:,1:11]\n",
    "y=company_data.iloc[:,11:12]"
   ]
  },
  {
   "cell_type": "code",
   "execution_count": 15,
   "id": "a2433668",
   "metadata": {
    "ExecuteTime": {
     "end_time": "2021-12-05T16:47:56.799512Z",
     "start_time": "2021-12-05T16:47:56.753462Z"
    }
   },
   "outputs": [],
   "source": [
    "from sklearn.model_selection import train_test_split\n",
    "x_train,x_test,y_train,y_test=train_test_split(x,y,test_size=0.2)"
   ]
  },
  {
   "cell_type": "markdown",
   "id": "7320d969",
   "metadata": {},
   "source": [
    "### Model training before selecting important feature"
   ]
  },
  {
   "cell_type": "code",
   "execution_count": 16,
   "id": "94a9e672",
   "metadata": {
    "ExecuteTime": {
     "end_time": "2021-12-05T16:47:56.924730Z",
     "start_time": "2021-12-05T16:47:56.801519Z"
    }
   },
   "outputs": [],
   "source": [
    "from sklearn.ensemble import RandomForestClassifier\n",
    "rf_model=RandomForestClassifier()"
   ]
  },
  {
   "cell_type": "code",
   "execution_count": 17,
   "id": "c3f2d1f5",
   "metadata": {
    "ExecuteTime": {
     "end_time": "2021-12-05T16:47:57.115931Z",
     "start_time": "2021-12-05T16:47:56.926739Z"
    }
   },
   "outputs": [],
   "source": [
    "rf_model.fit(x_train,y_train)\n",
    "y_pred=rf_model.predict(x_test)"
   ]
  },
  {
   "cell_type": "code",
   "execution_count": 18,
   "id": "2227d751",
   "metadata": {
    "ExecuteTime": {
     "end_time": "2021-12-05T16:47:57.131962Z",
     "start_time": "2021-12-05T16:47:57.117931Z"
    }
   },
   "outputs": [],
   "source": [
    "from sklearn.metrics import classification_report,confusion_matrix,accuracy_score"
   ]
  },
  {
   "cell_type": "code",
   "execution_count": 19,
   "id": "63f6f589",
   "metadata": {
    "ExecuteTime": {
     "end_time": "2021-12-05T16:47:57.163135Z",
     "start_time": "2021-12-05T16:47:57.135925Z"
    }
   },
   "outputs": [
    {
     "name": "stdout",
     "output_type": "stream",
     "text": [
      "              precision    recall  f1-score   support\n",
      "\n",
      "         Low       0.75      0.41      0.53        29\n",
      "      Medium       0.67      0.89      0.76        45\n",
      "        high       0.75      0.50      0.60         6\n",
      "\n",
      "    accuracy                           0.69        80\n",
      "   macro avg       0.72      0.60      0.63        80\n",
      "weighted avg       0.70      0.69      0.67        80\n",
      "\n"
     ]
    }
   ],
   "source": [
    "print(classification_report(y_test,y_pred))"
   ]
  },
  {
   "cell_type": "code",
   "execution_count": 20,
   "id": "63645eed",
   "metadata": {
    "ExecuteTime": {
     "end_time": "2021-12-05T16:47:57.179134Z",
     "start_time": "2021-12-05T16:47:57.165131Z"
    }
   },
   "outputs": [
    {
     "name": "stdout",
     "output_type": "stream",
     "text": [
      "0.6875\n"
     ]
    }
   ],
   "source": [
    "print(accuracy_score(y_test,y_pred))"
   ]
  },
  {
   "cell_type": "code",
   "execution_count": 21,
   "id": "14c85f28",
   "metadata": {
    "ExecuteTime": {
     "end_time": "2021-12-05T16:47:57.195149Z",
     "start_time": "2021-12-05T16:47:57.180134Z"
    }
   },
   "outputs": [
    {
     "data": {
      "text/plain": [
       "array([[12, 17,  0],\n",
       "       [ 4, 40,  1],\n",
       "       [ 0,  3,  3]], dtype=int64)"
      ]
     },
     "execution_count": 21,
     "metadata": {},
     "output_type": "execute_result"
    }
   ],
   "source": [
    "confusion_matrix_data=confusion_matrix(y_test,y_pred)\n",
    "confusion_matrix_data"
   ]
  },
  {
   "cell_type": "code",
   "execution_count": 22,
   "id": "99b7745e",
   "metadata": {
    "ExecuteTime": {
     "end_time": "2021-12-05T16:47:57.431051Z",
     "start_time": "2021-12-05T16:47:57.196145Z"
    },
    "scrolled": true
   },
   "outputs": [
    {
     "data": {
      "text/plain": [
       "<AxesSubplot:>"
      ]
     },
     "execution_count": 22,
     "metadata": {},
     "output_type": "execute_result"
    },
    {
     "data": {
      "image/png": "[encoded data removed]",
      "text/plain": [
       "<Figure size 432x288 with 2 Axes>"
      ]
     },
     "metadata": {
      "needs_background": "light"
     },
     "output_type": "display_data"
    }
   ],
   "source": [
    "sns.heatmap(confusion_matrix_data,annot=True)"
   ]
  },
  {
   "cell_type": "markdown",
   "id": "c27c5119",
   "metadata": {},
   "source": [
    "#### Hyperparameter tweaking by using GridsearchCV"
   ]
  },
  {
   "cell_type": "code",
   "execution_count": 23,
   "id": "c2ec7915",
   "metadata": {
    "ExecuteTime": {
     "end_time": "2021-12-05T16:51:45.988380Z",
     "start_time": "2021-12-05T16:47:57.434114Z"
    }
   },
   "outputs": [
    {
     "name": "stdout",
     "output_type": "stream",
     "text": [
      "{'criterion': 'entropy', 'max_depth': 8, 'min_samples_leaf': 2, 'min_samples_split': 6, 'n_estimators': 30}\n",
      "0.709375\n"
     ]
    }
   ],
   "source": [
    "from sklearn.model_selection import GridSearchCV\n",
    "grid_model=GridSearchCV(estimator = rf_model,param_grid={'criterion':['entropy','gini'],\n",
    "                                                       'max_depth':[2,4,8,10],\n",
    "                                                        'min_samples_split':[2,4,6,8],\n",
    "                                                        'min_samples_leaf':[1,2,3,4],\n",
    "                                                        'n_estimators':[20,30,20,100,150]})\n",
    "grid_model.fit(x_train,y_train)\n",
    "print(grid_model.best_params_)\n",
    "print(grid_model.best_score_)"
   ]
  },
  {
   "cell_type": "code",
   "execution_count": 59,
   "id": "a589208c",
   "metadata": {
    "ExecuteTime": {
     "end_time": "2021-12-05T16:55:38.636074Z",
     "start_time": "2021-12-05T16:55:38.579619Z"
    }
   },
   "outputs": [
    {
     "name": "stdout",
     "output_type": "stream",
     "text": [
      "0.625\n"
     ]
    }
   ],
   "source": [
    "rf_model_cv=RandomForestClassifier(max_depth=8,min_samples_leaf=2,criterion='entropy',n_estimators=30)\n",
    "rf_model_cv.fit(x_train,y_train)\n",
    "y_pred=rf_model_cv.predict(x_test)\n",
    "print(accuracy_score(y_test,y_pred))"
   ]
  },
  {
   "cell_type": "markdown",
   "id": "aea358a9",
   "metadata": {},
   "source": [
    "#### Feature importance plot"
   ]
  },
  {
   "cell_type": "code",
   "execution_count": 60,
   "id": "ae5d167e",
   "metadata": {
    "ExecuteTime": {
     "end_time": "2021-12-05T16:55:44.212875Z",
     "start_time": "2021-12-05T16:55:44.194763Z"
    }
   },
   "outputs": [
    {
     "data": {
      "text/plain": [
       "10"
      ]
     },
     "execution_count": 60,
     "metadata": {},
     "output_type": "execute_result"
    }
   ],
   "source": [
    "feature_rf=x_train.columns\n",
    "len(feature_rf)"
   ]
  },
  {
   "cell_type": "code",
   "execution_count": 61,
   "id": "3e47532a",
   "metadata": {
    "ExecuteTime": {
     "end_time": "2021-12-05T16:55:44.732894Z",
     "start_time": "2021-12-05T16:55:44.715780Z"
    }
   },
   "outputs": [
    {
     "data": {
      "text/plain": [
       "10"
      ]
     },
     "execution_count": 61,
     "metadata": {},
     "output_type": "execute_result"
    }
   ],
   "source": [
    "imp_feature_rf=rf_model.feature_importances_\n",
    "len(imp_feature_rf)"
   ]
  },
  {
   "cell_type": "code",
   "execution_count": 62,
   "id": "f358617d",
   "metadata": {
    "ExecuteTime": {
     "end_time": "2021-12-05T16:55:45.221501Z",
     "start_time": "2021-12-05T16:55:45.210496Z"
    }
   },
   "outputs": [],
   "source": [
    "data_rf=pd.DataFrame({'feature':feature_rf,'imp_feature':imp_feature_rf})\n",
    "data_rf=data_rf.sort_values('imp_feature')"
   ]
  },
  {
   "cell_type": "code",
   "execution_count": 63,
   "id": "f6bd6b05",
   "metadata": {
    "ExecuteTime": {
     "end_time": "2021-12-05T16:55:46.916113Z",
     "start_time": "2021-12-05T16:55:46.707763Z"
    }
   },
   "outputs": [
    {
     "data": {
      "image/png": "[encoded data removed]",
      "text/plain": [
       "<Figure size 720x432 with 1 Axes>"
      ]
     },
     "metadata": {
      "needs_background": "light"
     },
     "output_type": "display_data"
    }
   ],
   "source": [
    "import matplotlib.pyplot as plt\n",
    "import seaborn as sns\n",
    "plt.figure(figsize=(10,6))\n",
    "plt.title('Feature Importance')\n",
    "sns.barplot(y='feature', x='imp_feature', data=data_rf)\n",
    "plt.show()"
   ]
  },
  {
   "cell_type": "markdown",
   "id": "b7a0c87c",
   "metadata": {},
   "source": [
    "### Inference \n",
    "* The plot clearly shows that some of the features donot contribute much for model building\n",
    "\n",
    "* Hence the accuracy can be imporved by droping those insignificant features"
   ]
  },
  {
   "cell_type": "markdown",
   "id": "4cc5bde3",
   "metadata": {},
   "source": [
    "### Feature selection by feature importance for Decision tree"
   ]
  },
  {
   "cell_type": "code",
   "execution_count": 64,
   "id": "689d68d5",
   "metadata": {
    "ExecuteTime": {
     "end_time": "2021-12-05T16:56:10.900414Z",
     "start_time": "2021-12-05T16:56:10.891384Z"
    }
   },
   "outputs": [],
   "source": [
    "from sklearn.feature_selection import SelectFromModel "
   ]
  },
  {
   "cell_type": "code",
   "execution_count": 65,
   "id": "c3f2ba33",
   "metadata": {
    "ExecuteTime": {
     "end_time": "2021-12-05T16:56:11.391957Z",
     "start_time": "2021-12-05T16:56:11.223865Z"
    }
   },
   "outputs": [
    {
     "data": {
      "text/plain": [
       "SelectFromModel(estimator=RandomForestClassifier())"
      ]
     },
     "execution_count": 65,
     "metadata": {},
     "output_type": "execute_result"
    }
   ],
   "source": [
    "selector=SelectFromModel(estimator=RandomForestClassifier())\n",
    "selector.fit(x_train,y_train)"
   ]
  },
  {
   "cell_type": "code",
   "execution_count": 66,
   "id": "0eca200f",
   "metadata": {
    "ExecuteTime": {
     "end_time": "2021-12-05T16:56:11.740784Z",
     "start_time": "2021-12-05T16:56:11.711738Z"
    }
   },
   "outputs": [
    {
     "data": {
      "text/plain": [
       "array([ True,  True, False,  True,  True,  True,  True, False, False,\n",
       "       False])"
      ]
     },
     "execution_count": 66,
     "metadata": {},
     "output_type": "execute_result"
    }
   ],
   "source": [
    "selector.get_support()"
   ]
  },
  {
   "cell_type": "code",
   "execution_count": 67,
   "id": "fa420b7c",
   "metadata": {
    "ExecuteTime": {
     "end_time": "2021-12-05T16:56:12.152083Z",
     "start_time": "2021-12-05T16:56:12.147085Z"
    }
   },
   "outputs": [
    {
     "data": {
      "text/plain": [
       "10"
      ]
     },
     "execution_count": 67,
     "metadata": {},
     "output_type": "execute_result"
    }
   ],
   "source": [
    "len(x_train.columns)"
   ]
  },
  {
   "cell_type": "code",
   "execution_count": 68,
   "id": "27c07687",
   "metadata": {
    "ExecuteTime": {
     "end_time": "2021-12-05T16:56:13.405982Z",
     "start_time": "2021-12-05T16:56:13.378709Z"
    }
   },
   "outputs": [],
   "source": [
    "feature=x_train.columns[selector.get_support()]"
   ]
  },
  {
   "cell_type": "code",
   "execution_count": 69,
   "id": "03882658",
   "metadata": {
    "ExecuteTime": {
     "end_time": "2021-12-05T16:56:13.767368Z",
     "start_time": "2021-12-05T16:56:13.738287Z"
    }
   },
   "outputs": [
    {
     "data": {
      "text/plain": [
       "6"
      ]
     },
     "execution_count": 69,
     "metadata": {},
     "output_type": "execute_result"
    }
   ],
   "source": [
    "len(x_train.columns[selector.get_support()])"
   ]
  },
  {
   "cell_type": "markdown",
   "id": "db619adb",
   "metadata": {},
   "source": [
    "### Inference \n",
    "* Out of 10 features only 5 features is selscted for building models"
   ]
  },
  {
   "cell_type": "code",
   "execution_count": 70,
   "id": "7262b042",
   "metadata": {
    "ExecuteTime": {
     "end_time": "2021-12-05T16:56:32.533121Z",
     "start_time": "2021-12-05T16:56:32.491645Z"
    }
   },
   "outputs": [],
   "source": [
    "x_train_rf=selector.transform(x_train)\n",
    "x_test_rf=selector.transform(x_test)"
   ]
  },
  {
   "cell_type": "code",
   "execution_count": 71,
   "id": "ba9dbb57",
   "metadata": {
    "ExecuteTime": {
     "end_time": "2021-12-05T16:56:33.011398Z",
     "start_time": "2021-12-05T16:56:32.839329Z"
    }
   },
   "outputs": [],
   "source": [
    "rf_model_imp=RandomForestClassifier().fit(x_train_rf,y_train)\n",
    "y_pred_imp=rf_model_imp.predict(x_test_rf)"
   ]
  },
  {
   "cell_type": "code",
   "execution_count": 72,
   "id": "475940c2",
   "metadata": {
    "ExecuteTime": {
     "end_time": "2021-12-05T16:56:33.329746Z",
     "start_time": "2021-12-05T16:56:33.316550Z"
    }
   },
   "outputs": [
    {
     "name": "stdout",
     "output_type": "stream",
     "text": [
      "0.675\n"
     ]
    }
   ],
   "source": [
    "print(accuracy_score(y_test,y_pred_imp))"
   ]
  },
  {
   "cell_type": "code",
   "execution_count": 73,
   "id": "977994ef",
   "metadata": {
    "ExecuteTime": {
     "end_time": "2021-12-05T16:56:33.661745Z",
     "start_time": "2021-12-05T16:56:33.647742Z"
    }
   },
   "outputs": [
    {
     "name": "stdout",
     "output_type": "stream",
     "text": [
      "[[15 14  0]\n",
      " [ 6 37  2]\n",
      " [ 0  4  2]]\n"
     ]
    }
   ],
   "source": [
    "print(confusion_matrix(y_test,y_pred_imp))"
   ]
  },
  {
   "cell_type": "code",
   "execution_count": 74,
   "id": "c6eb9066",
   "metadata": {
    "ExecuteTime": {
     "end_time": "2021-12-05T16:56:33.992301Z",
     "start_time": "2021-12-05T16:56:33.965262Z"
    }
   },
   "outputs": [
    {
     "name": "stdout",
     "output_type": "stream",
     "text": [
      "              precision    recall  f1-score   support\n",
      "\n",
      "         Low       0.71      0.52      0.60        29\n",
      "      Medium       0.67      0.82      0.74        45\n",
      "        high       0.50      0.33      0.40         6\n",
      "\n",
      "    accuracy                           0.68        80\n",
      "   macro avg       0.63      0.56      0.58        80\n",
      "weighted avg       0.67      0.68      0.66        80\n",
      "\n"
     ]
    }
   ],
   "source": [
    "print(classification_report(y_test,y_pred_imp))"
   ]
  },
  {
   "cell_type": "code",
   "execution_count": 75,
   "id": "04a3ad36",
   "metadata": {
    "ExecuteTime": {
     "end_time": "2021-12-05T16:56:34.357920Z",
     "start_time": "2021-12-05T16:56:34.330259Z"
    }
   },
   "outputs": [
    {
     "data": {
      "text/plain": [
       "array([0.17008902, 0.14877496, 0.14627138, 0.23266958, 0.15335051,\n",
       "       0.14884454])"
      ]
     },
     "execution_count": 75,
     "metadata": {},
     "output_type": "execute_result"
    }
   ],
   "source": [
    "imp_feature=rf_model_imp.feature_importances_\n",
    "imp_feature"
   ]
  },
  {
   "cell_type": "code",
   "execution_count": 76,
   "id": "cc3ba646",
   "metadata": {
    "ExecuteTime": {
     "end_time": "2021-12-05T16:56:35.771142Z",
     "start_time": "2021-12-05T16:56:35.763143Z"
    }
   },
   "outputs": [],
   "source": [
    "data_imp=pd.DataFrame({'feature':feature,'imp_feature':imp_feature})\n",
    "data_imp=data_imp.sort_values('imp_feature')"
   ]
  },
  {
   "cell_type": "code",
   "execution_count": 77,
   "id": "264c1f88",
   "metadata": {
    "ExecuteTime": {
     "end_time": "2021-12-05T16:56:36.418985Z",
     "start_time": "2021-12-05T16:56:36.258663Z"
    }
   },
   "outputs": [
    {
     "data": {
      "image/png": "[encoded data removed]",
      "text/plain": [
       "<Figure size 720x432 with 1 Axes>"
      ]
     },
     "metadata": {
      "needs_background": "light"
     },
     "output_type": "display_data"
    }
   ],
   "source": [
    "import matplotlib.pyplot as plt\n",
    "import seaborn as sns\n",
    "plt.figure(figsize=(10,6))\n",
    "plt.title('Feature Importance')\n",
    "sns.barplot(y='feature', x='imp_feature', data=data_imp)\n",
    "plt.show()"
   ]
  },
  {
   "cell_type": "markdown",
   "id": "ccd75f1a",
   "metadata": {},
   "source": [
    "#### Recursive feature elimination"
   ]
  },
  {
   "cell_type": "code",
   "execution_count": 78,
   "id": "16839df1",
   "metadata": {
    "ExecuteTime": {
     "end_time": "2021-12-05T16:56:38.271498Z",
     "start_time": "2021-12-05T16:56:38.259495Z"
    }
   },
   "outputs": [],
   "source": [
    "from sklearn.feature_selection import RFE"
   ]
  },
  {
   "cell_type": "code",
   "execution_count": 79,
   "id": "133b8e7a",
   "metadata": {
    "ExecuteTime": {
     "end_time": "2021-12-05T16:56:39.515665Z",
     "start_time": "2021-12-05T16:56:38.576346Z"
    }
   },
   "outputs": [
    {
     "data": {
      "text/plain": [
       "RFE(estimator=RandomForestClassifier())"
      ]
     },
     "execution_count": 79,
     "metadata": {},
     "output_type": "execute_result"
    }
   ],
   "source": [
    "selector_rfe=RFE(RandomForestClassifier())\n",
    "selector_rfe.fit(x_train,y_train)"
   ]
  },
  {
   "cell_type": "code",
   "execution_count": 80,
   "id": "6cac28fc",
   "metadata": {
    "ExecuteTime": {
     "end_time": "2021-12-05T16:56:39.819842Z",
     "start_time": "2021-12-05T16:56:39.805790Z"
    }
   },
   "outputs": [
    {
     "data": {
      "text/plain": [
       "array([ True,  True, False, False,  True,  True,  True, False, False,\n",
       "       False])"
      ]
     },
     "execution_count": 80,
     "metadata": {},
     "output_type": "execute_result"
    }
   ],
   "source": [
    "selector_rfe.get_support()"
   ]
  },
  {
   "cell_type": "code",
   "execution_count": 81,
   "id": "8eabcccc",
   "metadata": {
    "ExecuteTime": {
     "end_time": "2021-12-05T16:56:40.151960Z",
     "start_time": "2021-12-05T16:56:40.137947Z"
    }
   },
   "outputs": [
    {
     "data": {
      "text/plain": [
       "Index(['CompPrice', 'Income', 'Price', 'ShelveLoc', 'Age'], dtype='object')"
      ]
     },
     "execution_count": 81,
     "metadata": {},
     "output_type": "execute_result"
    }
   ],
   "source": [
    "feature_rfe=x_train.columns[selector_rfe.get_support()]\n",
    "feature_rfe"
   ]
  },
  {
   "cell_type": "code",
   "execution_count": 82,
   "id": "e411ebcc",
   "metadata": {
    "ExecuteTime": {
     "end_time": "2021-12-05T16:56:40.498564Z",
     "start_time": "2021-12-05T16:56:40.485107Z"
    }
   },
   "outputs": [
    {
     "data": {
      "text/plain": [
       "5"
      ]
     },
     "execution_count": 82,
     "metadata": {},
     "output_type": "execute_result"
    }
   ],
   "source": [
    "len(x_train.columns[selector_rfe.get_support()])"
   ]
  },
  {
   "cell_type": "markdown",
   "id": "5a5e08e0",
   "metadata": {},
   "source": [
    "### Inference \n",
    "* Here 5 out of 10 feature is selected as an important feature"
   ]
  },
  {
   "cell_type": "code",
   "execution_count": 83,
   "id": "9cfdb6e6",
   "metadata": {
    "ExecuteTime": {
     "end_time": "2021-12-05T16:57:01.692500Z",
     "start_time": "2021-12-05T16:57:01.683488Z"
    }
   },
   "outputs": [],
   "source": [
    "x_train_rfe=selector_rfe.transform(x_train)\n",
    "x_test_rfe=selector_rfe.transform(x_test)"
   ]
  },
  {
   "cell_type": "code",
   "execution_count": 84,
   "id": "9785a89b",
   "metadata": {
    "ExecuteTime": {
     "end_time": "2021-12-05T16:57:02.185973Z",
     "start_time": "2021-12-05T16:57:02.013240Z"
    }
   },
   "outputs": [],
   "source": [
    "rf_model_rfe=RandomForestClassifier().fit(x_train_rfe,y_train)"
   ]
  },
  {
   "cell_type": "code",
   "execution_count": 85,
   "id": "e3bbb71d",
   "metadata": {
    "ExecuteTime": {
     "end_time": "2021-12-05T16:57:02.531757Z",
     "start_time": "2021-12-05T16:57:02.503511Z"
    }
   },
   "outputs": [],
   "source": [
    "y_pred_rfe=rf_model_rfe.predict(x_test_rfe)"
   ]
  },
  {
   "cell_type": "code",
   "execution_count": 86,
   "id": "6d1c2f32",
   "metadata": {
    "ExecuteTime": {
     "end_time": "2021-12-05T16:57:02.865630Z",
     "start_time": "2021-12-05T16:57:02.852363Z"
    }
   },
   "outputs": [
    {
     "name": "stdout",
     "output_type": "stream",
     "text": [
      "0.65\n"
     ]
    }
   ],
   "source": [
    "print(accuracy_score(y_test,y_pred_rfe))"
   ]
  },
  {
   "cell_type": "code",
   "execution_count": 87,
   "id": "54bd97de",
   "metadata": {
    "ExecuteTime": {
     "end_time": "2021-12-05T16:57:03.197596Z",
     "start_time": "2021-12-05T16:57:03.184593Z"
    }
   },
   "outputs": [
    {
     "name": "stdout",
     "output_type": "stream",
     "text": [
      "[[16 13  0]\n",
      " [ 7 34  4]\n",
      " [ 0  4  2]]\n"
     ]
    }
   ],
   "source": [
    "print(confusion_matrix(y_test,y_pred_rfe))"
   ]
  },
  {
   "cell_type": "code",
   "execution_count": 88,
   "id": "c8675804",
   "metadata": {
    "ExecuteTime": {
     "end_time": "2021-12-05T16:57:03.531817Z",
     "start_time": "2021-12-05T16:57:03.517789Z"
    }
   },
   "outputs": [
    {
     "name": "stdout",
     "output_type": "stream",
     "text": [
      "              precision    recall  f1-score   support\n",
      "\n",
      "         Low       0.70      0.55      0.62        29\n",
      "      Medium       0.67      0.76      0.71        45\n",
      "        high       0.33      0.33      0.33         6\n",
      "\n",
      "    accuracy                           0.65        80\n",
      "   macro avg       0.57      0.55      0.55        80\n",
      "weighted avg       0.65      0.65      0.65        80\n",
      "\n"
     ]
    }
   ],
   "source": [
    "print(classification_report(y_test,y_pred_rfe))"
   ]
  },
  {
   "cell_type": "code",
   "execution_count": 89,
   "id": "715fae4e",
   "metadata": {
    "ExecuteTime": {
     "end_time": "2021-12-05T16:57:03.880257Z",
     "start_time": "2021-12-05T16:57:03.853450Z"
    }
   },
   "outputs": [],
   "source": [
    "imp_feature_rfe=rf_model_rfe.feature_importances_"
   ]
  },
  {
   "cell_type": "code",
   "execution_count": 90,
   "id": "5271646b",
   "metadata": {
    "ExecuteTime": {
     "end_time": "2021-12-05T16:57:04.214970Z",
     "start_time": "2021-12-05T16:57:04.203759Z"
    }
   },
   "outputs": [],
   "source": [
    "data_rfe=pd.DataFrame({'feature':feature_rfe,'imp_feature':imp_feature_rfe})\n",
    "data_rfe=data_rfe.sort_values('imp_feature')"
   ]
  },
  {
   "cell_type": "code",
   "execution_count": 91,
   "id": "3b2a0c87",
   "metadata": {
    "ExecuteTime": {
     "end_time": "2021-12-05T16:57:04.708731Z",
     "start_time": "2021-12-05T16:57:04.536693Z"
    }
   },
   "outputs": [
    {
     "data": {
      "image/png": "[encoded data removed]",
      "text/plain": [
       "<Figure size 720x432 with 1 Axes>"
      ]
     },
     "metadata": {
      "needs_background": "light"
     },
     "output_type": "display_data"
    }
   ],
   "source": [
    "plt.figure(figsize=(10,6))\n",
    "plt.title('Feature Importance')\n",
    "sns.barplot(y='feature', x='imp_feature', data=data_rfe)\n",
    "plt.show()"
   ]
  },
  {
   "cell_type": "markdown",
   "id": "723f9c35",
   "metadata": {},
   "source": [
    "### Inference\n",
    "\n",
    "* Price is the feature which affect/contibute more for the sales\n",
    "\n",
    "* Competerior price fallows price which affect the most"
   ]
  }
 ],
 "metadata": {
  "kernelspec": {
   "display_name": "Python 3",
   "language": "python",
   "name": "python3"
  },
  "language_info": {
   "codemirror_mode": {
    "name": "ipython",
    "version": 3
   },
   "file_extension": ".py",
   "mimetype": "text/x-python",
   "name": "python",
   "nbconvert_exporter": "python",
   "pygments_lexer": "ipython3",
   "version": "3.8.8"
  },
  "varInspector": {
   "cols": {
    "lenName": 16,
    "lenType": 16,
    "lenVar": 40
   },
   "kernels_config": {
    "python": {
     "delete_cmd_postfix": "",
     "delete_cmd_prefix": "del ",
     "library": "var_list.py",
     "varRefreshCmd": "print(var_dic_list())"
    },
    "r": {
     "delete_cmd_postfix": ") ",
     "delete_cmd_prefix": "rm(",
     "library": "var_list.r",
     "varRefreshCmd": "cat(var_dic_list()) "
    }
   },
   "types_to_exclude": [
    "module",
    "function",
    "builtin_function_or_method",
    "instance",
    "_Feature"
   ],
   "window_display": false
  }
 },
 "nbformat": 4,
 "nbformat_minor": 5
}
