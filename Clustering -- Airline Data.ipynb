{
 "cells": [
  {
   "cell_type": "markdown",
   "id": "909bc686",
   "metadata": {},
   "source": [
    "## Import Necessary Libraries"
   ]
  },
  {
   "cell_type": "code",
   "execution_count": 1,
   "id": "93dcd22a",
   "metadata": {
    "ExecuteTime": {
     "end_time": "2021-12-14T13:37:55.987406Z",
     "start_time": "2021-12-14T13:37:54.533872Z"
    }
   },
   "outputs": [],
   "source": [
    "import pandas as pd\n",
    "import seaborn as sns\n",
    "import matplotlib.pyplot as plt\n",
    "import warnings\n",
    "warnings.filterwarnings('ignore')"
   ]
  },
  {
   "cell_type": "markdown",
   "id": "171c9820",
   "metadata": {},
   "source": [
    "## Import Datasets"
   ]
  },
  {
   "cell_type": "code",
   "execution_count": 2,
   "id": "286e98d6",
   "metadata": {
    "ExecuteTime": {
     "end_time": "2021-12-14T13:37:56.871180Z",
     "start_time": "2021-12-14T13:37:55.988408Z"
    }
   },
   "outputs": [
    {
     "data": {
      "text/html": [
       "<div>\n",
       "<style scoped>\n",
       "    .dataframe tbody tr th:only-of-type {\n",
       "        vertical-align: middle;\n",
       "    }\n",
       "\n",
       "    .dataframe tbody tr th {\n",
       "        vertical-align: top;\n",
       "    }\n",
       "\n",
       "    .dataframe thead th {\n",
       "        text-align: right;\n",
       "    }\n",
       "</style>\n",
       "<table border=\"1\" class=\"dataframe\">\n",
       "  <thead>\n",
       "    <tr style=\"text-align: right;\">\n",
       "      <th></th>\n",
       "      <th>ID#</th>\n",
       "      <th>Balance</th>\n",
       "      <th>Qual_miles</th>\n",
       "      <th>cc1_miles</th>\n",
       "      <th>cc2_miles</th>\n",
       "      <th>cc3_miles</th>\n",
       "      <th>Bonus_miles</th>\n",
       "      <th>Bonus_trans</th>\n",
       "      <th>Flight_miles_12mo</th>\n",
       "      <th>Flight_trans_12</th>\n",
       "      <th>Days_since_enroll</th>\n",
       "      <th>Award?</th>\n",
       "    </tr>\n",
       "  </thead>\n",
       "  <tbody>\n",
       "    <tr>\n",
       "      <th>0</th>\n",
       "      <td>1</td>\n",
       "      <td>28143</td>\n",
       "      <td>0</td>\n",
       "      <td>1</td>\n",
       "      <td>1</td>\n",
       "      <td>1</td>\n",
       "      <td>174</td>\n",
       "      <td>1</td>\n",
       "      <td>0</td>\n",
       "      <td>0</td>\n",
       "      <td>7000</td>\n",
       "      <td>0</td>\n",
       "    </tr>\n",
       "    <tr>\n",
       "      <th>1</th>\n",
       "      <td>2</td>\n",
       "      <td>19244</td>\n",
       "      <td>0</td>\n",
       "      <td>1</td>\n",
       "      <td>1</td>\n",
       "      <td>1</td>\n",
       "      <td>215</td>\n",
       "      <td>2</td>\n",
       "      <td>0</td>\n",
       "      <td>0</td>\n",
       "      <td>6968</td>\n",
       "      <td>0</td>\n",
       "    </tr>\n",
       "    <tr>\n",
       "      <th>2</th>\n",
       "      <td>3</td>\n",
       "      <td>41354</td>\n",
       "      <td>0</td>\n",
       "      <td>1</td>\n",
       "      <td>1</td>\n",
       "      <td>1</td>\n",
       "      <td>4123</td>\n",
       "      <td>4</td>\n",
       "      <td>0</td>\n",
       "      <td>0</td>\n",
       "      <td>7034</td>\n",
       "      <td>0</td>\n",
       "    </tr>\n",
       "    <tr>\n",
       "      <th>3</th>\n",
       "      <td>4</td>\n",
       "      <td>14776</td>\n",
       "      <td>0</td>\n",
       "      <td>1</td>\n",
       "      <td>1</td>\n",
       "      <td>1</td>\n",
       "      <td>500</td>\n",
       "      <td>1</td>\n",
       "      <td>0</td>\n",
       "      <td>0</td>\n",
       "      <td>6952</td>\n",
       "      <td>0</td>\n",
       "    </tr>\n",
       "    <tr>\n",
       "      <th>4</th>\n",
       "      <td>5</td>\n",
       "      <td>97752</td>\n",
       "      <td>0</td>\n",
       "      <td>4</td>\n",
       "      <td>1</td>\n",
       "      <td>1</td>\n",
       "      <td>43300</td>\n",
       "      <td>26</td>\n",
       "      <td>2077</td>\n",
       "      <td>4</td>\n",
       "      <td>6935</td>\n",
       "      <td>1</td>\n",
       "    </tr>\n",
       "    <tr>\n",
       "      <th>...</th>\n",
       "      <td>...</td>\n",
       "      <td>...</td>\n",
       "      <td>...</td>\n",
       "      <td>...</td>\n",
       "      <td>...</td>\n",
       "      <td>...</td>\n",
       "      <td>...</td>\n",
       "      <td>...</td>\n",
       "      <td>...</td>\n",
       "      <td>...</td>\n",
       "      <td>...</td>\n",
       "      <td>...</td>\n",
       "    </tr>\n",
       "    <tr>\n",
       "      <th>3994</th>\n",
       "      <td>4017</td>\n",
       "      <td>18476</td>\n",
       "      <td>0</td>\n",
       "      <td>1</td>\n",
       "      <td>1</td>\n",
       "      <td>1</td>\n",
       "      <td>8525</td>\n",
       "      <td>4</td>\n",
       "      <td>200</td>\n",
       "      <td>1</td>\n",
       "      <td>1403</td>\n",
       "      <td>1</td>\n",
       "    </tr>\n",
       "    <tr>\n",
       "      <th>3995</th>\n",
       "      <td>4018</td>\n",
       "      <td>64385</td>\n",
       "      <td>0</td>\n",
       "      <td>1</td>\n",
       "      <td>1</td>\n",
       "      <td>1</td>\n",
       "      <td>981</td>\n",
       "      <td>5</td>\n",
       "      <td>0</td>\n",
       "      <td>0</td>\n",
       "      <td>1395</td>\n",
       "      <td>1</td>\n",
       "    </tr>\n",
       "    <tr>\n",
       "      <th>3996</th>\n",
       "      <td>4019</td>\n",
       "      <td>73597</td>\n",
       "      <td>0</td>\n",
       "      <td>3</td>\n",
       "      <td>1</td>\n",
       "      <td>1</td>\n",
       "      <td>25447</td>\n",
       "      <td>8</td>\n",
       "      <td>0</td>\n",
       "      <td>0</td>\n",
       "      <td>1402</td>\n",
       "      <td>1</td>\n",
       "    </tr>\n",
       "    <tr>\n",
       "      <th>3997</th>\n",
       "      <td>4020</td>\n",
       "      <td>54899</td>\n",
       "      <td>0</td>\n",
       "      <td>1</td>\n",
       "      <td>1</td>\n",
       "      <td>1</td>\n",
       "      <td>500</td>\n",
       "      <td>1</td>\n",
       "      <td>500</td>\n",
       "      <td>1</td>\n",
       "      <td>1401</td>\n",
       "      <td>0</td>\n",
       "    </tr>\n",
       "    <tr>\n",
       "      <th>3998</th>\n",
       "      <td>4021</td>\n",
       "      <td>3016</td>\n",
       "      <td>0</td>\n",
       "      <td>1</td>\n",
       "      <td>1</td>\n",
       "      <td>1</td>\n",
       "      <td>0</td>\n",
       "      <td>0</td>\n",
       "      <td>0</td>\n",
       "      <td>0</td>\n",
       "      <td>1398</td>\n",
       "      <td>0</td>\n",
       "    </tr>\n",
       "  </tbody>\n",
       "</table>\n",
       "<p>3999 rows × 12 columns</p>\n",
       "</div>"
      ],
      "text/plain": [
       "       ID#  Balance  Qual_miles  cc1_miles  cc2_miles  cc3_miles  Bonus_miles  \\\n",
       "0        1    28143           0          1          1          1          174   \n",
       "1        2    19244           0          1          1          1          215   \n",
       "2        3    41354           0          1          1          1         4123   \n",
       "3        4    14776           0          1          1          1          500   \n",
       "4        5    97752           0          4          1          1        43300   \n",
       "...    ...      ...         ...        ...        ...        ...          ...   \n",
       "3994  4017    18476           0          1          1          1         8525   \n",
       "3995  4018    64385           0          1          1          1          981   \n",
       "3996  4019    73597           0          3          1          1        25447   \n",
       "3997  4020    54899           0          1          1          1          500   \n",
       "3998  4021     3016           0          1          1          1            0   \n",
       "\n",
       "      Bonus_trans  Flight_miles_12mo  Flight_trans_12  Days_since_enroll  \\\n",
       "0               1                  0                0               7000   \n",
       "1               2                  0                0               6968   \n",
       "2               4                  0                0               7034   \n",
       "3               1                  0                0               6952   \n",
       "4              26               2077                4               6935   \n",
       "...           ...                ...              ...                ...   \n",
       "3994            4                200                1               1403   \n",
       "3995            5                  0                0               1395   \n",
       "3996            8                  0                0               1402   \n",
       "3997            1                500                1               1401   \n",
       "3998            0                  0                0               1398   \n",
       "\n",
       "      Award?  \n",
       "0          0  \n",
       "1          0  \n",
       "2          0  \n",
       "3          0  \n",
       "4          1  \n",
       "...      ...  \n",
       "3994       1  \n",
       "3995       1  \n",
       "3996       1  \n",
       "3997       0  \n",
       "3998       0  \n",
       "\n",
       "[3999 rows x 12 columns]"
      ]
     },
     "execution_count": 2,
     "metadata": {},
     "output_type": "execute_result"
    }
   ],
   "source": [
    "airline_data=pd.read_excel('EastWestAirlines.xlsx',1)\n",
    "airline_data"
   ]
  },
  {
   "cell_type": "markdown",
   "id": "da1b1350",
   "metadata": {},
   "source": [
    "## Data Understanding"
   ]
  },
  {
   "cell_type": "code",
   "execution_count": 3,
   "id": "37a73082",
   "metadata": {
    "ExecuteTime": {
     "end_time": "2021-12-14T13:37:56.886183Z",
     "start_time": "2021-12-14T13:37:56.872180Z"
    }
   },
   "outputs": [
    {
     "data": {
      "text/plain": [
       "(3999, 12)"
      ]
     },
     "execution_count": 3,
     "metadata": {},
     "output_type": "execute_result"
    }
   ],
   "source": [
    "airline_data.shape"
   ]
  },
  {
   "cell_type": "code",
   "execution_count": 4,
   "id": "fc1f6fb8",
   "metadata": {
    "ExecuteTime": {
     "end_time": "2021-12-14T13:37:56.902186Z",
     "start_time": "2021-12-14T13:37:56.887183Z"
    }
   },
   "outputs": [
    {
     "data": {
      "text/plain": [
       "ID#                  0\n",
       "Balance              0\n",
       "Qual_miles           0\n",
       "cc1_miles            0\n",
       "cc2_miles            0\n",
       "cc3_miles            0\n",
       "Bonus_miles          0\n",
       "Bonus_trans          0\n",
       "Flight_miles_12mo    0\n",
       "Flight_trans_12      0\n",
       "Days_since_enroll    0\n",
       "Award?               0\n",
       "dtype: int64"
      ]
     },
     "execution_count": 4,
     "metadata": {},
     "output_type": "execute_result"
    }
   ],
   "source": [
    "airline_data.isna().sum()\n"
   ]
  },
  {
   "cell_type": "code",
   "execution_count": 5,
   "id": "6dcda122",
   "metadata": {
    "ExecuteTime": {
     "end_time": "2021-12-14T13:37:56.918190Z",
     "start_time": "2021-12-14T13:37:56.903187Z"
    }
   },
   "outputs": [
    {
     "data": {
      "text/plain": [
       "ID#                  int64\n",
       "Balance              int64\n",
       "Qual_miles           int64\n",
       "cc1_miles            int64\n",
       "cc2_miles            int64\n",
       "cc3_miles            int64\n",
       "Bonus_miles          int64\n",
       "Bonus_trans          int64\n",
       "Flight_miles_12mo    int64\n",
       "Flight_trans_12      int64\n",
       "Days_since_enroll    int64\n",
       "Award?               int64\n",
       "dtype: object"
      ]
     },
     "execution_count": 5,
     "metadata": {},
     "output_type": "execute_result"
    }
   ],
   "source": [
    "airline_data.dtypes"
   ]
  },
  {
   "cell_type": "markdown",
   "id": "b0c67218",
   "metadata": {},
   "source": [
    "## Data Preprocessing"
   ]
  },
  {
   "cell_type": "code",
   "execution_count": 6,
   "id": "fca9751f",
   "metadata": {
    "ExecuteTime": {
     "end_time": "2021-12-14T13:37:56.934194Z",
     "start_time": "2021-12-14T13:37:56.919190Z"
    }
   },
   "outputs": [
    {
     "data": {
      "text/html": [
       "<div>\n",
       "<style scoped>\n",
       "    .dataframe tbody tr th:only-of-type {\n",
       "        vertical-align: middle;\n",
       "    }\n",
       "\n",
       "    .dataframe tbody tr th {\n",
       "        vertical-align: top;\n",
       "    }\n",
       "\n",
       "    .dataframe thead th {\n",
       "        text-align: right;\n",
       "    }\n",
       "</style>\n",
       "<table border=\"1\" class=\"dataframe\">\n",
       "  <thead>\n",
       "    <tr style=\"text-align: right;\">\n",
       "      <th></th>\n",
       "      <th>Balance</th>\n",
       "      <th>Qual_miles</th>\n",
       "      <th>cc1_miles</th>\n",
       "      <th>cc2_miles</th>\n",
       "      <th>cc3_miles</th>\n",
       "      <th>Bonus_miles</th>\n",
       "      <th>Bonus_trans</th>\n",
       "      <th>Flight_miles_12mo</th>\n",
       "      <th>Flight_trans_12</th>\n",
       "      <th>Days_since_enroll</th>\n",
       "      <th>Award?</th>\n",
       "    </tr>\n",
       "  </thead>\n",
       "  <tbody>\n",
       "    <tr>\n",
       "      <th>0</th>\n",
       "      <td>28143</td>\n",
       "      <td>0</td>\n",
       "      <td>1</td>\n",
       "      <td>1</td>\n",
       "      <td>1</td>\n",
       "      <td>174</td>\n",
       "      <td>1</td>\n",
       "      <td>0</td>\n",
       "      <td>0</td>\n",
       "      <td>7000</td>\n",
       "      <td>0</td>\n",
       "    </tr>\n",
       "    <tr>\n",
       "      <th>1</th>\n",
       "      <td>19244</td>\n",
       "      <td>0</td>\n",
       "      <td>1</td>\n",
       "      <td>1</td>\n",
       "      <td>1</td>\n",
       "      <td>215</td>\n",
       "      <td>2</td>\n",
       "      <td>0</td>\n",
       "      <td>0</td>\n",
       "      <td>6968</td>\n",
       "      <td>0</td>\n",
       "    </tr>\n",
       "    <tr>\n",
       "      <th>2</th>\n",
       "      <td>41354</td>\n",
       "      <td>0</td>\n",
       "      <td>1</td>\n",
       "      <td>1</td>\n",
       "      <td>1</td>\n",
       "      <td>4123</td>\n",
       "      <td>4</td>\n",
       "      <td>0</td>\n",
       "      <td>0</td>\n",
       "      <td>7034</td>\n",
       "      <td>0</td>\n",
       "    </tr>\n",
       "    <tr>\n",
       "      <th>3</th>\n",
       "      <td>14776</td>\n",
       "      <td>0</td>\n",
       "      <td>1</td>\n",
       "      <td>1</td>\n",
       "      <td>1</td>\n",
       "      <td>500</td>\n",
       "      <td>1</td>\n",
       "      <td>0</td>\n",
       "      <td>0</td>\n",
       "      <td>6952</td>\n",
       "      <td>0</td>\n",
       "    </tr>\n",
       "    <tr>\n",
       "      <th>4</th>\n",
       "      <td>97752</td>\n",
       "      <td>0</td>\n",
       "      <td>4</td>\n",
       "      <td>1</td>\n",
       "      <td>1</td>\n",
       "      <td>43300</td>\n",
       "      <td>26</td>\n",
       "      <td>2077</td>\n",
       "      <td>4</td>\n",
       "      <td>6935</td>\n",
       "      <td>1</td>\n",
       "    </tr>\n",
       "    <tr>\n",
       "      <th>...</th>\n",
       "      <td>...</td>\n",
       "      <td>...</td>\n",
       "      <td>...</td>\n",
       "      <td>...</td>\n",
       "      <td>...</td>\n",
       "      <td>...</td>\n",
       "      <td>...</td>\n",
       "      <td>...</td>\n",
       "      <td>...</td>\n",
       "      <td>...</td>\n",
       "      <td>...</td>\n",
       "    </tr>\n",
       "    <tr>\n",
       "      <th>3994</th>\n",
       "      <td>18476</td>\n",
       "      <td>0</td>\n",
       "      <td>1</td>\n",
       "      <td>1</td>\n",
       "      <td>1</td>\n",
       "      <td>8525</td>\n",
       "      <td>4</td>\n",
       "      <td>200</td>\n",
       "      <td>1</td>\n",
       "      <td>1403</td>\n",
       "      <td>1</td>\n",
       "    </tr>\n",
       "    <tr>\n",
       "      <th>3995</th>\n",
       "      <td>64385</td>\n",
       "      <td>0</td>\n",
       "      <td>1</td>\n",
       "      <td>1</td>\n",
       "      <td>1</td>\n",
       "      <td>981</td>\n",
       "      <td>5</td>\n",
       "      <td>0</td>\n",
       "      <td>0</td>\n",
       "      <td>1395</td>\n",
       "      <td>1</td>\n",
       "    </tr>\n",
       "    <tr>\n",
       "      <th>3996</th>\n",
       "      <td>73597</td>\n",
       "      <td>0</td>\n",
       "      <td>3</td>\n",
       "      <td>1</td>\n",
       "      <td>1</td>\n",
       "      <td>25447</td>\n",
       "      <td>8</td>\n",
       "      <td>0</td>\n",
       "      <td>0</td>\n",
       "      <td>1402</td>\n",
       "      <td>1</td>\n",
       "    </tr>\n",
       "    <tr>\n",
       "      <th>3997</th>\n",
       "      <td>54899</td>\n",
       "      <td>0</td>\n",
       "      <td>1</td>\n",
       "      <td>1</td>\n",
       "      <td>1</td>\n",
       "      <td>500</td>\n",
       "      <td>1</td>\n",
       "      <td>500</td>\n",
       "      <td>1</td>\n",
       "      <td>1401</td>\n",
       "      <td>0</td>\n",
       "    </tr>\n",
       "    <tr>\n",
       "      <th>3998</th>\n",
       "      <td>3016</td>\n",
       "      <td>0</td>\n",
       "      <td>1</td>\n",
       "      <td>1</td>\n",
       "      <td>1</td>\n",
       "      <td>0</td>\n",
       "      <td>0</td>\n",
       "      <td>0</td>\n",
       "      <td>0</td>\n",
       "      <td>1398</td>\n",
       "      <td>0</td>\n",
       "    </tr>\n",
       "  </tbody>\n",
       "</table>\n",
       "<p>3999 rows × 11 columns</p>\n",
       "</div>"
      ],
      "text/plain": [
       "      Balance  Qual_miles  cc1_miles  cc2_miles  cc3_miles  Bonus_miles  \\\n",
       "0       28143           0          1          1          1          174   \n",
       "1       19244           0          1          1          1          215   \n",
       "2       41354           0          1          1          1         4123   \n",
       "3       14776           0          1          1          1          500   \n",
       "4       97752           0          4          1          1        43300   \n",
       "...       ...         ...        ...        ...        ...          ...   \n",
       "3994    18476           0          1          1          1         8525   \n",
       "3995    64385           0          1          1          1          981   \n",
       "3996    73597           0          3          1          1        25447   \n",
       "3997    54899           0          1          1          1          500   \n",
       "3998     3016           0          1          1          1            0   \n",
       "\n",
       "      Bonus_trans  Flight_miles_12mo  Flight_trans_12  Days_since_enroll  \\\n",
       "0               1                  0                0               7000   \n",
       "1               2                  0                0               6968   \n",
       "2               4                  0                0               7034   \n",
       "3               1                  0                0               6952   \n",
       "4              26               2077                4               6935   \n",
       "...           ...                ...              ...                ...   \n",
       "3994            4                200                1               1403   \n",
       "3995            5                  0                0               1395   \n",
       "3996            8                  0                0               1402   \n",
       "3997            1                500                1               1401   \n",
       "3998            0                  0                0               1398   \n",
       "\n",
       "      Award?  \n",
       "0          0  \n",
       "1          0  \n",
       "2          0  \n",
       "3          0  \n",
       "4          1  \n",
       "...      ...  \n",
       "3994       1  \n",
       "3995       1  \n",
       "3996       1  \n",
       "3997       0  \n",
       "3998       0  \n",
       "\n",
       "[3999 rows x 11 columns]"
      ]
     },
     "execution_count": 6,
     "metadata": {},
     "output_type": "execute_result"
    }
   ],
   "source": [
    "x=airline_data.iloc[:,1:]\n",
    "x"
   ]
  },
  {
   "cell_type": "code",
   "execution_count": 7,
   "id": "25261747",
   "metadata": {
    "ExecuteTime": {
     "end_time": "2021-12-14T13:37:57.392008Z",
     "start_time": "2021-12-14T13:37:56.936194Z"
    }
   },
   "outputs": [],
   "source": [
    "from sklearn.preprocessing import StandardScaler\n",
    "airline_data_std=StandardScaler().fit_transform(x)"
   ]
  },
  {
   "cell_type": "code",
   "execution_count": 8,
   "id": "de69b0c6",
   "metadata": {
    "ExecuteTime": {
     "end_time": "2021-12-14T13:37:57.407998Z",
     "start_time": "2021-12-14T13:37:57.394011Z"
    }
   },
   "outputs": [
    {
     "data": {
      "text/plain": [
       "array([[-4.51140783e-01, -1.86298687e-01, -7.69578406e-01, ...,\n",
       "        -3.62167870e-01,  1.39545434e+00, -7.66919299e-01],\n",
       "       [-5.39456874e-01, -1.86298687e-01, -7.69578406e-01, ...,\n",
       "        -3.62167870e-01,  1.37995704e+00, -7.66919299e-01],\n",
       "       [-3.20031232e-01, -1.86298687e-01, -7.69578406e-01, ...,\n",
       "        -3.62167870e-01,  1.41192021e+00, -7.66919299e-01],\n",
       "       ...,\n",
       "       [-4.29480975e-05, -1.86298687e-01,  6.83121167e-01, ...,\n",
       "        -3.62167870e-01, -1.31560393e+00,  1.30391816e+00],\n",
       "       [-1.85606976e-01, -1.86298687e-01, -7.69578406e-01, ...,\n",
       "        -9.85033311e-02, -1.31608822e+00, -7.66919299e-01],\n",
       "       [-7.00507951e-01, -1.86298687e-01, -7.69578406e-01, ...,\n",
       "        -3.62167870e-01, -1.31754109e+00, -7.66919299e-01]])"
      ]
     },
     "execution_count": 8,
     "metadata": {},
     "output_type": "execute_result"
    }
   ],
   "source": [
    "airline_data_std"
   ]
  },
  {
   "cell_type": "markdown",
   "id": "905f2198",
   "metadata": {},
   "source": [
    "## Hierarchical Clustering"
   ]
  },
  {
   "cell_type": "code",
   "execution_count": 9,
   "id": "fc782d4a",
   "metadata": {
    "ExecuteTime": {
     "end_time": "2021-12-14T13:37:57.423008Z",
     "start_time": "2021-12-14T13:37:57.408999Z"
    }
   },
   "outputs": [],
   "source": [
    "airline_data_scaled=pd.DataFrame(airline_data_std,columns=x.columns)\n",
    "#crime_data_scaled['country']=crime_data['country']\n",
    "#crime_data_scaled"
   ]
  },
  {
   "cell_type": "code",
   "execution_count": 10,
   "id": "f3d1409f",
   "metadata": {
    "ExecuteTime": {
     "end_time": "2021-12-14T13:37:57.439022Z",
     "start_time": "2021-12-14T13:37:57.424019Z"
    }
   },
   "outputs": [
    {
     "data": {
      "text/html": [
       "<div>\n",
       "<style scoped>\n",
       "    .dataframe tbody tr th:only-of-type {\n",
       "        vertical-align: middle;\n",
       "    }\n",
       "\n",
       "    .dataframe tbody tr th {\n",
       "        vertical-align: top;\n",
       "    }\n",
       "\n",
       "    .dataframe thead th {\n",
       "        text-align: right;\n",
       "    }\n",
       "</style>\n",
       "<table border=\"1\" class=\"dataframe\">\n",
       "  <thead>\n",
       "    <tr style=\"text-align: right;\">\n",
       "      <th></th>\n",
       "      <th>Balance</th>\n",
       "      <th>Qual_miles</th>\n",
       "      <th>cc1_miles</th>\n",
       "      <th>cc2_miles</th>\n",
       "      <th>cc3_miles</th>\n",
       "      <th>Bonus_miles</th>\n",
       "      <th>Bonus_trans</th>\n",
       "      <th>Flight_miles_12mo</th>\n",
       "      <th>Flight_trans_12</th>\n",
       "      <th>Days_since_enroll</th>\n",
       "      <th>Award?</th>\n",
       "    </tr>\n",
       "  </thead>\n",
       "  <tbody>\n",
       "    <tr>\n",
       "      <th>0</th>\n",
       "      <td>-0.451141</td>\n",
       "      <td>-0.186299</td>\n",
       "      <td>-0.769578</td>\n",
       "      <td>-0.098242</td>\n",
       "      <td>-0.062767</td>\n",
       "      <td>-0.702786</td>\n",
       "      <td>-1.104065</td>\n",
       "      <td>-0.328603</td>\n",
       "      <td>-0.362168</td>\n",
       "      <td>1.395454</td>\n",
       "      <td>-0.766919</td>\n",
       "    </tr>\n",
       "    <tr>\n",
       "      <th>1</th>\n",
       "      <td>-0.539457</td>\n",
       "      <td>-0.186299</td>\n",
       "      <td>-0.769578</td>\n",
       "      <td>-0.098242</td>\n",
       "      <td>-0.062767</td>\n",
       "      <td>-0.701088</td>\n",
       "      <td>-0.999926</td>\n",
       "      <td>-0.328603</td>\n",
       "      <td>-0.362168</td>\n",
       "      <td>1.379957</td>\n",
       "      <td>-0.766919</td>\n",
       "    </tr>\n",
       "    <tr>\n",
       "      <th>2</th>\n",
       "      <td>-0.320031</td>\n",
       "      <td>-0.186299</td>\n",
       "      <td>-0.769578</td>\n",
       "      <td>-0.098242</td>\n",
       "      <td>-0.062767</td>\n",
       "      <td>-0.539253</td>\n",
       "      <td>-0.791649</td>\n",
       "      <td>-0.328603</td>\n",
       "      <td>-0.362168</td>\n",
       "      <td>1.411920</td>\n",
       "      <td>-0.766919</td>\n",
       "    </tr>\n",
       "    <tr>\n",
       "      <th>3</th>\n",
       "      <td>-0.583799</td>\n",
       "      <td>-0.186299</td>\n",
       "      <td>-0.769578</td>\n",
       "      <td>-0.098242</td>\n",
       "      <td>-0.062767</td>\n",
       "      <td>-0.689286</td>\n",
       "      <td>-1.104065</td>\n",
       "      <td>-0.328603</td>\n",
       "      <td>-0.362168</td>\n",
       "      <td>1.372208</td>\n",
       "      <td>-0.766919</td>\n",
       "    </tr>\n",
       "    <tr>\n",
       "      <th>4</th>\n",
       "      <td>0.239678</td>\n",
       "      <td>-0.186299</td>\n",
       "      <td>1.409471</td>\n",
       "      <td>-0.098242</td>\n",
       "      <td>-0.062767</td>\n",
       "      <td>1.083121</td>\n",
       "      <td>1.499394</td>\n",
       "      <td>1.154932</td>\n",
       "      <td>0.692490</td>\n",
       "      <td>1.363975</td>\n",
       "      <td>1.303918</td>\n",
       "    </tr>\n",
       "    <tr>\n",
       "      <th>...</th>\n",
       "      <td>...</td>\n",
       "      <td>...</td>\n",
       "      <td>...</td>\n",
       "      <td>...</td>\n",
       "      <td>...</td>\n",
       "      <td>...</td>\n",
       "      <td>...</td>\n",
       "      <td>...</td>\n",
       "      <td>...</td>\n",
       "      <td>...</td>\n",
       "      <td>...</td>\n",
       "    </tr>\n",
       "    <tr>\n",
       "      <th>3994</th>\n",
       "      <td>-0.547079</td>\n",
       "      <td>-0.186299</td>\n",
       "      <td>-0.769578</td>\n",
       "      <td>-0.098242</td>\n",
       "      <td>-0.062767</td>\n",
       "      <td>-0.356960</td>\n",
       "      <td>-0.791649</td>\n",
       "      <td>-0.185750</td>\n",
       "      <td>-0.098503</td>\n",
       "      <td>-1.315120</td>\n",
       "      <td>1.303918</td>\n",
       "    </tr>\n",
       "    <tr>\n",
       "      <th>3995</th>\n",
       "      <td>-0.091465</td>\n",
       "      <td>-0.186299</td>\n",
       "      <td>-0.769578</td>\n",
       "      <td>-0.098242</td>\n",
       "      <td>-0.062767</td>\n",
       "      <td>-0.669367</td>\n",
       "      <td>-0.687511</td>\n",
       "      <td>-0.328603</td>\n",
       "      <td>-0.362168</td>\n",
       "      <td>-1.318994</td>\n",
       "      <td>1.303918</td>\n",
       "    </tr>\n",
       "    <tr>\n",
       "      <th>3996</th>\n",
       "      <td>-0.000043</td>\n",
       "      <td>-0.186299</td>\n",
       "      <td>0.683121</td>\n",
       "      <td>-0.098242</td>\n",
       "      <td>-0.062767</td>\n",
       "      <td>0.343804</td>\n",
       "      <td>-0.375096</td>\n",
       "      <td>-0.328603</td>\n",
       "      <td>-0.362168</td>\n",
       "      <td>-1.315604</td>\n",
       "      <td>1.303918</td>\n",
       "    </tr>\n",
       "    <tr>\n",
       "      <th>3997</th>\n",
       "      <td>-0.185607</td>\n",
       "      <td>-0.186299</td>\n",
       "      <td>-0.769578</td>\n",
       "      <td>-0.098242</td>\n",
       "      <td>-0.062767</td>\n",
       "      <td>-0.689286</td>\n",
       "      <td>-1.104065</td>\n",
       "      <td>0.028531</td>\n",
       "      <td>-0.098503</td>\n",
       "      <td>-1.316088</td>\n",
       "      <td>-0.766919</td>\n",
       "    </tr>\n",
       "    <tr>\n",
       "      <th>3998</th>\n",
       "      <td>-0.700508</td>\n",
       "      <td>-0.186299</td>\n",
       "      <td>-0.769578</td>\n",
       "      <td>-0.098242</td>\n",
       "      <td>-0.062767</td>\n",
       "      <td>-0.709992</td>\n",
       "      <td>-1.208203</td>\n",
       "      <td>-0.328603</td>\n",
       "      <td>-0.362168</td>\n",
       "      <td>-1.317541</td>\n",
       "      <td>-0.766919</td>\n",
       "    </tr>\n",
       "  </tbody>\n",
       "</table>\n",
       "<p>3999 rows × 11 columns</p>\n",
       "</div>"
      ],
      "text/plain": [
       "       Balance  Qual_miles  cc1_miles  cc2_miles  cc3_miles  Bonus_miles  \\\n",
       "0    -0.451141   -0.186299  -0.769578  -0.098242  -0.062767    -0.702786   \n",
       "1    -0.539457   -0.186299  -0.769578  -0.098242  -0.062767    -0.701088   \n",
       "2    -0.320031   -0.186299  -0.769578  -0.098242  -0.062767    -0.539253   \n",
       "3    -0.583799   -0.186299  -0.769578  -0.098242  -0.062767    -0.689286   \n",
       "4     0.239678   -0.186299   1.409471  -0.098242  -0.062767     1.083121   \n",
       "...        ...         ...        ...        ...        ...          ...   \n",
       "3994 -0.547079   -0.186299  -0.769578  -0.098242  -0.062767    -0.356960   \n",
       "3995 -0.091465   -0.186299  -0.769578  -0.098242  -0.062767    -0.669367   \n",
       "3996 -0.000043   -0.186299   0.683121  -0.098242  -0.062767     0.343804   \n",
       "3997 -0.185607   -0.186299  -0.769578  -0.098242  -0.062767    -0.689286   \n",
       "3998 -0.700508   -0.186299  -0.769578  -0.098242  -0.062767    -0.709992   \n",
       "\n",
       "      Bonus_trans  Flight_miles_12mo  Flight_trans_12  Days_since_enroll  \\\n",
       "0       -1.104065          -0.328603        -0.362168           1.395454   \n",
       "1       -0.999926          -0.328603        -0.362168           1.379957   \n",
       "2       -0.791649          -0.328603        -0.362168           1.411920   \n",
       "3       -1.104065          -0.328603        -0.362168           1.372208   \n",
       "4        1.499394           1.154932         0.692490           1.363975   \n",
       "...           ...                ...              ...                ...   \n",
       "3994    -0.791649          -0.185750        -0.098503          -1.315120   \n",
       "3995    -0.687511          -0.328603        -0.362168          -1.318994   \n",
       "3996    -0.375096          -0.328603        -0.362168          -1.315604   \n",
       "3997    -1.104065           0.028531        -0.098503          -1.316088   \n",
       "3998    -1.208203          -0.328603        -0.362168          -1.317541   \n",
       "\n",
       "        Award?  \n",
       "0    -0.766919  \n",
       "1    -0.766919  \n",
       "2    -0.766919  \n",
       "3    -0.766919  \n",
       "4     1.303918  \n",
       "...        ...  \n",
       "3994  1.303918  \n",
       "3995  1.303918  \n",
       "3996  1.303918  \n",
       "3997 -0.766919  \n",
       "3998 -0.766919  \n",
       "\n",
       "[3999 rows x 11 columns]"
      ]
     },
     "execution_count": 10,
     "metadata": {},
     "output_type": "execute_result"
    }
   ],
   "source": [
    "airline_data_scaled"
   ]
  },
  {
   "cell_type": "code",
   "execution_count": 11,
   "id": "47dbabc9",
   "metadata": {
    "ExecuteTime": {
     "end_time": "2021-12-14T13:37:57.454960Z",
     "start_time": "2021-12-14T13:37:57.440022Z"
    }
   },
   "outputs": [],
   "source": [
    "import scipy.cluster.hierarchy as sch"
   ]
  },
  {
   "cell_type": "code",
   "execution_count": 12,
   "id": "11ce2d1d",
   "metadata": {
    "ExecuteTime": {
     "end_time": "2021-12-14T13:39:39.376572Z",
     "start_time": "2021-12-14T13:37:57.455961Z"
    }
   },
   "outputs": [
    {
     "data": {
      "image/png": "[encoded data removed]",
      "text/plain": [
       "<Figure size 432x288 with 1 Axes>"
      ]
     },
     "metadata": {
      "needs_background": "light"
     },
     "output_type": "display_data"
    }
   ],
   "source": [
    "dendogram=sch.dendrogram(sch.linkage(airline_data_scaled,method='single', metric='euclidean'))"
   ]
  },
  {
   "cell_type": "code",
   "execution_count": 13,
   "id": "f73f01bd",
   "metadata": {
    "ExecuteTime": {
     "end_time": "2021-12-14T13:39:39.609364Z",
     "start_time": "2021-12-14T13:39:39.377564Z"
    }
   },
   "outputs": [],
   "source": [
    "from sklearn.cluster import AgglomerativeClustering"
   ]
  },
  {
   "cell_type": "code",
   "execution_count": 14,
   "id": "4f13295d",
   "metadata": {
    "ExecuteTime": {
     "end_time": "2021-12-14T13:39:39.624308Z",
     "start_time": "2021-12-14T13:39:39.610364Z"
    }
   },
   "outputs": [
    {
     "data": {
      "text/plain": [
       "AgglomerativeClustering(linkage='single')"
      ]
     },
     "execution_count": 14,
     "metadata": {},
     "output_type": "execute_result"
    }
   ],
   "source": [
    "hc=AgglomerativeClustering(n_clusters=2,linkage='single')\n",
    "hc"
   ]
  },
  {
   "cell_type": "code",
   "execution_count": 15,
   "id": "471d537a",
   "metadata": {
    "ExecuteTime": {
     "end_time": "2021-12-14T13:39:39.749337Z",
     "start_time": "2021-12-14T13:39:39.625310Z"
    }
   },
   "outputs": [
    {
     "data": {
      "text/plain": [
       "array([0, 0, 0, ..., 0, 0, 0], dtype=int64)"
      ]
     },
     "execution_count": 15,
     "metadata": {},
     "output_type": "execute_result"
    }
   ],
   "source": [
    "y_hc=hc.fit_predict(airline_data_scaled)\n",
    "y_hc"
   ]
  },
  {
   "cell_type": "code",
   "execution_count": 16,
   "id": "8c19d3a3",
   "metadata": {
    "ExecuteTime": {
     "end_time": "2021-12-14T13:39:39.764341Z",
     "start_time": "2021-12-14T13:39:39.750339Z"
    }
   },
   "outputs": [
    {
     "data": {
      "text/html": [
       "<div>\n",
       "<style scoped>\n",
       "    .dataframe tbody tr th:only-of-type {\n",
       "        vertical-align: middle;\n",
       "    }\n",
       "\n",
       "    .dataframe tbody tr th {\n",
       "        vertical-align: top;\n",
       "    }\n",
       "\n",
       "    .dataframe thead th {\n",
       "        text-align: right;\n",
       "    }\n",
       "</style>\n",
       "<table border=\"1\" class=\"dataframe\">\n",
       "  <thead>\n",
       "    <tr style=\"text-align: right;\">\n",
       "      <th></th>\n",
       "      <th>cluster</th>\n",
       "    </tr>\n",
       "  </thead>\n",
       "  <tbody>\n",
       "    <tr>\n",
       "      <th>0</th>\n",
       "      <td>0</td>\n",
       "    </tr>\n",
       "    <tr>\n",
       "      <th>1</th>\n",
       "      <td>0</td>\n",
       "    </tr>\n",
       "    <tr>\n",
       "      <th>2</th>\n",
       "      <td>0</td>\n",
       "    </tr>\n",
       "    <tr>\n",
       "      <th>3</th>\n",
       "      <td>0</td>\n",
       "    </tr>\n",
       "    <tr>\n",
       "      <th>4</th>\n",
       "      <td>0</td>\n",
       "    </tr>\n",
       "    <tr>\n",
       "      <th>...</th>\n",
       "      <td>...</td>\n",
       "    </tr>\n",
       "    <tr>\n",
       "      <th>3994</th>\n",
       "      <td>0</td>\n",
       "    </tr>\n",
       "    <tr>\n",
       "      <th>3995</th>\n",
       "      <td>0</td>\n",
       "    </tr>\n",
       "    <tr>\n",
       "      <th>3996</th>\n",
       "      <td>0</td>\n",
       "    </tr>\n",
       "    <tr>\n",
       "      <th>3997</th>\n",
       "      <td>0</td>\n",
       "    </tr>\n",
       "    <tr>\n",
       "      <th>3998</th>\n",
       "      <td>0</td>\n",
       "    </tr>\n",
       "  </tbody>\n",
       "</table>\n",
       "<p>3999 rows × 1 columns</p>\n",
       "</div>"
      ],
      "text/plain": [
       "      cluster\n",
       "0           0\n",
       "1           0\n",
       "2           0\n",
       "3           0\n",
       "4           0\n",
       "...       ...\n",
       "3994        0\n",
       "3995        0\n",
       "3996        0\n",
       "3997        0\n",
       "3998        0\n",
       "\n",
       "[3999 rows x 1 columns]"
      ]
     },
     "execution_count": 16,
     "metadata": {},
     "output_type": "execute_result"
    }
   ],
   "source": [
    "cluster_ag=pd.DataFrame({'cluster':y_hc})\n",
    "cluster_ag"
   ]
  },
  {
   "cell_type": "code",
   "execution_count": 17,
   "id": "f8d4ed01",
   "metadata": {
    "ExecuteTime": {
     "end_time": "2021-12-14T13:39:39.780345Z",
     "start_time": "2021-12-14T13:39:39.765342Z"
    }
   },
   "outputs": [
    {
     "data": {
      "text/html": [
       "<div>\n",
       "<style scoped>\n",
       "    .dataframe tbody tr th:only-of-type {\n",
       "        vertical-align: middle;\n",
       "    }\n",
       "\n",
       "    .dataframe tbody tr th {\n",
       "        vertical-align: top;\n",
       "    }\n",
       "\n",
       "    .dataframe thead th {\n",
       "        text-align: right;\n",
       "    }\n",
       "</style>\n",
       "<table border=\"1\" class=\"dataframe\">\n",
       "  <thead>\n",
       "    <tr style=\"text-align: right;\">\n",
       "      <th></th>\n",
       "      <th>ID#</th>\n",
       "      <th>Balance</th>\n",
       "      <th>Qual_miles</th>\n",
       "      <th>cc1_miles</th>\n",
       "      <th>cc2_miles</th>\n",
       "      <th>cc3_miles</th>\n",
       "      <th>Bonus_miles</th>\n",
       "      <th>Bonus_trans</th>\n",
       "      <th>Flight_miles_12mo</th>\n",
       "      <th>Flight_trans_12</th>\n",
       "      <th>Days_since_enroll</th>\n",
       "      <th>Award?</th>\n",
       "    </tr>\n",
       "  </thead>\n",
       "  <tbody>\n",
       "    <tr>\n",
       "      <th>0</th>\n",
       "      <td>1</td>\n",
       "      <td>28143</td>\n",
       "      <td>0</td>\n",
       "      <td>1</td>\n",
       "      <td>1</td>\n",
       "      <td>1</td>\n",
       "      <td>174</td>\n",
       "      <td>1</td>\n",
       "      <td>0</td>\n",
       "      <td>0</td>\n",
       "      <td>7000</td>\n",
       "      <td>0</td>\n",
       "    </tr>\n",
       "    <tr>\n",
       "      <th>1</th>\n",
       "      <td>2</td>\n",
       "      <td>19244</td>\n",
       "      <td>0</td>\n",
       "      <td>1</td>\n",
       "      <td>1</td>\n",
       "      <td>1</td>\n",
       "      <td>215</td>\n",
       "      <td>2</td>\n",
       "      <td>0</td>\n",
       "      <td>0</td>\n",
       "      <td>6968</td>\n",
       "      <td>0</td>\n",
       "    </tr>\n",
       "    <tr>\n",
       "      <th>2</th>\n",
       "      <td>3</td>\n",
       "      <td>41354</td>\n",
       "      <td>0</td>\n",
       "      <td>1</td>\n",
       "      <td>1</td>\n",
       "      <td>1</td>\n",
       "      <td>4123</td>\n",
       "      <td>4</td>\n",
       "      <td>0</td>\n",
       "      <td>0</td>\n",
       "      <td>7034</td>\n",
       "      <td>0</td>\n",
       "    </tr>\n",
       "    <tr>\n",
       "      <th>3</th>\n",
       "      <td>4</td>\n",
       "      <td>14776</td>\n",
       "      <td>0</td>\n",
       "      <td>1</td>\n",
       "      <td>1</td>\n",
       "      <td>1</td>\n",
       "      <td>500</td>\n",
       "      <td>1</td>\n",
       "      <td>0</td>\n",
       "      <td>0</td>\n",
       "      <td>6952</td>\n",
       "      <td>0</td>\n",
       "    </tr>\n",
       "    <tr>\n",
       "      <th>4</th>\n",
       "      <td>5</td>\n",
       "      <td>97752</td>\n",
       "      <td>0</td>\n",
       "      <td>4</td>\n",
       "      <td>1</td>\n",
       "      <td>1</td>\n",
       "      <td>43300</td>\n",
       "      <td>26</td>\n",
       "      <td>2077</td>\n",
       "      <td>4</td>\n",
       "      <td>6935</td>\n",
       "      <td>1</td>\n",
       "    </tr>\n",
       "    <tr>\n",
       "      <th>...</th>\n",
       "      <td>...</td>\n",
       "      <td>...</td>\n",
       "      <td>...</td>\n",
       "      <td>...</td>\n",
       "      <td>...</td>\n",
       "      <td>...</td>\n",
       "      <td>...</td>\n",
       "      <td>...</td>\n",
       "      <td>...</td>\n",
       "      <td>...</td>\n",
       "      <td>...</td>\n",
       "      <td>...</td>\n",
       "    </tr>\n",
       "    <tr>\n",
       "      <th>3994</th>\n",
       "      <td>4017</td>\n",
       "      <td>18476</td>\n",
       "      <td>0</td>\n",
       "      <td>1</td>\n",
       "      <td>1</td>\n",
       "      <td>1</td>\n",
       "      <td>8525</td>\n",
       "      <td>4</td>\n",
       "      <td>200</td>\n",
       "      <td>1</td>\n",
       "      <td>1403</td>\n",
       "      <td>1</td>\n",
       "    </tr>\n",
       "    <tr>\n",
       "      <th>3995</th>\n",
       "      <td>4018</td>\n",
       "      <td>64385</td>\n",
       "      <td>0</td>\n",
       "      <td>1</td>\n",
       "      <td>1</td>\n",
       "      <td>1</td>\n",
       "      <td>981</td>\n",
       "      <td>5</td>\n",
       "      <td>0</td>\n",
       "      <td>0</td>\n",
       "      <td>1395</td>\n",
       "      <td>1</td>\n",
       "    </tr>\n",
       "    <tr>\n",
       "      <th>3996</th>\n",
       "      <td>4019</td>\n",
       "      <td>73597</td>\n",
       "      <td>0</td>\n",
       "      <td>3</td>\n",
       "      <td>1</td>\n",
       "      <td>1</td>\n",
       "      <td>25447</td>\n",
       "      <td>8</td>\n",
       "      <td>0</td>\n",
       "      <td>0</td>\n",
       "      <td>1402</td>\n",
       "      <td>1</td>\n",
       "    </tr>\n",
       "    <tr>\n",
       "      <th>3997</th>\n",
       "      <td>4020</td>\n",
       "      <td>54899</td>\n",
       "      <td>0</td>\n",
       "      <td>1</td>\n",
       "      <td>1</td>\n",
       "      <td>1</td>\n",
       "      <td>500</td>\n",
       "      <td>1</td>\n",
       "      <td>500</td>\n",
       "      <td>1</td>\n",
       "      <td>1401</td>\n",
       "      <td>0</td>\n",
       "    </tr>\n",
       "    <tr>\n",
       "      <th>3998</th>\n",
       "      <td>4021</td>\n",
       "      <td>3016</td>\n",
       "      <td>0</td>\n",
       "      <td>1</td>\n",
       "      <td>1</td>\n",
       "      <td>1</td>\n",
       "      <td>0</td>\n",
       "      <td>0</td>\n",
       "      <td>0</td>\n",
       "      <td>0</td>\n",
       "      <td>1398</td>\n",
       "      <td>0</td>\n",
       "    </tr>\n",
       "  </tbody>\n",
       "</table>\n",
       "<p>3999 rows × 12 columns</p>\n",
       "</div>"
      ],
      "text/plain": [
       "       ID#  Balance  Qual_miles  cc1_miles  cc2_miles  cc3_miles  Bonus_miles  \\\n",
       "0        1    28143           0          1          1          1          174   \n",
       "1        2    19244           0          1          1          1          215   \n",
       "2        3    41354           0          1          1          1         4123   \n",
       "3        4    14776           0          1          1          1          500   \n",
       "4        5    97752           0          4          1          1        43300   \n",
       "...    ...      ...         ...        ...        ...        ...          ...   \n",
       "3994  4017    18476           0          1          1          1         8525   \n",
       "3995  4018    64385           0          1          1          1          981   \n",
       "3996  4019    73597           0          3          1          1        25447   \n",
       "3997  4020    54899           0          1          1          1          500   \n",
       "3998  4021     3016           0          1          1          1            0   \n",
       "\n",
       "      Bonus_trans  Flight_miles_12mo  Flight_trans_12  Days_since_enroll  \\\n",
       "0               1                  0                0               7000   \n",
       "1               2                  0                0               6968   \n",
       "2               4                  0                0               7034   \n",
       "3               1                  0                0               6952   \n",
       "4              26               2077                4               6935   \n",
       "...           ...                ...              ...                ...   \n",
       "3994            4                200                1               1403   \n",
       "3995            5                  0                0               1395   \n",
       "3996            8                  0                0               1402   \n",
       "3997            1                500                1               1401   \n",
       "3998            0                  0                0               1398   \n",
       "\n",
       "      Award?  \n",
       "0          0  \n",
       "1          0  \n",
       "2          0  \n",
       "3          0  \n",
       "4          1  \n",
       "...      ...  \n",
       "3994       1  \n",
       "3995       1  \n",
       "3996       1  \n",
       "3997       0  \n",
       "3998       0  \n",
       "\n",
       "[3999 rows x 12 columns]"
      ]
     },
     "execution_count": 17,
     "metadata": {},
     "output_type": "execute_result"
    }
   ],
   "source": [
    "airline_data_1 = airline_data\n",
    "airline_data_1"
   ]
  },
  {
   "cell_type": "code",
   "execution_count": 18,
   "id": "d0fb6a2e",
   "metadata": {
    "ExecuteTime": {
     "end_time": "2021-12-14T13:39:39.796347Z",
     "start_time": "2021-12-14T13:39:39.781345Z"
    }
   },
   "outputs": [],
   "source": [
    "airline_data_1['cluster']=cluster_ag"
   ]
  },
  {
   "cell_type": "code",
   "execution_count": 19,
   "id": "08954eb5",
   "metadata": {
    "ExecuteTime": {
     "end_time": "2021-12-14T13:39:39.812351Z",
     "start_time": "2021-12-14T13:39:39.797348Z"
    }
   },
   "outputs": [
    {
     "data": {
      "text/html": [
       "<div>\n",
       "<style scoped>\n",
       "    .dataframe tbody tr th:only-of-type {\n",
       "        vertical-align: middle;\n",
       "    }\n",
       "\n",
       "    .dataframe tbody tr th {\n",
       "        vertical-align: top;\n",
       "    }\n",
       "\n",
       "    .dataframe thead th {\n",
       "        text-align: right;\n",
       "    }\n",
       "</style>\n",
       "<table border=\"1\" class=\"dataframe\">\n",
       "  <thead>\n",
       "    <tr style=\"text-align: right;\">\n",
       "      <th></th>\n",
       "      <th>ID#</th>\n",
       "      <th>Balance</th>\n",
       "      <th>Qual_miles</th>\n",
       "      <th>cc1_miles</th>\n",
       "      <th>cc2_miles</th>\n",
       "      <th>cc3_miles</th>\n",
       "      <th>Bonus_miles</th>\n",
       "      <th>Bonus_trans</th>\n",
       "      <th>Flight_miles_12mo</th>\n",
       "      <th>Flight_trans_12</th>\n",
       "      <th>Days_since_enroll</th>\n",
       "      <th>Award?</th>\n",
       "      <th>cluster</th>\n",
       "    </tr>\n",
       "  </thead>\n",
       "  <tbody>\n",
       "    <tr>\n",
       "      <th>0</th>\n",
       "      <td>1</td>\n",
       "      <td>28143</td>\n",
       "      <td>0</td>\n",
       "      <td>1</td>\n",
       "      <td>1</td>\n",
       "      <td>1</td>\n",
       "      <td>174</td>\n",
       "      <td>1</td>\n",
       "      <td>0</td>\n",
       "      <td>0</td>\n",
       "      <td>7000</td>\n",
       "      <td>0</td>\n",
       "      <td>0</td>\n",
       "    </tr>\n",
       "    <tr>\n",
       "      <th>1</th>\n",
       "      <td>2</td>\n",
       "      <td>19244</td>\n",
       "      <td>0</td>\n",
       "      <td>1</td>\n",
       "      <td>1</td>\n",
       "      <td>1</td>\n",
       "      <td>215</td>\n",
       "      <td>2</td>\n",
       "      <td>0</td>\n",
       "      <td>0</td>\n",
       "      <td>6968</td>\n",
       "      <td>0</td>\n",
       "      <td>0</td>\n",
       "    </tr>\n",
       "    <tr>\n",
       "      <th>2</th>\n",
       "      <td>3</td>\n",
       "      <td>41354</td>\n",
       "      <td>0</td>\n",
       "      <td>1</td>\n",
       "      <td>1</td>\n",
       "      <td>1</td>\n",
       "      <td>4123</td>\n",
       "      <td>4</td>\n",
       "      <td>0</td>\n",
       "      <td>0</td>\n",
       "      <td>7034</td>\n",
       "      <td>0</td>\n",
       "      <td>0</td>\n",
       "    </tr>\n",
       "    <tr>\n",
       "      <th>3</th>\n",
       "      <td>4</td>\n",
       "      <td>14776</td>\n",
       "      <td>0</td>\n",
       "      <td>1</td>\n",
       "      <td>1</td>\n",
       "      <td>1</td>\n",
       "      <td>500</td>\n",
       "      <td>1</td>\n",
       "      <td>0</td>\n",
       "      <td>0</td>\n",
       "      <td>6952</td>\n",
       "      <td>0</td>\n",
       "      <td>0</td>\n",
       "    </tr>\n",
       "    <tr>\n",
       "      <th>4</th>\n",
       "      <td>5</td>\n",
       "      <td>97752</td>\n",
       "      <td>0</td>\n",
       "      <td>4</td>\n",
       "      <td>1</td>\n",
       "      <td>1</td>\n",
       "      <td>43300</td>\n",
       "      <td>26</td>\n",
       "      <td>2077</td>\n",
       "      <td>4</td>\n",
       "      <td>6935</td>\n",
       "      <td>1</td>\n",
       "      <td>0</td>\n",
       "    </tr>\n",
       "  </tbody>\n",
       "</table>\n",
       "</div>"
      ],
      "text/plain": [
       "   ID#  Balance  Qual_miles  cc1_miles  cc2_miles  cc3_miles  Bonus_miles  \\\n",
       "0    1    28143           0          1          1          1          174   \n",
       "1    2    19244           0          1          1          1          215   \n",
       "2    3    41354           0          1          1          1         4123   \n",
       "3    4    14776           0          1          1          1          500   \n",
       "4    5    97752           0          4          1          1        43300   \n",
       "\n",
       "   Bonus_trans  Flight_miles_12mo  Flight_trans_12  Days_since_enroll  Award?  \\\n",
       "0            1                  0                0               7000       0   \n",
       "1            2                  0                0               6968       0   \n",
       "2            4                  0                0               7034       0   \n",
       "3            1                  0                0               6952       0   \n",
       "4           26               2077                4               6935       1   \n",
       "\n",
       "   cluster  \n",
       "0        0  \n",
       "1        0  \n",
       "2        0  \n",
       "3        0  \n",
       "4        0  "
      ]
     },
     "execution_count": 19,
     "metadata": {},
     "output_type": "execute_result"
    }
   ],
   "source": [
    "airline_data_1.head()"
   ]
  },
  {
   "cell_type": "code",
   "execution_count": 20,
   "id": "387fecc4",
   "metadata": {
    "ExecuteTime": {
     "end_time": "2021-12-14T13:39:39.844359Z",
     "start_time": "2021-12-14T13:39:39.813352Z"
    }
   },
   "outputs": [
    {
     "data": {
      "text/html": [
       "<div>\n",
       "<style scoped>\n",
       "    .dataframe tbody tr th:only-of-type {\n",
       "        vertical-align: middle;\n",
       "    }\n",
       "\n",
       "    .dataframe tbody tr th {\n",
       "        vertical-align: top;\n",
       "    }\n",
       "\n",
       "    .dataframe thead th {\n",
       "        text-align: right;\n",
       "    }\n",
       "</style>\n",
       "<table border=\"1\" class=\"dataframe\">\n",
       "  <thead>\n",
       "    <tr style=\"text-align: right;\">\n",
       "      <th></th>\n",
       "      <th>ID#</th>\n",
       "      <th>Balance</th>\n",
       "      <th>Qual_miles</th>\n",
       "      <th>cc1_miles</th>\n",
       "      <th>cc2_miles</th>\n",
       "      <th>cc3_miles</th>\n",
       "      <th>Bonus_miles</th>\n",
       "      <th>Bonus_trans</th>\n",
       "      <th>Flight_miles_12mo</th>\n",
       "      <th>Flight_trans_12</th>\n",
       "      <th>Days_since_enroll</th>\n",
       "      <th>Award?</th>\n",
       "      <th>cluster</th>\n",
       "    </tr>\n",
       "  </thead>\n",
       "  <tbody>\n",
       "    <tr>\n",
       "      <th>0</th>\n",
       "      <td>1</td>\n",
       "      <td>28143</td>\n",
       "      <td>0</td>\n",
       "      <td>1</td>\n",
       "      <td>1</td>\n",
       "      <td>1</td>\n",
       "      <td>174</td>\n",
       "      <td>1</td>\n",
       "      <td>0</td>\n",
       "      <td>0</td>\n",
       "      <td>7000</td>\n",
       "      <td>0</td>\n",
       "      <td>0</td>\n",
       "    </tr>\n",
       "    <tr>\n",
       "      <th>1</th>\n",
       "      <td>2</td>\n",
       "      <td>19244</td>\n",
       "      <td>0</td>\n",
       "      <td>1</td>\n",
       "      <td>1</td>\n",
       "      <td>1</td>\n",
       "      <td>215</td>\n",
       "      <td>2</td>\n",
       "      <td>0</td>\n",
       "      <td>0</td>\n",
       "      <td>6968</td>\n",
       "      <td>0</td>\n",
       "      <td>0</td>\n",
       "    </tr>\n",
       "    <tr>\n",
       "      <th>2</th>\n",
       "      <td>3</td>\n",
       "      <td>41354</td>\n",
       "      <td>0</td>\n",
       "      <td>1</td>\n",
       "      <td>1</td>\n",
       "      <td>1</td>\n",
       "      <td>4123</td>\n",
       "      <td>4</td>\n",
       "      <td>0</td>\n",
       "      <td>0</td>\n",
       "      <td>7034</td>\n",
       "      <td>0</td>\n",
       "      <td>0</td>\n",
       "    </tr>\n",
       "    <tr>\n",
       "      <th>3</th>\n",
       "      <td>4</td>\n",
       "      <td>14776</td>\n",
       "      <td>0</td>\n",
       "      <td>1</td>\n",
       "      <td>1</td>\n",
       "      <td>1</td>\n",
       "      <td>500</td>\n",
       "      <td>1</td>\n",
       "      <td>0</td>\n",
       "      <td>0</td>\n",
       "      <td>6952</td>\n",
       "      <td>0</td>\n",
       "      <td>0</td>\n",
       "    </tr>\n",
       "    <tr>\n",
       "      <th>4</th>\n",
       "      <td>5</td>\n",
       "      <td>97752</td>\n",
       "      <td>0</td>\n",
       "      <td>4</td>\n",
       "      <td>1</td>\n",
       "      <td>1</td>\n",
       "      <td>43300</td>\n",
       "      <td>26</td>\n",
       "      <td>2077</td>\n",
       "      <td>4</td>\n",
       "      <td>6935</td>\n",
       "      <td>1</td>\n",
       "      <td>0</td>\n",
       "    </tr>\n",
       "    <tr>\n",
       "      <th>...</th>\n",
       "      <td>...</td>\n",
       "      <td>...</td>\n",
       "      <td>...</td>\n",
       "      <td>...</td>\n",
       "      <td>...</td>\n",
       "      <td>...</td>\n",
       "      <td>...</td>\n",
       "      <td>...</td>\n",
       "      <td>...</td>\n",
       "      <td>...</td>\n",
       "      <td>...</td>\n",
       "      <td>...</td>\n",
       "      <td>...</td>\n",
       "    </tr>\n",
       "    <tr>\n",
       "      <th>3994</th>\n",
       "      <td>4017</td>\n",
       "      <td>18476</td>\n",
       "      <td>0</td>\n",
       "      <td>1</td>\n",
       "      <td>1</td>\n",
       "      <td>1</td>\n",
       "      <td>8525</td>\n",
       "      <td>4</td>\n",
       "      <td>200</td>\n",
       "      <td>1</td>\n",
       "      <td>1403</td>\n",
       "      <td>1</td>\n",
       "      <td>0</td>\n",
       "    </tr>\n",
       "    <tr>\n",
       "      <th>3995</th>\n",
       "      <td>4018</td>\n",
       "      <td>64385</td>\n",
       "      <td>0</td>\n",
       "      <td>1</td>\n",
       "      <td>1</td>\n",
       "      <td>1</td>\n",
       "      <td>981</td>\n",
       "      <td>5</td>\n",
       "      <td>0</td>\n",
       "      <td>0</td>\n",
       "      <td>1395</td>\n",
       "      <td>1</td>\n",
       "      <td>0</td>\n",
       "    </tr>\n",
       "    <tr>\n",
       "      <th>3996</th>\n",
       "      <td>4019</td>\n",
       "      <td>73597</td>\n",
       "      <td>0</td>\n",
       "      <td>3</td>\n",
       "      <td>1</td>\n",
       "      <td>1</td>\n",
       "      <td>25447</td>\n",
       "      <td>8</td>\n",
       "      <td>0</td>\n",
       "      <td>0</td>\n",
       "      <td>1402</td>\n",
       "      <td>1</td>\n",
       "      <td>0</td>\n",
       "    </tr>\n",
       "    <tr>\n",
       "      <th>3997</th>\n",
       "      <td>4020</td>\n",
       "      <td>54899</td>\n",
       "      <td>0</td>\n",
       "      <td>1</td>\n",
       "      <td>1</td>\n",
       "      <td>1</td>\n",
       "      <td>500</td>\n",
       "      <td>1</td>\n",
       "      <td>500</td>\n",
       "      <td>1</td>\n",
       "      <td>1401</td>\n",
       "      <td>0</td>\n",
       "      <td>0</td>\n",
       "    </tr>\n",
       "    <tr>\n",
       "      <th>3998</th>\n",
       "      <td>4021</td>\n",
       "      <td>3016</td>\n",
       "      <td>0</td>\n",
       "      <td>1</td>\n",
       "      <td>1</td>\n",
       "      <td>1</td>\n",
       "      <td>0</td>\n",
       "      <td>0</td>\n",
       "      <td>0</td>\n",
       "      <td>0</td>\n",
       "      <td>1398</td>\n",
       "      <td>0</td>\n",
       "      <td>0</td>\n",
       "    </tr>\n",
       "  </tbody>\n",
       "</table>\n",
       "<p>3998 rows × 13 columns</p>\n",
       "</div>"
      ],
      "text/plain": [
       "       ID#  Balance  Qual_miles  cc1_miles  cc2_miles  cc3_miles  Bonus_miles  \\\n",
       "0        1    28143           0          1          1          1          174   \n",
       "1        2    19244           0          1          1          1          215   \n",
       "2        3    41354           0          1          1          1         4123   \n",
       "3        4    14776           0          1          1          1          500   \n",
       "4        5    97752           0          4          1          1        43300   \n",
       "...    ...      ...         ...        ...        ...        ...          ...   \n",
       "3994  4017    18476           0          1          1          1         8525   \n",
       "3995  4018    64385           0          1          1          1          981   \n",
       "3996  4019    73597           0          3          1          1        25447   \n",
       "3997  4020    54899           0          1          1          1          500   \n",
       "3998  4021     3016           0          1          1          1            0   \n",
       "\n",
       "      Bonus_trans  Flight_miles_12mo  Flight_trans_12  Days_since_enroll  \\\n",
       "0               1                  0                0               7000   \n",
       "1               2                  0                0               6968   \n",
       "2               4                  0                0               7034   \n",
       "3               1                  0                0               6952   \n",
       "4              26               2077                4               6935   \n",
       "...           ...                ...              ...                ...   \n",
       "3994            4                200                1               1403   \n",
       "3995            5                  0                0               1395   \n",
       "3996            8                  0                0               1402   \n",
       "3997            1                500                1               1401   \n",
       "3998            0                  0                0               1398   \n",
       "\n",
       "      Award?  cluster  \n",
       "0          0        0  \n",
       "1          0        0  \n",
       "2          0        0  \n",
       "3          0        0  \n",
       "4          1        0  \n",
       "...      ...      ...  \n",
       "3994       1        0  \n",
       "3995       1        0  \n",
       "3996       1        0  \n",
       "3997       0        0  \n",
       "3998       0        0  \n",
       "\n",
       "[3998 rows x 13 columns]"
      ]
     },
     "execution_count": 20,
     "metadata": {},
     "output_type": "execute_result"
    }
   ],
   "source": [
    "airline_data_1[airline_data_1['cluster']==0]"
   ]
  },
  {
   "cell_type": "markdown",
   "id": "374a66b2",
   "metadata": {},
   "source": [
    "### 2nd cluster"
   ]
  },
  {
   "cell_type": "code",
   "execution_count": 21,
   "id": "59e5bbf0",
   "metadata": {
    "ExecuteTime": {
     "end_time": "2021-12-14T13:39:39.860363Z",
     "start_time": "2021-12-14T13:39:39.845359Z"
    }
   },
   "outputs": [
    {
     "data": {
      "text/html": [
       "<div>\n",
       "<style scoped>\n",
       "    .dataframe tbody tr th:only-of-type {\n",
       "        vertical-align: middle;\n",
       "    }\n",
       "\n",
       "    .dataframe tbody tr th {\n",
       "        vertical-align: top;\n",
       "    }\n",
       "\n",
       "    .dataframe thead th {\n",
       "        text-align: right;\n",
       "    }\n",
       "</style>\n",
       "<table border=\"1\" class=\"dataframe\">\n",
       "  <thead>\n",
       "    <tr style=\"text-align: right;\">\n",
       "      <th></th>\n",
       "      <th>ID#</th>\n",
       "      <th>Balance</th>\n",
       "      <th>Qual_miles</th>\n",
       "      <th>cc1_miles</th>\n",
       "      <th>cc2_miles</th>\n",
       "      <th>cc3_miles</th>\n",
       "      <th>Bonus_miles</th>\n",
       "      <th>Bonus_trans</th>\n",
       "      <th>Flight_miles_12mo</th>\n",
       "      <th>Flight_trans_12</th>\n",
       "      <th>Days_since_enroll</th>\n",
       "      <th>Award?</th>\n",
       "      <th>cluster</th>\n",
       "    </tr>\n",
       "  </thead>\n",
       "  <tbody>\n",
       "    <tr>\n",
       "      <th>3583</th>\n",
       "      <td>3606</td>\n",
       "      <td>160114</td>\n",
       "      <td>500</td>\n",
       "      <td>1</td>\n",
       "      <td>1</td>\n",
       "      <td>1</td>\n",
       "      <td>71954</td>\n",
       "      <td>86</td>\n",
       "      <td>30817</td>\n",
       "      <td>53</td>\n",
       "      <td>1373</td>\n",
       "      <td>1</td>\n",
       "      <td>1</td>\n",
       "    </tr>\n",
       "  </tbody>\n",
       "</table>\n",
       "</div>"
      ],
      "text/plain": [
       "       ID#  Balance  Qual_miles  cc1_miles  cc2_miles  cc3_miles  Bonus_miles  \\\n",
       "3583  3606   160114         500          1          1          1        71954   \n",
       "\n",
       "      Bonus_trans  Flight_miles_12mo  Flight_trans_12  Days_since_enroll  \\\n",
       "3583           86              30817               53               1373   \n",
       "\n",
       "      Award?  cluster  \n",
       "3583       1        1  "
      ]
     },
     "execution_count": 21,
     "metadata": {},
     "output_type": "execute_result"
    }
   ],
   "source": [
    "airline_data_1[airline_data_1['cluster']==1]"
   ]
  },
  {
   "cell_type": "markdown",
   "id": "ca4d6bfc",
   "metadata": {},
   "source": [
    "### K Mean clustering"
   ]
  },
  {
   "cell_type": "code",
   "execution_count": 22,
   "id": "3dc5ee4a",
   "metadata": {
    "ExecuteTime": {
     "end_time": "2021-12-14T13:39:39.876368Z",
     "start_time": "2021-12-14T13:39:39.861363Z"
    }
   },
   "outputs": [],
   "source": [
    "from sklearn.cluster import KMeans"
   ]
  },
  {
   "cell_type": "code",
   "execution_count": 23,
   "id": "4a0aaf2f",
   "metadata": {
    "ExecuteTime": {
     "end_time": "2021-12-14T13:39:41.055560Z",
     "start_time": "2021-12-14T13:39:39.877374Z"
    },
    "scrolled": true
   },
   "outputs": [
    {
     "data": {
      "image/png": "[encoded data removed]",
      "text/plain": [
       "<Figure size 432x288 with 1 Axes>"
      ]
     },
     "metadata": {
      "needs_background": "light"
     },
     "output_type": "display_data"
    }
   ],
   "source": [
    "x=[]\n",
    "for i in range (1,11):\n",
    "    cluster_kmean=KMeans(n_clusters=i)\n",
    "    cluster_kmean.fit(airline_data_std)\n",
    "    x.append(cluster_kmean.inertia_)\n",
    "    \n",
    "plt.plot(range(1,11),x)\n",
    "plt.title('Elbow Method')\n",
    "plt.xlabel('Number of clusters')\n",
    "plt.ylabel('WCSS')\n",
    "plt.show()"
   ]
  },
  {
   "cell_type": "markdown",
   "id": "362899c4",
   "metadata": {},
   "source": [
    "### Inference\n",
    "* There is a deap dip in the elbow curve which gives the optimum number of K-values\n",
    "\n",
    "* When the value of K is 2, the dip is more than others\n",
    "\n",
    "* Hence, optimum number of K value is 2"
   ]
  },
  {
   "cell_type": "code",
   "execution_count": 24,
   "id": "91e8e24c",
   "metadata": {
    "ExecuteTime": {
     "end_time": "2021-12-14T13:39:41.134972Z",
     "start_time": "2021-12-14T13:39:41.056562Z"
    }
   },
   "outputs": [
    {
     "data": {
      "text/plain": [
       "KMeans(n_clusters=4)"
      ]
     },
     "execution_count": 24,
     "metadata": {},
     "output_type": "execute_result"
    }
   ],
   "source": [
    "cluster_kmean=KMeans(n_clusters=4)\n",
    "cluster_kmean.fit(airline_data_std)"
   ]
  },
  {
   "cell_type": "code",
   "execution_count": 25,
   "id": "6bdd5c3e",
   "metadata": {
    "ExecuteTime": {
     "end_time": "2021-12-14T13:39:41.150976Z",
     "start_time": "2021-12-14T13:39:41.138973Z"
    }
   },
   "outputs": [
    {
     "data": {
      "text/plain": [
       "array([1, 1, 1, ..., 2, 1, 1])"
      ]
     },
     "execution_count": 25,
     "metadata": {},
     "output_type": "execute_result"
    }
   ],
   "source": [
    "cluster_kmean.labels_"
   ]
  },
  {
   "cell_type": "code",
   "execution_count": 26,
   "id": "8dba3185",
   "metadata": {
    "ExecuteTime": {
     "end_time": "2021-12-14T13:39:41.166979Z",
     "start_time": "2021-12-14T13:39:41.153976Z"
    }
   },
   "outputs": [],
   "source": [
    "cluster_kmean=cluster_kmean.labels_"
   ]
  },
  {
   "cell_type": "code",
   "execution_count": 27,
   "id": "ab16ba92",
   "metadata": {
    "ExecuteTime": {
     "end_time": "2021-12-14T13:39:41.182983Z",
     "start_time": "2021-12-14T13:39:41.167980Z"
    }
   },
   "outputs": [],
   "source": [
    "airline_data_2=airline_data"
   ]
  },
  {
   "cell_type": "code",
   "execution_count": 28,
   "id": "b7c4a5fd",
   "metadata": {
    "ExecuteTime": {
     "end_time": "2021-12-14T13:39:41.198986Z",
     "start_time": "2021-12-14T13:39:41.183983Z"
    }
   },
   "outputs": [
    {
     "data": {
      "text/html": [
       "<div>\n",
       "<style scoped>\n",
       "    .dataframe tbody tr th:only-of-type {\n",
       "        vertical-align: middle;\n",
       "    }\n",
       "\n",
       "    .dataframe tbody tr th {\n",
       "        vertical-align: top;\n",
       "    }\n",
       "\n",
       "    .dataframe thead th {\n",
       "        text-align: right;\n",
       "    }\n",
       "</style>\n",
       "<table border=\"1\" class=\"dataframe\">\n",
       "  <thead>\n",
       "    <tr style=\"text-align: right;\">\n",
       "      <th></th>\n",
       "      <th>ID#</th>\n",
       "      <th>Balance</th>\n",
       "      <th>Qual_miles</th>\n",
       "      <th>cc1_miles</th>\n",
       "      <th>cc2_miles</th>\n",
       "      <th>cc3_miles</th>\n",
       "      <th>Bonus_miles</th>\n",
       "      <th>Bonus_trans</th>\n",
       "      <th>Flight_miles_12mo</th>\n",
       "      <th>Flight_trans_12</th>\n",
       "      <th>Days_since_enroll</th>\n",
       "      <th>Award?</th>\n",
       "      <th>cluster</th>\n",
       "    </tr>\n",
       "  </thead>\n",
       "  <tbody>\n",
       "    <tr>\n",
       "      <th>0</th>\n",
       "      <td>1</td>\n",
       "      <td>28143</td>\n",
       "      <td>0</td>\n",
       "      <td>1</td>\n",
       "      <td>1</td>\n",
       "      <td>1</td>\n",
       "      <td>174</td>\n",
       "      <td>1</td>\n",
       "      <td>0</td>\n",
       "      <td>0</td>\n",
       "      <td>7000</td>\n",
       "      <td>0</td>\n",
       "      <td>1</td>\n",
       "    </tr>\n",
       "    <tr>\n",
       "      <th>1</th>\n",
       "      <td>2</td>\n",
       "      <td>19244</td>\n",
       "      <td>0</td>\n",
       "      <td>1</td>\n",
       "      <td>1</td>\n",
       "      <td>1</td>\n",
       "      <td>215</td>\n",
       "      <td>2</td>\n",
       "      <td>0</td>\n",
       "      <td>0</td>\n",
       "      <td>6968</td>\n",
       "      <td>0</td>\n",
       "      <td>1</td>\n",
       "    </tr>\n",
       "    <tr>\n",
       "      <th>2</th>\n",
       "      <td>3</td>\n",
       "      <td>41354</td>\n",
       "      <td>0</td>\n",
       "      <td>1</td>\n",
       "      <td>1</td>\n",
       "      <td>1</td>\n",
       "      <td>4123</td>\n",
       "      <td>4</td>\n",
       "      <td>0</td>\n",
       "      <td>0</td>\n",
       "      <td>7034</td>\n",
       "      <td>0</td>\n",
       "      <td>1</td>\n",
       "    </tr>\n",
       "    <tr>\n",
       "      <th>3</th>\n",
       "      <td>4</td>\n",
       "      <td>14776</td>\n",
       "      <td>0</td>\n",
       "      <td>1</td>\n",
       "      <td>1</td>\n",
       "      <td>1</td>\n",
       "      <td>500</td>\n",
       "      <td>1</td>\n",
       "      <td>0</td>\n",
       "      <td>0</td>\n",
       "      <td>6952</td>\n",
       "      <td>0</td>\n",
       "      <td>1</td>\n",
       "    </tr>\n",
       "    <tr>\n",
       "      <th>4</th>\n",
       "      <td>5</td>\n",
       "      <td>97752</td>\n",
       "      <td>0</td>\n",
       "      <td>4</td>\n",
       "      <td>1</td>\n",
       "      <td>1</td>\n",
       "      <td>43300</td>\n",
       "      <td>26</td>\n",
       "      <td>2077</td>\n",
       "      <td>4</td>\n",
       "      <td>6935</td>\n",
       "      <td>1</td>\n",
       "      <td>2</td>\n",
       "    </tr>\n",
       "  </tbody>\n",
       "</table>\n",
       "</div>"
      ],
      "text/plain": [
       "   ID#  Balance  Qual_miles  cc1_miles  cc2_miles  cc3_miles  Bonus_miles  \\\n",
       "0    1    28143           0          1          1          1          174   \n",
       "1    2    19244           0          1          1          1          215   \n",
       "2    3    41354           0          1          1          1         4123   \n",
       "3    4    14776           0          1          1          1          500   \n",
       "4    5    97752           0          4          1          1        43300   \n",
       "\n",
       "   Bonus_trans  Flight_miles_12mo  Flight_trans_12  Days_since_enroll  Award?  \\\n",
       "0            1                  0                0               7000       0   \n",
       "1            2                  0                0               6968       0   \n",
       "2            4                  0                0               7034       0   \n",
       "3            1                  0                0               6952       0   \n",
       "4           26               2077                4               6935       1   \n",
       "\n",
       "   cluster  \n",
       "0        1  \n",
       "1        1  \n",
       "2        1  \n",
       "3        1  \n",
       "4        2  "
      ]
     },
     "execution_count": 28,
     "metadata": {},
     "output_type": "execute_result"
    }
   ],
   "source": [
    "airline_data_2['cluster']=cluster_kmean\n",
    "airline_data_2.head()"
   ]
  },
  {
   "cell_type": "code",
   "execution_count": 29,
   "id": "67f1084a",
   "metadata": {
    "ExecuteTime": {
     "end_time": "2021-12-14T13:39:41.214990Z",
     "start_time": "2021-12-14T13:39:41.199987Z"
    },
    "scrolled": true
   },
   "outputs": [
    {
     "data": {
      "text/plain": [
       "(       ID#  Balance  Qual_miles  cc1_miles  cc2_miles  cc3_miles  Bonus_miles  \\\n",
       " 8        9   443003           0          3          2          1         1753   \n",
       " 21      22   185681        2024          1          1          1        13300   \n",
       " 42      43    60313           0          1          1          1        10000   \n",
       " 50      51   108137           0          1          1          1         6368   \n",
       " 65      66    53914           0          3          1          1        33767   \n",
       " ...    ...      ...         ...        ...        ...        ...          ...   \n",
       " 3907  3930   126490           0          1          1          1         8808   \n",
       " 3911  3934    55922        2273          1          1          1         8104   \n",
       " 3917  3940   130748           0          4          1          1        65510   \n",
       " 3934  3957    76595           0          1          1          1        10577   \n",
       " 3950  3973    59650           0          1          1          1         5050   \n",
       " \n",
       "       Bonus_trans  Flight_miles_12mo  Flight_trans_12  Days_since_enroll  \\\n",
       " 8              43               3850               12               6948   \n",
       " 21             16               1800                9               6896   \n",
       " 42             26               3250                9               7829   \n",
       " 50              5               6368                5               6844   \n",
       " 65             45               5550               29               6826   \n",
       " ...           ...                ...              ...                ...   \n",
       " 3907           15               5183               12               1566   \n",
       " 3911           19               4104               16               1552   \n",
       " 3917           37               6349                7               1545   \n",
       " 3934            2               9577                1               1515   \n",
       " 3950           16               3950               13               1476   \n",
       " \n",
       "       Award?  cluster  \n",
       " 8          1        0  \n",
       " 21         1        0  \n",
       " 42         1        0  \n",
       " 50         0        0  \n",
       " 65         1        0  \n",
       " ...      ...      ...  \n",
       " 3907       0        0  \n",
       " 3911       0        0  \n",
       " 3917       0        0  \n",
       " 3934       0        0  \n",
       " 3950       0        0  \n",
       " \n",
       " [165 rows x 13 columns],\n",
       " (165, 13))"
      ]
     },
     "execution_count": 29,
     "metadata": {},
     "output_type": "execute_result"
    }
   ],
   "source": [
    "airline_data_2[airline_data_2['cluster']==0],airline_data_2[airline_data_2['cluster']==0].shape"
   ]
  },
  {
   "cell_type": "code",
   "execution_count": 30,
   "id": "1981eeab",
   "metadata": {
    "ExecuteTime": {
     "end_time": "2021-12-14T13:39:41.230995Z",
     "start_time": "2021-12-14T13:39:41.215991Z"
    }
   },
   "outputs": [
    {
     "data": {
      "text/plain": [
       "(       ID#  Balance  Qual_miles  cc1_miles  cc2_miles  cc3_miles  Bonus_miles  \\\n",
       " 0        1    28143           0          1          1          1          174   \n",
       " 1        2    19244           0          1          1          1          215   \n",
       " 2        3    41354           0          1          1          1         4123   \n",
       " 3        4    14776           0          1          1          1          500   \n",
       " 5        6    16420           0          1          1          1            0   \n",
       " ...    ...      ...         ...        ...        ...        ...          ...   \n",
       " 3993  4016     3974           0          1          1          1          365   \n",
       " 3994  4017    18476           0          1          1          1         8525   \n",
       " 3995  4018    64385           0          1          1          1          981   \n",
       " 3997  4020    54899           0          1          1          1          500   \n",
       " 3998  4021     3016           0          1          1          1            0   \n",
       " \n",
       "       Bonus_trans  Flight_miles_12mo  Flight_trans_12  Days_since_enroll  \\\n",
       " 0               1                  0                0               7000   \n",
       " 1               2                  0                0               6968   \n",
       " 2               4                  0                0               7034   \n",
       " 3               1                  0                0               6952   \n",
       " 5               0                  0                0               6942   \n",
       " ...           ...                ...              ...                ...   \n",
       " 3993            3                  0                0               1397   \n",
       " 3994            4                200                1               1403   \n",
       " 3995            5                  0                0               1395   \n",
       " 3997            1                500                1               1401   \n",
       " 3998            0                  0                0               1398   \n",
       " \n",
       "       Award?  cluster  \n",
       " 0          0        1  \n",
       " 1          0        1  \n",
       " 2          0        1  \n",
       " 3          0        1  \n",
       " 5          0        1  \n",
       " ...      ...      ...  \n",
       " 3993       0        1  \n",
       " 3994       1        1  \n",
       " 3995       1        1  \n",
       " 3997       0        1  \n",
       " 3998       0        1  \n",
       " \n",
       " [2554 rows x 13 columns],\n",
       " (2554, 13))"
      ]
     },
     "execution_count": 30,
     "metadata": {},
     "output_type": "execute_result"
    }
   ],
   "source": [
    "airline_data_2[airline_data_2['cluster']==1],airline_data_2[airline_data_2['cluster']==1].shape"
   ]
  },
  {
   "cell_type": "code",
   "execution_count": 31,
   "id": "708f3a94",
   "metadata": {
    "ExecuteTime": {
     "end_time": "2021-12-14T13:39:41.246999Z",
     "start_time": "2021-12-14T13:39:41.231994Z"
    }
   },
   "outputs": [
    {
     "data": {
      "text/plain": [
       "(       ID#  Balance  Qual_miles  cc1_miles  cc2_miles  cc3_miles  Bonus_miles  \\\n",
       " 4        5    97752           0          4          1          1        43300   \n",
       " 6        7    84914           0          3          1          1        27482   \n",
       " 9       10   104860           0          3          1          1        28426   \n",
       " 11      12    96522           0          5          1          1        61105   \n",
       " 15      16    28495           0          4          1          1        49442   \n",
       " ...    ...      ...         ...        ...        ...        ...          ...   \n",
       " 3979  4002    57793           0          3          1          1        20959   \n",
       " 3980  4003    28867           0          3          1          1        19169   \n",
       " 3985  4008    59017           0          4          1          1        34746   \n",
       " 3991  4014    39142           0          3          1          1        14981   \n",
       " 3996  4019    73597           0          3          1          1        25447   \n",
       " \n",
       "       Bonus_trans  Flight_miles_12mo  Flight_trans_12  Days_since_enroll  \\\n",
       " 4              26               2077                4               6935   \n",
       " 6              25                  0                0               6994   \n",
       " 9              28               1150                3               6931   \n",
       " 11             19                  0                0               6924   \n",
       " 15             15                  0                0               6912   \n",
       " ...           ...                ...              ...                ...   \n",
       " 3979           15               1198                3               1424   \n",
       " 3980           28                  0                0               1425   \n",
       " 3985           25                  0                0               1418   \n",
       " 3991           28                  0                0               1408   \n",
       " 3996            8                  0                0               1402   \n",
       " \n",
       "       Award?  cluster  \n",
       " 4          1        2  \n",
       " 6          0        2  \n",
       " 9          1        2  \n",
       " 11         1        2  \n",
       " 15         1        2  \n",
       " ...      ...      ...  \n",
       " 3979       1        2  \n",
       " 3980       0        2  \n",
       " 3985       0        2  \n",
       " 3991       0        2  \n",
       " 3996       1        2  \n",
       " \n",
       " [1265 rows x 13 columns],\n",
       " (1265, 13))"
      ]
     },
     "execution_count": 31,
     "metadata": {},
     "output_type": "execute_result"
    }
   ],
   "source": [
    "airline_data_2[airline_data_2['cluster']==2],airline_data_2[airline_data_2['cluster']==2].shape"
   ]
  },
  {
   "cell_type": "code",
   "execution_count": 32,
   "id": "b07864ab",
   "metadata": {
    "ExecuteTime": {
     "end_time": "2021-12-14T13:39:41.263003Z",
     "start_time": "2021-12-14T13:39:41.247998Z"
    },
    "scrolled": true
   },
   "outputs": [
    {
     "data": {
      "text/plain": [
       "(       ID#  Balance  Qual_miles  cc1_miles  cc2_miles  cc3_miles  Bonus_miles  \\\n",
       " 106    109    96627        1182          1          1          3        49059   \n",
       " 384    389    28193           0          5          1          4       103456   \n",
       " 850    861    25629           0          4          1          5       107308   \n",
       " 904    915    15835           0          2          1          5       112171   \n",
       " 1036  1047   154664           0          4          1          3        73881   \n",
       " 1244  1257   166465           0          4          1          4        98717   \n",
       " 1300  1313   737514           0          3          1          4        43993   \n",
       " 1878  1895   128302           0          5          1          4       132263   \n",
       " 1917  1934    82981           0          5          1          3       105325   \n",
       " 1946  1963   126873           0          4          1          5        95598   \n",
       " 2251  2269   125679           0          3          1          4        68151   \n",
       " 2283  2301   128456           0          5          1          3        70125   \n",
       " 2364  2382   108081           0          5          1          5       217006   \n",
       " 2955  2977    61474           0          1          1          4        47717   \n",
       " 3338  3361    84148           0          1          1          5        84148   \n",
       " \n",
       "       Bonus_trans  Flight_miles_12mo  Flight_trans_12  Days_since_enroll  \\\n",
       " 106            26               2300                9               6738   \n",
       " 384            32                  0                0               6980   \n",
       " 850            36                600                2               5966   \n",
       " 904            16                  0                0               5825   \n",
       " 1036           33                  0                0               5769   \n",
       " 1244           30                  0                0               5531   \n",
       " 1300           40               2150                7               5030   \n",
       " 1878           32                400                2               4103   \n",
       " 1917           44               1000                2               3964   \n",
       " 1946           32                500                1               3880   \n",
       " 2251           27                650                1               3683   \n",
       " 2283           28                  0                0               3764   \n",
       " 2364           24                  0                0               3567   \n",
       " 2955           14                  0                0               3354   \n",
       " 3338            7                  0                0               1054   \n",
       " \n",
       "       Award?  cluster  \n",
       " 106        1        3  \n",
       " 384        1        3  \n",
       " 850        1        3  \n",
       " 904        1        3  \n",
       " 1036       0        3  \n",
       " 1244       0        3  \n",
       " 1300       0        3  \n",
       " 1878       1        3  \n",
       " 1917       1        3  \n",
       " 1946       1        3  \n",
       " 2251       0        3  \n",
       " 2283       0        3  \n",
       " 2364       1        3  \n",
       " 2955       0        3  \n",
       " 3338       0        3  ,\n",
       " (15, 13))"
      ]
     },
     "execution_count": 32,
     "metadata": {},
     "output_type": "execute_result"
    }
   ],
   "source": [
    "airline_data_2[airline_data_2['cluster']==3],airline_data_2[airline_data_2['cluster']==3].shape"
   ]
  },
  {
   "cell_type": "markdown",
   "id": "2d30d105",
   "metadata": {
    "ExecuteTime": {
     "end_time": "2021-12-14T14:24:11.552722Z",
     "start_time": "2021-12-14T14:24:11.542731Z"
    }
   },
   "source": [
    "### DBSCAN"
   ]
  },
  {
   "cell_type": "code",
   "execution_count": 51,
   "id": "b7c75243",
   "metadata": {
    "ExecuteTime": {
     "end_time": "2021-12-14T13:48:02.042137Z",
     "start_time": "2021-12-14T13:48:02.029783Z"
    }
   },
   "outputs": [],
   "source": [
    "from sklearn.cluster import DBSCAN"
   ]
  },
  {
   "cell_type": "code",
   "execution_count": 52,
   "id": "d0f8b676",
   "metadata": {
    "ExecuteTime": {
     "end_time": "2021-12-14T13:48:02.419892Z",
     "start_time": "2021-12-14T13:48:02.407693Z"
    }
   },
   "outputs": [],
   "source": [
    "cluster_dbscan=DBSCAN(eps=0.7,min_samples=3)"
   ]
  },
  {
   "cell_type": "code",
   "execution_count": 53,
   "id": "50d36ab0",
   "metadata": {
    "ExecuteTime": {
     "end_time": "2021-12-14T13:48:02.862881Z",
     "start_time": "2021-12-14T13:48:02.600822Z"
    }
   },
   "outputs": [
    {
     "data": {
      "text/plain": [
       "DBSCAN(eps=0.7, min_samples=3)"
      ]
     },
     "execution_count": 53,
     "metadata": {},
     "output_type": "execute_result"
    }
   ],
   "source": [
    "cluster_dbscan.fit(airline_data_std)"
   ]
  },
  {
   "cell_type": "code",
   "execution_count": 54,
   "id": "b8994bd4",
   "metadata": {
    "ExecuteTime": {
     "end_time": "2021-12-14T13:48:02.974689Z",
     "start_time": "2021-12-14T13:48:02.959902Z"
    }
   },
   "outputs": [],
   "source": [
    "cluster=cluster_dbscan.labels_"
   ]
  },
  {
   "cell_type": "code",
   "execution_count": 55,
   "id": "a3fe725c",
   "metadata": {
    "ExecuteTime": {
     "end_time": "2021-12-14T13:48:03.084716Z",
     "start_time": "2021-12-14T13:48:03.070710Z"
    }
   },
   "outputs": [],
   "source": [
    "airline_data_2=airline_data"
   ]
  },
  {
   "cell_type": "code",
   "execution_count": 56,
   "id": "1be22af2",
   "metadata": {
    "ExecuteTime": {
     "end_time": "2021-12-14T13:48:03.255693Z",
     "start_time": "2021-12-14T13:48:03.251691Z"
    }
   },
   "outputs": [],
   "source": [
    "airline_data_2['cluster']=cluster"
   ]
  },
  {
   "cell_type": "code",
   "execution_count": 57,
   "id": "d30d1174",
   "metadata": {
    "ExecuteTime": {
     "end_time": "2021-12-14T13:48:03.538675Z",
     "start_time": "2021-12-14T13:48:03.525692Z"
    }
   },
   "outputs": [
    {
     "data": {
      "text/plain": [
       "33"
      ]
     },
     "execution_count": 57,
     "metadata": {},
     "output_type": "execute_result"
    }
   ],
   "source": [
    "airline_data_2['cluster'].nunique()"
   ]
  },
  {
   "cell_type": "code",
   "execution_count": 58,
   "id": "f2543205",
   "metadata": {
    "ExecuteTime": {
     "end_time": "2021-12-14T13:48:03.821691Z",
     "start_time": "2021-12-14T13:48:03.812690Z"
    }
   },
   "outputs": [],
   "source": [
    "import matplotlib.pyplot as plt"
   ]
  },
  {
   "cell_type": "code",
   "execution_count": 63,
   "id": "e88e4ebb",
   "metadata": {
    "ExecuteTime": {
     "end_time": "2021-12-14T14:25:24.339709Z",
     "start_time": "2021-12-14T14:25:24.316678Z"
    }
   },
   "outputs": [
    {
     "data": {
      "text/html": [
       "<div>\n",
       "<style scoped>\n",
       "    .dataframe tbody tr th:only-of-type {\n",
       "        vertical-align: middle;\n",
       "    }\n",
       "\n",
       "    .dataframe tbody tr th {\n",
       "        vertical-align: top;\n",
       "    }\n",
       "\n",
       "    .dataframe thead th {\n",
       "        text-align: right;\n",
       "    }\n",
       "</style>\n",
       "<table border=\"1\" class=\"dataframe\">\n",
       "  <thead>\n",
       "    <tr style=\"text-align: right;\">\n",
       "      <th></th>\n",
       "      <th>ID#</th>\n",
       "      <th>Balance</th>\n",
       "      <th>Qual_miles</th>\n",
       "      <th>cc1_miles</th>\n",
       "      <th>cc2_miles</th>\n",
       "      <th>cc3_miles</th>\n",
       "      <th>Bonus_miles</th>\n",
       "      <th>Bonus_trans</th>\n",
       "      <th>Flight_miles_12mo</th>\n",
       "      <th>Flight_trans_12</th>\n",
       "      <th>Days_since_enroll</th>\n",
       "      <th>Award?</th>\n",
       "      <th>cluster</th>\n",
       "    </tr>\n",
       "  </thead>\n",
       "  <tbody>\n",
       "    <tr>\n",
       "      <th>ID#</th>\n",
       "      <td>1.000000</td>\n",
       "      <td>-0.243737</td>\n",
       "      <td>-0.019374</td>\n",
       "      <td>-0.224465</td>\n",
       "      <td>0.020291</td>\n",
       "      <td>-0.014707</td>\n",
       "      <td>-0.203012</td>\n",
       "      <td>-0.146915</td>\n",
       "      <td>-0.031013</td>\n",
       "      <td>-0.052096</td>\n",
       "      <td>-0.964988</td>\n",
       "      <td>-0.177901</td>\n",
       "      <td>0.027130</td>\n",
       "    </tr>\n",
       "    <tr>\n",
       "      <th>Balance</th>\n",
       "      <td>-0.243737</td>\n",
       "      <td>1.000000</td>\n",
       "      <td>0.108722</td>\n",
       "      <td>0.338344</td>\n",
       "      <td>-0.008804</td>\n",
       "      <td>0.035243</td>\n",
       "      <td>0.403487</td>\n",
       "      <td>0.324935</td>\n",
       "      <td>0.217551</td>\n",
       "      <td>0.255700</td>\n",
       "      <td>0.263129</td>\n",
       "      <td>0.178494</td>\n",
       "      <td>-0.040892</td>\n",
       "    </tr>\n",
       "    <tr>\n",
       "      <th>Qual_miles</th>\n",
       "      <td>-0.019374</td>\n",
       "      <td>0.108722</td>\n",
       "      <td>1.000000</td>\n",
       "      <td>0.007931</td>\n",
       "      <td>-0.013923</td>\n",
       "      <td>-0.007779</td>\n",
       "      <td>0.031021</td>\n",
       "      <td>0.050725</td>\n",
       "      <td>0.126774</td>\n",
       "      <td>0.144004</td>\n",
       "      <td>0.017312</td>\n",
       "      <td>0.095256</td>\n",
       "      <td>-0.097578</td>\n",
       "    </tr>\n",
       "    <tr>\n",
       "      <th>cc1_miles</th>\n",
       "      <td>-0.224465</td>\n",
       "      <td>0.338344</td>\n",
       "      <td>0.007931</td>\n",
       "      <td>1.000000</td>\n",
       "      <td>-0.068223</td>\n",
       "      <td>0.060555</td>\n",
       "      <td>0.825200</td>\n",
       "      <td>0.608943</td>\n",
       "      <td>0.037370</td>\n",
       "      <td>0.041333</td>\n",
       "      <td>0.230849</td>\n",
       "      <td>0.335457</td>\n",
       "      <td>0.315789</td>\n",
       "    </tr>\n",
       "    <tr>\n",
       "      <th>cc2_miles</th>\n",
       "      <td>0.020291</td>\n",
       "      <td>-0.008804</td>\n",
       "      <td>-0.013923</td>\n",
       "      <td>-0.068223</td>\n",
       "      <td>1.000000</td>\n",
       "      <td>-0.006166</td>\n",
       "      <td>-0.003969</td>\n",
       "      <td>0.064399</td>\n",
       "      <td>0.010598</td>\n",
       "      <td>0.028284</td>\n",
       "      <td>-0.005807</td>\n",
       "      <td>0.005332</td>\n",
       "      <td>0.074195</td>\n",
       "    </tr>\n",
       "    <tr>\n",
       "      <th>cc3_miles</th>\n",
       "      <td>-0.014707</td>\n",
       "      <td>0.035243</td>\n",
       "      <td>-0.007779</td>\n",
       "      <td>0.060555</td>\n",
       "      <td>-0.006166</td>\n",
       "      <td>1.000000</td>\n",
       "      <td>0.204134</td>\n",
       "      <td>0.097313</td>\n",
       "      <td>-0.001777</td>\n",
       "      <td>-0.001117</td>\n",
       "      <td>0.010832</td>\n",
       "      <td>0.023484</td>\n",
       "      <td>-0.042710</td>\n",
       "    </tr>\n",
       "    <tr>\n",
       "      <th>Bonus_miles</th>\n",
       "      <td>-0.203012</td>\n",
       "      <td>0.403487</td>\n",
       "      <td>0.031021</td>\n",
       "      <td>0.825200</td>\n",
       "      <td>-0.003969</td>\n",
       "      <td>0.204134</td>\n",
       "      <td>1.000000</td>\n",
       "      <td>0.603180</td>\n",
       "      <td>0.183536</td>\n",
       "      <td>0.185261</td>\n",
       "      <td>0.210397</td>\n",
       "      <td>0.373506</td>\n",
       "      <td>0.153190</td>\n",
       "    </tr>\n",
       "    <tr>\n",
       "      <th>Bonus_trans</th>\n",
       "      <td>-0.146915</td>\n",
       "      <td>0.324935</td>\n",
       "      <td>0.050725</td>\n",
       "      <td>0.608943</td>\n",
       "      <td>0.064399</td>\n",
       "      <td>0.097313</td>\n",
       "      <td>0.603180</td>\n",
       "      <td>1.000000</td>\n",
       "      <td>0.377216</td>\n",
       "      <td>0.432364</td>\n",
       "      <td>0.161262</td>\n",
       "      <td>0.333893</td>\n",
       "      <td>0.115802</td>\n",
       "    </tr>\n",
       "    <tr>\n",
       "      <th>Flight_miles_12mo</th>\n",
       "      <td>-0.031013</td>\n",
       "      <td>0.217551</td>\n",
       "      <td>0.126774</td>\n",
       "      <td>0.037370</td>\n",
       "      <td>0.010598</td>\n",
       "      <td>-0.001777</td>\n",
       "      <td>0.183536</td>\n",
       "      <td>0.377216</td>\n",
       "      <td>1.000000</td>\n",
       "      <td>0.869193</td>\n",
       "      <td>0.037271</td>\n",
       "      <td>0.217715</td>\n",
       "      <td>-0.088490</td>\n",
       "    </tr>\n",
       "    <tr>\n",
       "      <th>Flight_trans_12</th>\n",
       "      <td>-0.052096</td>\n",
       "      <td>0.255700</td>\n",
       "      <td>0.144004</td>\n",
       "      <td>0.041333</td>\n",
       "      <td>0.028284</td>\n",
       "      <td>-0.001117</td>\n",
       "      <td>0.185261</td>\n",
       "      <td>0.432364</td>\n",
       "      <td>0.869193</td>\n",
       "      <td>1.000000</td>\n",
       "      <td>0.059260</td>\n",
       "      <td>0.247909</td>\n",
       "      <td>-0.094464</td>\n",
       "    </tr>\n",
       "    <tr>\n",
       "      <th>Days_since_enroll</th>\n",
       "      <td>-0.964988</td>\n",
       "      <td>0.263129</td>\n",
       "      <td>0.017312</td>\n",
       "      <td>0.230849</td>\n",
       "      <td>-0.005807</td>\n",
       "      <td>0.010832</td>\n",
       "      <td>0.210397</td>\n",
       "      <td>0.161262</td>\n",
       "      <td>0.037271</td>\n",
       "      <td>0.059260</td>\n",
       "      <td>1.000000</td>\n",
       "      <td>0.188121</td>\n",
       "      <td>-0.017850</td>\n",
       "    </tr>\n",
       "    <tr>\n",
       "      <th>Award?</th>\n",
       "      <td>-0.177901</td>\n",
       "      <td>0.178494</td>\n",
       "      <td>0.095256</td>\n",
       "      <td>0.335457</td>\n",
       "      <td>0.005332</td>\n",
       "      <td>0.023484</td>\n",
       "      <td>0.373506</td>\n",
       "      <td>0.333893</td>\n",
       "      <td>0.217715</td>\n",
       "      <td>0.247909</td>\n",
       "      <td>0.188121</td>\n",
       "      <td>1.000000</td>\n",
       "      <td>0.172646</td>\n",
       "    </tr>\n",
       "    <tr>\n",
       "      <th>cluster</th>\n",
       "      <td>0.027130</td>\n",
       "      <td>-0.040892</td>\n",
       "      <td>-0.097578</td>\n",
       "      <td>0.315789</td>\n",
       "      <td>0.074195</td>\n",
       "      <td>-0.042710</td>\n",
       "      <td>0.153190</td>\n",
       "      <td>0.115802</td>\n",
       "      <td>-0.088490</td>\n",
       "      <td>-0.094464</td>\n",
       "      <td>-0.017850</td>\n",
       "      <td>0.172646</td>\n",
       "      <td>1.000000</td>\n",
       "    </tr>\n",
       "  </tbody>\n",
       "</table>\n",
       "</div>"
      ],
      "text/plain": [
       "                        ID#   Balance  Qual_miles  cc1_miles  cc2_miles  \\\n",
       "ID#                1.000000 -0.243737   -0.019374  -0.224465   0.020291   \n",
       "Balance           -0.243737  1.000000    0.108722   0.338344  -0.008804   \n",
       "Qual_miles        -0.019374  0.108722    1.000000   0.007931  -0.013923   \n",
       "cc1_miles         -0.224465  0.338344    0.007931   1.000000  -0.068223   \n",
       "cc2_miles          0.020291 -0.008804   -0.013923  -0.068223   1.000000   \n",
       "cc3_miles         -0.014707  0.035243   -0.007779   0.060555  -0.006166   \n",
       "Bonus_miles       -0.203012  0.403487    0.031021   0.825200  -0.003969   \n",
       "Bonus_trans       -0.146915  0.324935    0.050725   0.608943   0.064399   \n",
       "Flight_miles_12mo -0.031013  0.217551    0.126774   0.037370   0.010598   \n",
       "Flight_trans_12   -0.052096  0.255700    0.144004   0.041333   0.028284   \n",
       "Days_since_enroll -0.964988  0.263129    0.017312   0.230849  -0.005807   \n",
       "Award?            -0.177901  0.178494    0.095256   0.335457   0.005332   \n",
       "cluster            0.027130 -0.040892   -0.097578   0.315789   0.074195   \n",
       "\n",
       "                   cc3_miles  Bonus_miles  Bonus_trans  Flight_miles_12mo  \\\n",
       "ID#                -0.014707    -0.203012    -0.146915          -0.031013   \n",
       "Balance             0.035243     0.403487     0.324935           0.217551   \n",
       "Qual_miles         -0.007779     0.031021     0.050725           0.126774   \n",
       "cc1_miles           0.060555     0.825200     0.608943           0.037370   \n",
       "cc2_miles          -0.006166    -0.003969     0.064399           0.010598   \n",
       "cc3_miles           1.000000     0.204134     0.097313          -0.001777   \n",
       "Bonus_miles         0.204134     1.000000     0.603180           0.183536   \n",
       "Bonus_trans         0.097313     0.603180     1.000000           0.377216   \n",
       "Flight_miles_12mo  -0.001777     0.183536     0.377216           1.000000   \n",
       "Flight_trans_12    -0.001117     0.185261     0.432364           0.869193   \n",
       "Days_since_enroll   0.010832     0.210397     0.161262           0.037271   \n",
       "Award?              0.023484     0.373506     0.333893           0.217715   \n",
       "cluster            -0.042710     0.153190     0.115802          -0.088490   \n",
       "\n",
       "                   Flight_trans_12  Days_since_enroll    Award?   cluster  \n",
       "ID#                      -0.052096          -0.964988 -0.177901  0.027130  \n",
       "Balance                   0.255700           0.263129  0.178494 -0.040892  \n",
       "Qual_miles                0.144004           0.017312  0.095256 -0.097578  \n",
       "cc1_miles                 0.041333           0.230849  0.335457  0.315789  \n",
       "cc2_miles                 0.028284          -0.005807  0.005332  0.074195  \n",
       "cc3_miles                -0.001117           0.010832  0.023484 -0.042710  \n",
       "Bonus_miles               0.185261           0.210397  0.373506  0.153190  \n",
       "Bonus_trans               0.432364           0.161262  0.333893  0.115802  \n",
       "Flight_miles_12mo         0.869193           0.037271  0.217715 -0.088490  \n",
       "Flight_trans_12           1.000000           0.059260  0.247909 -0.094464  \n",
       "Days_since_enroll         0.059260           1.000000  0.188121 -0.017850  \n",
       "Award?                    0.247909           0.188121  1.000000  0.172646  \n",
       "cluster                  -0.094464          -0.017850  0.172646  1.000000  "
      ]
     },
     "execution_count": 63,
     "metadata": {},
     "output_type": "execute_result"
    }
   ],
   "source": [
    "airline_data.corr()"
   ]
  },
  {
   "cell_type": "code",
   "execution_count": 64,
   "id": "0fe00125",
   "metadata": {
    "ExecuteTime": {
     "end_time": "2021-12-14T14:30:50.343255Z",
     "start_time": "2021-12-14T14:30:50.120082Z"
    }
   },
   "outputs": [
    {
     "data": {
      "text/plain": [
       "<matplotlib.collections.PathCollection at 0x233210ee5e0>"
      ]
     },
     "execution_count": 64,
     "metadata": {},
     "output_type": "execute_result"
    },
    {
     "data": {
      "image/png": "[encoded data removed]",
      "text/plain": [
       "<Figure size 432x288 with 1 Axes>"
      ]
     },
     "metadata": {
      "needs_background": "light"
     },
     "output_type": "display_data"
    }
   ],
   "source": [
    "plt.scatter(airline_data['Flight_miles_12mo'],airline_data['Flight_trans_12'],c=cluster,cmap=plt.cm.Accent)"
   ]
  }
 ],
 "metadata": {
  "kernelspec": {
   "display_name": "Python 3",
   "language": "python",
   "name": "python3"
  },
  "language_info": {
   "codemirror_mode": {
    "name": "ipython",
    "version": 3
   },
   "file_extension": ".py",
   "mimetype": "text/x-python",
   "name": "python",
   "nbconvert_exporter": "python",
   "pygments_lexer": "ipython3",
   "version": "3.8.8"
  },
  "varInspector": {
   "cols": {
    "lenName": 16,
    "lenType": 16,
    "lenVar": 40
   },
   "kernels_config": {
    "python": {
     "delete_cmd_postfix": "",
     "delete_cmd_prefix": "del ",
     "library": "var_list.py",
     "varRefreshCmd": "print(var_dic_list())"
    },
    "r": {
     "delete_cmd_postfix": ") ",
     "delete_cmd_prefix": "rm(",
     "library": "var_list.r",
     "varRefreshCmd": "cat(var_dic_list()) "
    }
   },
   "types_to_exclude": [
    "module",
    "function",
    "builtin_function_or_method",
    "instance",
    "_Feature"
   ],
   "window_display": false
  }
 },
 "nbformat": 4,
 "nbformat_minor": 5
}
