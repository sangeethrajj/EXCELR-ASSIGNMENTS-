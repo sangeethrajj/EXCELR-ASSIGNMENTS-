{
 "cells": [
  {
   "cell_type": "markdown",
   "id": "dab8d9db",
   "metadata": {},
   "source": [
    "## Import Necessary Libraries"
   ]
  },
  {
   "cell_type": "code",
   "execution_count": 18,
   "id": "9fe4f274",
   "metadata": {
    "ExecuteTime": {
     "end_time": "2021-12-05T14:43:39.337885Z",
     "start_time": "2021-12-05T14:43:39.333885Z"
    }
   },
   "outputs": [],
   "source": [
    "import pandas as pd\n",
    "import seaborn as sns\n",
    "import warnings\n",
    "warnings.filterwarnings('ignore')"
   ]
  },
  {
   "cell_type": "markdown",
   "id": "8501304f",
   "metadata": {},
   "source": [
    "## Import Dataset"
   ]
  },
  {
   "cell_type": "code",
   "execution_count": 19,
   "id": "66bbc774",
   "metadata": {
    "ExecuteTime": {
     "end_time": "2021-12-05T14:43:40.351904Z",
     "start_time": "2021-12-05T14:43:40.324539Z"
    }
   },
   "outputs": [
    {
     "data": {
      "text/html": [
       "<div>\n",
       "<style scoped>\n",
       "    .dataframe tbody tr th:only-of-type {\n",
       "        vertical-align: middle;\n",
       "    }\n",
       "\n",
       "    .dataframe tbody tr th {\n",
       "        vertical-align: top;\n",
       "    }\n",
       "\n",
       "    .dataframe thead th {\n",
       "        text-align: right;\n",
       "    }\n",
       "</style>\n",
       "<table border=\"1\" class=\"dataframe\">\n",
       "  <thead>\n",
       "    <tr style=\"text-align: right;\">\n",
       "      <th></th>\n",
       "      <th>Undergrad</th>\n",
       "      <th>Marital.Status</th>\n",
       "      <th>Taxable.Income</th>\n",
       "      <th>City.Population</th>\n",
       "      <th>Work.Experience</th>\n",
       "      <th>Urban</th>\n",
       "    </tr>\n",
       "  </thead>\n",
       "  <tbody>\n",
       "    <tr>\n",
       "      <th>0</th>\n",
       "      <td>NO</td>\n",
       "      <td>Single</td>\n",
       "      <td>68833</td>\n",
       "      <td>50047</td>\n",
       "      <td>10</td>\n",
       "      <td>YES</td>\n",
       "    </tr>\n",
       "    <tr>\n",
       "      <th>1</th>\n",
       "      <td>YES</td>\n",
       "      <td>Divorced</td>\n",
       "      <td>33700</td>\n",
       "      <td>134075</td>\n",
       "      <td>18</td>\n",
       "      <td>YES</td>\n",
       "    </tr>\n",
       "    <tr>\n",
       "      <th>2</th>\n",
       "      <td>NO</td>\n",
       "      <td>Married</td>\n",
       "      <td>36925</td>\n",
       "      <td>160205</td>\n",
       "      <td>30</td>\n",
       "      <td>YES</td>\n",
       "    </tr>\n",
       "    <tr>\n",
       "      <th>3</th>\n",
       "      <td>YES</td>\n",
       "      <td>Single</td>\n",
       "      <td>50190</td>\n",
       "      <td>193264</td>\n",
       "      <td>15</td>\n",
       "      <td>YES</td>\n",
       "    </tr>\n",
       "    <tr>\n",
       "      <th>4</th>\n",
       "      <td>NO</td>\n",
       "      <td>Married</td>\n",
       "      <td>81002</td>\n",
       "      <td>27533</td>\n",
       "      <td>28</td>\n",
       "      <td>NO</td>\n",
       "    </tr>\n",
       "    <tr>\n",
       "      <th>...</th>\n",
       "      <td>...</td>\n",
       "      <td>...</td>\n",
       "      <td>...</td>\n",
       "      <td>...</td>\n",
       "      <td>...</td>\n",
       "      <td>...</td>\n",
       "    </tr>\n",
       "    <tr>\n",
       "      <th>595</th>\n",
       "      <td>YES</td>\n",
       "      <td>Divorced</td>\n",
       "      <td>76340</td>\n",
       "      <td>39492</td>\n",
       "      <td>7</td>\n",
       "      <td>YES</td>\n",
       "    </tr>\n",
       "    <tr>\n",
       "      <th>596</th>\n",
       "      <td>YES</td>\n",
       "      <td>Divorced</td>\n",
       "      <td>69967</td>\n",
       "      <td>55369</td>\n",
       "      <td>2</td>\n",
       "      <td>YES</td>\n",
       "    </tr>\n",
       "    <tr>\n",
       "      <th>597</th>\n",
       "      <td>NO</td>\n",
       "      <td>Divorced</td>\n",
       "      <td>47334</td>\n",
       "      <td>154058</td>\n",
       "      <td>0</td>\n",
       "      <td>YES</td>\n",
       "    </tr>\n",
       "    <tr>\n",
       "      <th>598</th>\n",
       "      <td>YES</td>\n",
       "      <td>Married</td>\n",
       "      <td>98592</td>\n",
       "      <td>180083</td>\n",
       "      <td>17</td>\n",
       "      <td>NO</td>\n",
       "    </tr>\n",
       "    <tr>\n",
       "      <th>599</th>\n",
       "      <td>NO</td>\n",
       "      <td>Divorced</td>\n",
       "      <td>96519</td>\n",
       "      <td>158137</td>\n",
       "      <td>16</td>\n",
       "      <td>NO</td>\n",
       "    </tr>\n",
       "  </tbody>\n",
       "</table>\n",
       "<p>600 rows × 6 columns</p>\n",
       "</div>"
      ],
      "text/plain": [
       "    Undergrad Marital.Status  Taxable.Income  City.Population  \\\n",
       "0          NO         Single           68833            50047   \n",
       "1         YES       Divorced           33700           134075   \n",
       "2          NO        Married           36925           160205   \n",
       "3         YES         Single           50190           193264   \n",
       "4          NO        Married           81002            27533   \n",
       "..        ...            ...             ...              ...   \n",
       "595       YES       Divorced           76340            39492   \n",
       "596       YES       Divorced           69967            55369   \n",
       "597        NO       Divorced           47334           154058   \n",
       "598       YES        Married           98592           180083   \n",
       "599        NO       Divorced           96519           158137   \n",
       "\n",
       "     Work.Experience Urban  \n",
       "0                 10   YES  \n",
       "1                 18   YES  \n",
       "2                 30   YES  \n",
       "3                 15   YES  \n",
       "4                 28    NO  \n",
       "..               ...   ...  \n",
       "595                7   YES  \n",
       "596                2   YES  \n",
       "597                0   YES  \n",
       "598               17    NO  \n",
       "599               16    NO  \n",
       "\n",
       "[600 rows x 6 columns]"
      ]
     },
     "execution_count": 19,
     "metadata": {},
     "output_type": "execute_result"
    }
   ],
   "source": [
    "fraud_check_data=pd.read_csv('Fraud_check.csv')\n",
    "fraud_check_data"
   ]
  },
  {
   "cell_type": "markdown",
   "id": "6862fe21",
   "metadata": {},
   "source": [
    "## Data Understanding"
   ]
  },
  {
   "cell_type": "code",
   "execution_count": 20,
   "id": "d509d27f",
   "metadata": {
    "ExecuteTime": {
     "end_time": "2021-12-05T14:43:40.633282Z",
     "start_time": "2021-12-05T14:43:40.628282Z"
    }
   },
   "outputs": [
    {
     "data": {
      "text/plain": [
       "(600, 6)"
      ]
     },
     "execution_count": 20,
     "metadata": {},
     "output_type": "execute_result"
    }
   ],
   "source": [
    "fraud_check_data.shape"
   ]
  },
  {
   "cell_type": "code",
   "execution_count": 21,
   "id": "61df47fa",
   "metadata": {
    "ExecuteTime": {
     "end_time": "2021-12-05T14:43:41.113907Z",
     "start_time": "2021-12-05T14:43:41.100884Z"
    }
   },
   "outputs": [
    {
     "data": {
      "text/plain": [
       "Undergrad          0\n",
       "Marital.Status     0\n",
       "Taxable.Income     0\n",
       "City.Population    0\n",
       "Work.Experience    0\n",
       "Urban              0\n",
       "dtype: int64"
      ]
     },
     "execution_count": 21,
     "metadata": {},
     "output_type": "execute_result"
    }
   ],
   "source": [
    "fraud_check_data.isna().sum()"
   ]
  },
  {
   "cell_type": "code",
   "execution_count": 22,
   "id": "2fb45d81",
   "metadata": {
    "ExecuteTime": {
     "end_time": "2021-12-05T14:43:41.239058Z",
     "start_time": "2021-12-05T14:43:41.228056Z"
    }
   },
   "outputs": [
    {
     "data": {
      "text/plain": [
       "Undergrad          object\n",
       "Marital.Status     object\n",
       "Taxable.Income      int64\n",
       "City.Population     int64\n",
       "Work.Experience     int64\n",
       "Urban              object\n",
       "dtype: object"
      ]
     },
     "execution_count": 22,
     "metadata": {},
     "output_type": "execute_result"
    }
   ],
   "source": [
    "fraud_check_data.dtypes"
   ]
  },
  {
   "cell_type": "markdown",
   "id": "54b867cf",
   "metadata": {},
   "source": [
    "### Inference\n",
    "* Number of features and records in the given data set is 6 and 600 respesctively\n",
    "\n",
    "* There is no null values in the data set\n",
    "\n",
    "* The categorical data can be converted into numeric data type by using encoder so that the model can learn the things more easily"
   ]
  },
  {
   "cell_type": "markdown",
   "id": "20ab358c",
   "metadata": {},
   "source": [
    "## Data Preprocessing"
   ]
  },
  {
   "cell_type": "code",
   "execution_count": 23,
   "id": "fe7c719e",
   "metadata": {
    "ExecuteTime": {
     "end_time": "2021-12-05T14:43:41.659923Z",
     "start_time": "2021-12-05T14:43:41.652897Z"
    }
   },
   "outputs": [],
   "source": [
    "from sklearn.preprocessing import LabelEncoder\n",
    "le=LabelEncoder()"
   ]
  },
  {
   "cell_type": "code",
   "execution_count": 24,
   "id": "3d1818bc",
   "metadata": {
    "ExecuteTime": {
     "end_time": "2021-12-05T14:43:41.831124Z",
     "start_time": "2021-12-05T14:43:41.813529Z"
    }
   },
   "outputs": [
    {
     "data": {
      "text/html": [
       "<div>\n",
       "<style scoped>\n",
       "    .dataframe tbody tr th:only-of-type {\n",
       "        vertical-align: middle;\n",
       "    }\n",
       "\n",
       "    .dataframe tbody tr th {\n",
       "        vertical-align: top;\n",
       "    }\n",
       "\n",
       "    .dataframe thead th {\n",
       "        text-align: right;\n",
       "    }\n",
       "</style>\n",
       "<table border=\"1\" class=\"dataframe\">\n",
       "  <thead>\n",
       "    <tr style=\"text-align: right;\">\n",
       "      <th></th>\n",
       "      <th>Undergrad</th>\n",
       "      <th>Marital.Status</th>\n",
       "      <th>Taxable.Income</th>\n",
       "      <th>City.Population</th>\n",
       "      <th>Work.Experience</th>\n",
       "      <th>Urban</th>\n",
       "    </tr>\n",
       "  </thead>\n",
       "  <tbody>\n",
       "    <tr>\n",
       "      <th>0</th>\n",
       "      <td>0</td>\n",
       "      <td>2</td>\n",
       "      <td>68833</td>\n",
       "      <td>50047</td>\n",
       "      <td>10</td>\n",
       "      <td>1</td>\n",
       "    </tr>\n",
       "    <tr>\n",
       "      <th>1</th>\n",
       "      <td>1</td>\n",
       "      <td>0</td>\n",
       "      <td>33700</td>\n",
       "      <td>134075</td>\n",
       "      <td>18</td>\n",
       "      <td>1</td>\n",
       "    </tr>\n",
       "    <tr>\n",
       "      <th>2</th>\n",
       "      <td>0</td>\n",
       "      <td>1</td>\n",
       "      <td>36925</td>\n",
       "      <td>160205</td>\n",
       "      <td>30</td>\n",
       "      <td>1</td>\n",
       "    </tr>\n",
       "    <tr>\n",
       "      <th>3</th>\n",
       "      <td>1</td>\n",
       "      <td>2</td>\n",
       "      <td>50190</td>\n",
       "      <td>193264</td>\n",
       "      <td>15</td>\n",
       "      <td>1</td>\n",
       "    </tr>\n",
       "    <tr>\n",
       "      <th>4</th>\n",
       "      <td>0</td>\n",
       "      <td>1</td>\n",
       "      <td>81002</td>\n",
       "      <td>27533</td>\n",
       "      <td>28</td>\n",
       "      <td>0</td>\n",
       "    </tr>\n",
       "    <tr>\n",
       "      <th>...</th>\n",
       "      <td>...</td>\n",
       "      <td>...</td>\n",
       "      <td>...</td>\n",
       "      <td>...</td>\n",
       "      <td>...</td>\n",
       "      <td>...</td>\n",
       "    </tr>\n",
       "    <tr>\n",
       "      <th>595</th>\n",
       "      <td>1</td>\n",
       "      <td>0</td>\n",
       "      <td>76340</td>\n",
       "      <td>39492</td>\n",
       "      <td>7</td>\n",
       "      <td>1</td>\n",
       "    </tr>\n",
       "    <tr>\n",
       "      <th>596</th>\n",
       "      <td>1</td>\n",
       "      <td>0</td>\n",
       "      <td>69967</td>\n",
       "      <td>55369</td>\n",
       "      <td>2</td>\n",
       "      <td>1</td>\n",
       "    </tr>\n",
       "    <tr>\n",
       "      <th>597</th>\n",
       "      <td>0</td>\n",
       "      <td>0</td>\n",
       "      <td>47334</td>\n",
       "      <td>154058</td>\n",
       "      <td>0</td>\n",
       "      <td>1</td>\n",
       "    </tr>\n",
       "    <tr>\n",
       "      <th>598</th>\n",
       "      <td>1</td>\n",
       "      <td>1</td>\n",
       "      <td>98592</td>\n",
       "      <td>180083</td>\n",
       "      <td>17</td>\n",
       "      <td>0</td>\n",
       "    </tr>\n",
       "    <tr>\n",
       "      <th>599</th>\n",
       "      <td>0</td>\n",
       "      <td>0</td>\n",
       "      <td>96519</td>\n",
       "      <td>158137</td>\n",
       "      <td>16</td>\n",
       "      <td>0</td>\n",
       "    </tr>\n",
       "  </tbody>\n",
       "</table>\n",
       "<p>600 rows × 6 columns</p>\n",
       "</div>"
      ],
      "text/plain": [
       "     Undergrad  Marital.Status  Taxable.Income  City.Population  \\\n",
       "0            0               2           68833            50047   \n",
       "1            1               0           33700           134075   \n",
       "2            0               1           36925           160205   \n",
       "3            1               2           50190           193264   \n",
       "4            0               1           81002            27533   \n",
       "..         ...             ...             ...              ...   \n",
       "595          1               0           76340            39492   \n",
       "596          1               0           69967            55369   \n",
       "597          0               0           47334           154058   \n",
       "598          1               1           98592           180083   \n",
       "599          0               0           96519           158137   \n",
       "\n",
       "     Work.Experience  Urban  \n",
       "0                 10      1  \n",
       "1                 18      1  \n",
       "2                 30      1  \n",
       "3                 15      1  \n",
       "4                 28      0  \n",
       "..               ...    ...  \n",
       "595                7      1  \n",
       "596                2      1  \n",
       "597                0      1  \n",
       "598               17      0  \n",
       "599               16      0  \n",
       "\n",
       "[600 rows x 6 columns]"
      ]
     },
     "execution_count": 24,
     "metadata": {},
     "output_type": "execute_result"
    }
   ],
   "source": [
    "fraud_check_data['Undergrad']=le.fit_transform(fraud_check_data['Undergrad'])\n",
    "fraud_check_data['Marital.Status']=le.fit_transform(fraud_check_data['Marital.Status'])\n",
    "fraud_check_data['Urban']=le.fit_transform(fraud_check_data['Urban'])\n",
    "fraud_check_data"
   ]
  },
  {
   "cell_type": "code",
   "execution_count": 25,
   "id": "52380c4f",
   "metadata": {
    "ExecuteTime": {
     "end_time": "2021-12-05T14:43:41.956523Z",
     "start_time": "2021-12-05T14:43:41.940520Z"
    }
   },
   "outputs": [
    {
     "data": {
      "text/html": [
       "<div>\n",
       "<style scoped>\n",
       "    .dataframe tbody tr th:only-of-type {\n",
       "        vertical-align: middle;\n",
       "    }\n",
       "\n",
       "    .dataframe tbody tr th {\n",
       "        vertical-align: top;\n",
       "    }\n",
       "\n",
       "    .dataframe thead th {\n",
       "        text-align: right;\n",
       "    }\n",
       "</style>\n",
       "<table border=\"1\" class=\"dataframe\">\n",
       "  <thead>\n",
       "    <tr style=\"text-align: right;\">\n",
       "      <th></th>\n",
       "      <th>Undergrad</th>\n",
       "      <th>Marital.Status</th>\n",
       "      <th>Taxable.Income</th>\n",
       "      <th>City.Population</th>\n",
       "      <th>Work.Experience</th>\n",
       "      <th>Urban</th>\n",
       "      <th>tax_category</th>\n",
       "    </tr>\n",
       "  </thead>\n",
       "  <tbody>\n",
       "    <tr>\n",
       "      <th>0</th>\n",
       "      <td>0</td>\n",
       "      <td>2</td>\n",
       "      <td>68833</td>\n",
       "      <td>50047</td>\n",
       "      <td>10</td>\n",
       "      <td>1</td>\n",
       "      <td></td>\n",
       "    </tr>\n",
       "    <tr>\n",
       "      <th>1</th>\n",
       "      <td>1</td>\n",
       "      <td>0</td>\n",
       "      <td>33700</td>\n",
       "      <td>134075</td>\n",
       "      <td>18</td>\n",
       "      <td>1</td>\n",
       "      <td></td>\n",
       "    </tr>\n",
       "    <tr>\n",
       "      <th>2</th>\n",
       "      <td>0</td>\n",
       "      <td>1</td>\n",
       "      <td>36925</td>\n",
       "      <td>160205</td>\n",
       "      <td>30</td>\n",
       "      <td>1</td>\n",
       "      <td></td>\n",
       "    </tr>\n",
       "    <tr>\n",
       "      <th>3</th>\n",
       "      <td>1</td>\n",
       "      <td>2</td>\n",
       "      <td>50190</td>\n",
       "      <td>193264</td>\n",
       "      <td>15</td>\n",
       "      <td>1</td>\n",
       "      <td></td>\n",
       "    </tr>\n",
       "    <tr>\n",
       "      <th>4</th>\n",
       "      <td>0</td>\n",
       "      <td>1</td>\n",
       "      <td>81002</td>\n",
       "      <td>27533</td>\n",
       "      <td>28</td>\n",
       "      <td>0</td>\n",
       "      <td></td>\n",
       "    </tr>\n",
       "    <tr>\n",
       "      <th>...</th>\n",
       "      <td>...</td>\n",
       "      <td>...</td>\n",
       "      <td>...</td>\n",
       "      <td>...</td>\n",
       "      <td>...</td>\n",
       "      <td>...</td>\n",
       "      <td>...</td>\n",
       "    </tr>\n",
       "    <tr>\n",
       "      <th>595</th>\n",
       "      <td>1</td>\n",
       "      <td>0</td>\n",
       "      <td>76340</td>\n",
       "      <td>39492</td>\n",
       "      <td>7</td>\n",
       "      <td>1</td>\n",
       "      <td></td>\n",
       "    </tr>\n",
       "    <tr>\n",
       "      <th>596</th>\n",
       "      <td>1</td>\n",
       "      <td>0</td>\n",
       "      <td>69967</td>\n",
       "      <td>55369</td>\n",
       "      <td>2</td>\n",
       "      <td>1</td>\n",
       "      <td></td>\n",
       "    </tr>\n",
       "    <tr>\n",
       "      <th>597</th>\n",
       "      <td>0</td>\n",
       "      <td>0</td>\n",
       "      <td>47334</td>\n",
       "      <td>154058</td>\n",
       "      <td>0</td>\n",
       "      <td>1</td>\n",
       "      <td></td>\n",
       "    </tr>\n",
       "    <tr>\n",
       "      <th>598</th>\n",
       "      <td>1</td>\n",
       "      <td>1</td>\n",
       "      <td>98592</td>\n",
       "      <td>180083</td>\n",
       "      <td>17</td>\n",
       "      <td>0</td>\n",
       "      <td></td>\n",
       "    </tr>\n",
       "    <tr>\n",
       "      <th>599</th>\n",
       "      <td>0</td>\n",
       "      <td>0</td>\n",
       "      <td>96519</td>\n",
       "      <td>158137</td>\n",
       "      <td>16</td>\n",
       "      <td>0</td>\n",
       "      <td></td>\n",
       "    </tr>\n",
       "  </tbody>\n",
       "</table>\n",
       "<p>600 rows × 7 columns</p>\n",
       "</div>"
      ],
      "text/plain": [
       "     Undergrad  Marital.Status  Taxable.Income  City.Population  \\\n",
       "0            0               2           68833            50047   \n",
       "1            1               0           33700           134075   \n",
       "2            0               1           36925           160205   \n",
       "3            1               2           50190           193264   \n",
       "4            0               1           81002            27533   \n",
       "..         ...             ...             ...              ...   \n",
       "595          1               0           76340            39492   \n",
       "596          1               0           69967            55369   \n",
       "597          0               0           47334           154058   \n",
       "598          1               1           98592           180083   \n",
       "599          0               0           96519           158137   \n",
       "\n",
       "     Work.Experience  Urban tax_category  \n",
       "0                 10      1               \n",
       "1                 18      1               \n",
       "2                 30      1               \n",
       "3                 15      1               \n",
       "4                 28      0               \n",
       "..               ...    ...          ...  \n",
       "595                7      1               \n",
       "596                2      1               \n",
       "597                0      1               \n",
       "598               17      0               \n",
       "599               16      0               \n",
       "\n",
       "[600 rows x 7 columns]"
      ]
     },
     "execution_count": 25,
     "metadata": {},
     "output_type": "execute_result"
    }
   ],
   "source": [
    "fraud_check_data.insert(6,'tax_category',' ')\n",
    "fraud_check_data"
   ]
  },
  {
   "cell_type": "markdown",
   "id": "e9676748",
   "metadata": {},
   "source": [
    "### Converting tax income to tax category of 0 and 1"
   ]
  },
  {
   "cell_type": "code",
   "execution_count": 28,
   "id": "f63c9b34",
   "metadata": {
    "ExecuteTime": {
     "end_time": "2021-12-05T14:46:31.189719Z",
     "start_time": "2021-12-05T14:46:30.940948Z"
    }
   },
   "outputs": [],
   "source": [
    "for i in range(0,len(fraud_check_data['tax_category']),1):\n",
    "    if fraud_check_data['Taxable.Income'][i]<=30000:\n",
    "        fraud_check_data['tax_category'][i]='1'\n",
    "    else:\n",
    "        fraud_check_data['tax_category'][i]='0'"
   ]
  },
  {
   "cell_type": "code",
   "execution_count": 30,
   "id": "ec4c989d",
   "metadata": {
    "ExecuteTime": {
     "end_time": "2021-12-05T14:47:40.231549Z",
     "start_time": "2021-12-05T14:47:40.221007Z"
    }
   },
   "outputs": [
    {
     "data": {
      "text/plain": [
       "array(['0', '1'], dtype=object)"
      ]
     },
     "execution_count": 30,
     "metadata": {},
     "output_type": "execute_result"
    }
   ],
   "source": [
    "fraud_check_data['tax_category'].unique()"
   ]
  },
  {
   "cell_type": "code",
   "execution_count": 31,
   "id": "227a90f4",
   "metadata": {
    "ExecuteTime": {
     "end_time": "2021-12-05T14:48:49.536387Z",
     "start_time": "2021-12-05T14:48:49.516940Z"
    }
   },
   "outputs": [],
   "source": [
    "fraud_check_data['tax_category']=fraud_check_data['tax_category'].astype('int')"
   ]
  },
  {
   "cell_type": "code",
   "execution_count": 32,
   "id": "cb708cd1",
   "metadata": {
    "ExecuteTime": {
     "end_time": "2021-12-05T14:48:55.778276Z",
     "start_time": "2021-12-05T14:48:55.772264Z"
    }
   },
   "outputs": [
    {
     "data": {
      "text/plain": [
       "Undergrad          int32\n",
       "Marital.Status     int32\n",
       "Taxable.Income     int64\n",
       "City.Population    int64\n",
       "Work.Experience    int64\n",
       "Urban              int32\n",
       "tax_category       int32\n",
       "dtype: object"
      ]
     },
     "execution_count": 32,
     "metadata": {},
     "output_type": "execute_result"
    }
   ],
   "source": [
    "fraud_check_data.dtypes"
   ]
  },
  {
   "cell_type": "markdown",
   "id": "ee1fb6d1",
   "metadata": {},
   "source": [
    "## Model Building"
   ]
  },
  {
   "cell_type": "code",
   "execution_count": 34,
   "id": "ff1d8cc4",
   "metadata": {
    "ExecuteTime": {
     "end_time": "2021-12-05T14:50:16.573369Z",
     "start_time": "2021-12-05T14:50:16.564232Z"
    }
   },
   "outputs": [],
   "source": [
    "x=fraud_check_data.loc[:,('Undergrad','Marital.Status','City.Population','Work.Experience','Urban')]\n",
    "y=fraud_check_data['tax_category']"
   ]
  },
  {
   "cell_type": "code",
   "execution_count": 35,
   "id": "e9dbde8a",
   "metadata": {
    "ExecuteTime": {
     "end_time": "2021-12-05T14:51:44.159025Z",
     "start_time": "2021-12-05T14:51:44.139949Z"
    }
   },
   "outputs": [],
   "source": [
    "from sklearn.model_selection import train_test_split\n",
    "x_train,x_test,y_train,y_test=train_test_split(x,y,test_size=0.20)"
   ]
  },
  {
   "cell_type": "markdown",
   "id": "433c762a",
   "metadata": {},
   "source": [
    "## Model Training"
   ]
  },
  {
   "cell_type": "code",
   "execution_count": 36,
   "id": "7d44e0b5",
   "metadata": {
    "ExecuteTime": {
     "end_time": "2021-12-05T14:53:26.830769Z",
     "start_time": "2021-12-05T14:53:26.803772Z"
    }
   },
   "outputs": [
    {
     "data": {
      "text/plain": [
       "DecisionTreeClassifier()"
      ]
     },
     "execution_count": 36,
     "metadata": {},
     "output_type": "execute_result"
    }
   ],
   "source": [
    "from sklearn.tree import DecisionTreeClassifier\n",
    "dt_model=DecisionTreeClassifier()\n",
    "dt_model.fit(x_train,y_train)"
   ]
  },
  {
   "cell_type": "markdown",
   "id": "39a8a826",
   "metadata": {},
   "source": [
    "## Model Testing"
   ]
  },
  {
   "cell_type": "code",
   "execution_count": 37,
   "id": "da81a834",
   "metadata": {
    "ExecuteTime": {
     "end_time": "2021-12-05T14:54:41.466367Z",
     "start_time": "2021-12-05T14:54:41.444305Z"
    }
   },
   "outputs": [],
   "source": [
    "y_pred_train=dt_model.predict(x_train)\n",
    "y_pred_test=dt_model.predict(x_test)"
   ]
  },
  {
   "cell_type": "markdown",
   "id": "9849e983",
   "metadata": {},
   "source": [
    "## Model Evaluation"
   ]
  },
  {
   "cell_type": "code",
   "execution_count": 38,
   "id": "f80f66ae",
   "metadata": {
    "ExecuteTime": {
     "end_time": "2021-12-05T15:27:49.959232Z",
     "start_time": "2021-12-05T15:27:49.948955Z"
    }
   },
   "outputs": [],
   "source": [
    "from sklearn.metrics import accuracy_score,confusion_matrix,roc_auc_score,roc_curve,classification_report"
   ]
  },
  {
   "cell_type": "code",
   "execution_count": 39,
   "id": "583838c8",
   "metadata": {
    "ExecuteTime": {
     "end_time": "2021-12-05T15:28:44.760040Z",
     "start_time": "2021-12-05T15:28:44.747849Z"
    }
   },
   "outputs": [
    {
     "name": "stdout",
     "output_type": "stream",
     "text": [
      "              precision    recall  f1-score   support\n",
      "\n",
      "           0       1.00      1.00      1.00       377\n",
      "           1       1.00      1.00      1.00       103\n",
      "\n",
      "    accuracy                           1.00       480\n",
      "   macro avg       1.00      1.00      1.00       480\n",
      "weighted avg       1.00      1.00      1.00       480\n",
      "\n",
      "              precision    recall  f1-score   support\n",
      "\n",
      "           0       0.78      0.74      0.76        99\n",
      "           1       0.04      0.05      0.04        21\n",
      "\n",
      "    accuracy                           0.62       120\n",
      "   macro avg       0.41      0.39      0.40       120\n",
      "weighted avg       0.65      0.62      0.63       120\n",
      "\n"
     ]
    }
   ],
   "source": [
    "print(classification_report(y_train,y_pred_train))\n",
    "print(classification_report(y_test,y_pred_test))"
   ]
  },
  {
   "cell_type": "code",
   "execution_count": 40,
   "id": "9dcf6956",
   "metadata": {
    "ExecuteTime": {
     "end_time": "2021-12-05T15:30:10.962869Z",
     "start_time": "2021-12-05T15:30:10.948868Z"
    }
   },
   "outputs": [
    {
     "name": "stdout",
     "output_type": "stream",
     "text": [
      "1.0\n",
      "0.6166666666666667\n"
     ]
    }
   ],
   "source": [
    "print(accuracy_score(y_train,y_pred_train))\n",
    "print(accuracy_score(y_test,y_pred_test))"
   ]
  },
  {
   "cell_type": "code",
   "execution_count": 41,
   "id": "55b4f9cc",
   "metadata": {
    "ExecuteTime": {
     "end_time": "2021-12-05T15:32:20.080119Z",
     "start_time": "2021-12-05T15:32:20.068072Z"
    }
   },
   "outputs": [
    {
     "name": "stdout",
     "output_type": "stream",
     "text": [
      "[[377   0]\n",
      " [  0 103]]\n",
      "[[73 26]\n",
      " [20  1]]\n"
     ]
    }
   ],
   "source": [
    "print(confusion_matrix(y_train,y_pred_train))\n",
    "print(confusion_matrix(y_test,y_pred_test))"
   ]
  },
  {
   "cell_type": "code",
   "execution_count": 42,
   "id": "49a564b0",
   "metadata": {
    "ExecuteTime": {
     "end_time": "2021-12-05T15:33:26.907098Z",
     "start_time": "2021-12-05T15:33:26.643304Z"
    }
   },
   "outputs": [
    {
     "data": {
      "text/plain": [
       "<AxesSubplot:>"
      ]
     },
     "execution_count": 42,
     "metadata": {},
     "output_type": "execute_result"
    },
    {
     "data": {
      "image/png": "[encoded data removed]",
      "text/plain": [
       "<Figure size 432x288 with 2 Axes>"
      ]
     },
     "metadata": {
      "needs_background": "light"
     },
     "output_type": "display_data"
    }
   ],
   "source": [
    "confusion_matrix_data=confusion_matrix(y_test,y_pred_test)\n",
    "sns.heatmap(confusion_matrix_data,annot=True)"
   ]
  },
  {
   "cell_type": "code",
   "execution_count": 43,
   "id": "b2baa266",
   "metadata": {
    "ExecuteTime": {
     "end_time": "2021-12-05T15:37:23.321924Z",
     "start_time": "2021-12-05T15:37:23.308911Z"
    }
   },
   "outputs": [
    {
     "name": "stdout",
     "output_type": "stream",
     "text": [
      "auc value for train data 1.0\n",
      "auc value for test data 0.39249639249639245\n"
     ]
    }
   ],
   "source": [
    "auc_train = roc_auc_score(y_train, y_pred_train)\n",
    "print('auc value for train data',auc_train)\n",
    "auc_test= roc_auc_score(y_test, y_pred_test)\n",
    "print('auc value for test data',auc_test)"
   ]
  },
  {
   "cell_type": "code",
   "execution_count": 44,
   "id": "b98229f2",
   "metadata": {
    "ExecuteTime": {
     "end_time": "2021-12-05T15:38:03.119329Z",
     "start_time": "2021-12-05T15:37:50.867755Z"
    }
   },
   "outputs": [
    {
     "data": {
      "image/png": "[encoded data removed]",
      "text/plain": [
       "<Figure size 1152x720 with 1 Axes>"
      ]
     },
     "metadata": {
      "needs_background": "light"
     },
     "output_type": "display_data"
    }
   ],
   "source": [
    "import matplotlib.pyplot as plt\n",
    "from sklearn import tree\n",
    "plt.figure(figsize=(16,10))\n",
    "tree.plot_tree(dt_model,rounded=True,filled=True)\n",
    "plt.show()"
   ]
  },
  {
   "cell_type": "code",
   "execution_count": 45,
   "id": "4a29c8e0",
   "metadata": {
    "ExecuteTime": {
     "end_time": "2021-12-05T15:42:20.794810Z",
     "start_time": "2021-12-05T15:42:20.642745Z"
    }
   },
   "outputs": [
    {
     "name": "stdout",
     "output_type": "stream",
     "text": [
      "auc value for test data 0.39249639249639245\n"
     ]
    },
    {
     "data": {
      "image/png": "[encoded data removed]",
      "text/plain": [
       "<Figure size 432x288 with 1 Axes>"
      ]
     },
     "metadata": {
      "needs_background": "light"
     },
     "output_type": "display_data"
    }
   ],
   "source": [
    "fpr, tpr, thresholds = roc_curve(y,dt_model.predict_proba (x)[:,1])\n",
    "\n",
    "plt.plot(fpr, tpr, color='red')\n",
    "plt.plot([0, 1], [0, 1], 'k--')\n",
    "plt.xlabel('False Positive Rate or [1 - True Negative Rate]')\n",
    "plt.ylabel('True Positive Rate')\n",
    "\n",
    "auc_test= roc_auc_score(y_test, y_pred_test)\n",
    "print('auc value for test data',auc_test)"
   ]
  },
  {
   "cell_type": "markdown",
   "id": "3ddf2734",
   "metadata": {},
   "source": [
    "### GridSearchCV"
   ]
  },
  {
   "cell_type": "code",
   "execution_count": 47,
   "id": "4dce62b6",
   "metadata": {
    "ExecuteTime": {
     "end_time": "2021-12-05T15:43:41.117839Z",
     "start_time": "2021-12-05T15:43:38.091641Z"
    }
   },
   "outputs": [
    {
     "name": "stdout",
     "output_type": "stream",
     "text": [
      "{'criterion': 'entropy', 'max_depth': 2, 'min_samples_leaf': 2, 'min_samples_split': 2}\n",
      "0.7833333333333333\n"
     ]
    }
   ],
   "source": [
    "from sklearn.model_selection import GridSearchCV\n",
    "grid_model=GridSearchCV(estimator = dt_model,param_grid={'criterion':['entropy','gini'],\n",
    "                                                       'max_depth':[2,4,8,10],\n",
    "                                                        'min_samples_split':[2,4,6,8],\n",
    "                                                        'min_samples_leaf':[1,2,3,4]})\n",
    "grid_model.fit(x_train,y_train)\n",
    "print(grid_model.best_params_)\n",
    "print(grid_model.best_score_)"
   ]
  },
  {
   "cell_type": "code",
   "execution_count": 48,
   "id": "6fe2f93e",
   "metadata": {
    "ExecuteTime": {
     "end_time": "2021-12-05T15:46:14.763450Z",
     "start_time": "2021-12-05T15:46:14.754424Z"
    }
   },
   "outputs": [],
   "source": [
    "from sklearn.tree import DecisionTreeClassifier\n",
    "dt_model_tweak=DecisionTreeClassifier(criterion='entropy',max_depth=2)"
   ]
  },
  {
   "cell_type": "code",
   "execution_count": 49,
   "id": "7caf4ba3",
   "metadata": {
    "ExecuteTime": {
     "end_time": "2021-12-05T15:47:02.026409Z",
     "start_time": "2021-12-05T15:47:02.010394Z"
    }
   },
   "outputs": [
    {
     "data": {
      "text/plain": [
       "DecisionTreeClassifier(criterion='entropy', max_depth=2)"
      ]
     },
     "execution_count": 49,
     "metadata": {},
     "output_type": "execute_result"
    }
   ],
   "source": [
    "dt_model_tweak.fit(x_train,y_train)"
   ]
  },
  {
   "cell_type": "code",
   "execution_count": 50,
   "id": "44302303",
   "metadata": {
    "ExecuteTime": {
     "end_time": "2021-12-05T15:48:19.771965Z",
     "start_time": "2021-12-05T15:48:19.761966Z"
    }
   },
   "outputs": [],
   "source": [
    "y_pred_train_tweak=dt_model_tweak.predict(x_train)\n",
    "y_pred_test_tweak= dt_model_tweak.predict(x_test)"
   ]
  },
  {
   "cell_type": "code",
   "execution_count": 51,
   "id": "462f7575",
   "metadata": {
    "ExecuteTime": {
     "end_time": "2021-12-05T15:49:10.754913Z",
     "start_time": "2021-12-05T15:49:10.737850Z"
    }
   },
   "outputs": [
    {
     "name": "stdout",
     "output_type": "stream",
     "text": [
      "              precision    recall  f1-score   support\n",
      "\n",
      "           0       0.82      1.00      0.90        99\n",
      "           1       0.00      0.00      0.00        21\n",
      "\n",
      "    accuracy                           0.82       120\n",
      "   macro avg       0.41      0.50      0.45       120\n",
      "weighted avg       0.68      0.82      0.75       120\n",
      "\n"
     ]
    }
   ],
   "source": [
    "print(classification_report(y_test,y_pred_test_tweak))"
   ]
  },
  {
   "cell_type": "code",
   "execution_count": 52,
   "id": "99b549a4",
   "metadata": {
    "ExecuteTime": {
     "end_time": "2021-12-05T15:53:46.229653Z",
     "start_time": "2021-12-05T15:53:46.225652Z"
    }
   },
   "outputs": [
    {
     "name": "stdout",
     "output_type": "stream",
     "text": [
      "0.825\n"
     ]
    }
   ],
   "source": [
    "print(accuracy_score(y_test,y_pred_test_tweak))"
   ]
  },
  {
   "cell_type": "code",
   "execution_count": 53,
   "id": "6c443c8c",
   "metadata": {
    "ExecuteTime": {
     "end_time": "2021-12-05T15:54:04.861046Z",
     "start_time": "2021-12-05T15:54:04.850042Z"
    }
   },
   "outputs": [
    {
     "name": "stdout",
     "output_type": "stream",
     "text": [
      "auc value for test data 0.5\n"
     ]
    }
   ],
   "source": [
    "auc_test= roc_auc_score(y_test, y_pred_test_tweak)\n",
    "print('auc value for test data',auc_test)"
   ]
  },
  {
   "cell_type": "code",
   "execution_count": 54,
   "id": "13de1067",
   "metadata": {
    "ExecuteTime": {
     "end_time": "2021-12-05T15:54:14.365355Z",
     "start_time": "2021-12-05T15:54:13.153945Z"
    }
   },
   "outputs": [
    {
     "data": {
      "image/png": "[encoded data removed]",
      "text/plain": [
       "<Figure size 1152x720 with 1 Axes>"
      ]
     },
     "metadata": {
      "needs_background": "light"
     },
     "output_type": "display_data"
    }
   ],
   "source": [
    "from sklearn import tree\n",
    "plt.figure(figsize=(16,10))\n",
    "tree.plot_tree(dt_model,rounded=True,filled=True,max_depth=2)\n",
    "plt.show()"
   ]
  },
  {
   "cell_type": "code",
   "execution_count": 55,
   "id": "2f773592",
   "metadata": {
    "ExecuteTime": {
     "end_time": "2021-12-05T15:54:32.299402Z",
     "start_time": "2021-12-05T15:54:32.146378Z"
    }
   },
   "outputs": [
    {
     "name": "stdout",
     "output_type": "stream",
     "text": [
      "auc value for test data 0.5\n"
     ]
    },
    {
     "data": {
      "image/png": "[encoded data removed]",
      "text/plain": [
       "<Figure size 432x288 with 1 Axes>"
      ]
     },
     "metadata": {
      "needs_background": "light"
     },
     "output_type": "display_data"
    }
   ],
   "source": [
    "import matplotlib.pyplot as plt\n",
    "fpr, tpr, thresholds = roc_curve(y,dt_model_tweak.predict_proba (x)[:,1])\n",
    "\n",
    "plt.plot(fpr, tpr, color='red')\n",
    "plt.plot([0, 1], [0, 1], 'k--')\n",
    "plt.xlabel('False Positive Rate or [1 - True Negative Rate]')\n",
    "plt.ylabel('True Positive Rate')\n",
    "\n",
    "auc_test= roc_auc_score(y_test, y_pred_test_tweak)\n",
    "print('auc value for test data',auc_test)"
   ]
  },
  {
   "cell_type": "markdown",
   "id": "b13720db",
   "metadata": {},
   "source": [
    "### Check for imbalance data"
   ]
  },
  {
   "cell_type": "code",
   "execution_count": 57,
   "id": "bb3bfd60",
   "metadata": {
    "ExecuteTime": {
     "end_time": "2021-12-05T15:56:27.009353Z",
     "start_time": "2021-12-05T15:56:26.994350Z"
    }
   },
   "outputs": [
    {
     "data": {
      "text/plain": [
       "0    476\n",
       "1    124\n",
       "Name: tax_category, dtype: int64"
      ]
     },
     "execution_count": 57,
     "metadata": {},
     "output_type": "execute_result"
    }
   ],
   "source": [
    "fraud_check_data['tax_category'].value_counts()"
   ]
  },
  {
   "cell_type": "code",
   "execution_count": 58,
   "id": "14206f1b",
   "metadata": {
    "ExecuteTime": {
     "end_time": "2021-12-05T15:57:38.406120Z",
     "start_time": "2021-12-05T15:57:38.290056Z"
    }
   },
   "outputs": [
    {
     "data": {
      "text/plain": [
       "<AxesSubplot:xlabel='tax_category', ylabel='count'>"
      ]
     },
     "execution_count": 58,
     "metadata": {},
     "output_type": "execute_result"
    },
    {
     "data": {
      "image/png": "[encoded data removed]",
      "text/plain": [
       "<Figure size 432x288 with 1 Axes>"
      ]
     },
     "metadata": {
      "needs_background": "light"
     },
     "output_type": "display_data"
    }
   ],
   "source": [
    "sns.countplot(fraud_check_data['tax_category'])"
   ]
  },
  {
   "cell_type": "markdown",
   "id": "1fd968a9",
   "metadata": {},
   "source": [
    "### Inference\n",
    "\n",
    "* Countplot clearly shows that, the data are highly imbalanced, it may affect the accuaracy of the model\n",
    "\n",
    "* It need to be balanced for obtaining best model"
   ]
  },
  {
   "cell_type": "markdown",
   "id": "b7a0abf9",
   "metadata": {},
   "source": [
    "#### Data balancing by adjusting class weights"
   ]
  },
  {
   "cell_type": "code",
   "execution_count": 59,
   "id": "634ce275",
   "metadata": {
    "ExecuteTime": {
     "end_time": "2021-12-05T15:59:56.417346Z",
     "start_time": "2021-12-05T15:59:56.409344Z"
    }
   },
   "outputs": [],
   "source": [
    "dt_model_imb=DecisionTreeClassifier(class_weight={0:1,1:5}).fit(x_train,y_train)"
   ]
  },
  {
   "cell_type": "code",
   "execution_count": 60,
   "id": "80bb5e1d",
   "metadata": {
    "ExecuteTime": {
     "end_time": "2021-12-05T15:59:57.202310Z",
     "start_time": "2021-12-05T15:59:57.185305Z"
    }
   },
   "outputs": [],
   "source": [
    "y_pred=dt_model_imb.predict(x_test)"
   ]
  },
  {
   "cell_type": "code",
   "execution_count": 61,
   "id": "26ba89c4",
   "metadata": {
    "ExecuteTime": {
     "end_time": "2021-12-05T16:00:09.146341Z",
     "start_time": "2021-12-05T16:00:09.129280Z"
    },
    "scrolled": true
   },
   "outputs": [
    {
     "name": "stdout",
     "output_type": "stream",
     "text": [
      "0.65\n"
     ]
    }
   ],
   "source": [
    "print(accuracy_score(y_test,y_pred))"
   ]
  },
  {
   "cell_type": "code",
   "execution_count": 62,
   "id": "38c4b81a",
   "metadata": {
    "ExecuteTime": {
     "end_time": "2021-12-05T16:00:13.342859Z",
     "start_time": "2021-12-05T16:00:13.154304Z"
    }
   },
   "outputs": [
    {
     "data": {
      "text/plain": [
       "<AxesSubplot:>"
      ]
     },
     "execution_count": 62,
     "metadata": {},
     "output_type": "execute_result"
    },
    {
     "data": {
      "image/png": "[encoded data removed]",
      "text/plain": [
       "<Figure size 432x288 with 2 Axes>"
      ]
     },
     "metadata": {
      "needs_background": "light"
     },
     "output_type": "display_data"
    }
   ],
   "source": [
    "confusion_matrix_test=confusion_matrix(y_test,y_pred)\n",
    "sns.heatmap(confusion_matrix_test,annot=True)"
   ]
  },
  {
   "cell_type": "markdown",
   "id": "d1bf7dd2",
   "metadata": {},
   "source": [
    "#### Data balancing - SMOTE"
   ]
  },
  {
   "cell_type": "code",
   "execution_count": 63,
   "id": "58938f80",
   "metadata": {
    "ExecuteTime": {
     "end_time": "2021-12-05T16:00:22.389512Z",
     "start_time": "2021-12-05T16:00:18.714438Z"
    }
   },
   "outputs": [
    {
     "name": "stdout",
     "output_type": "stream",
     "text": [
      "Requirement already satisfied: imblearn in c:\\users\\sangeethraj k\\anaconda3\\lib\\site-packages (0.0)\n",
      "Requirement already satisfied: imbalanced-learn in c:\\users\\sangeethraj k\\anaconda3\\lib\\site-packages (from imblearn) (0.8.1)\n",
      "Requirement already satisfied: numpy>=1.13.3 in c:\\users\\sangeethraj k\\anaconda3\\lib\\site-packages (from imbalanced-learn->imblearn) (1.20.1)\n",
      "Requirement already satisfied: joblib>=0.11 in c:\\users\\sangeethraj k\\anaconda3\\lib\\site-packages (from imbalanced-learn->imblearn) (1.0.1)\n",
      "Requirement already satisfied: scipy>=0.19.1 in c:\\users\\sangeethraj k\\anaconda3\\lib\\site-packages (from imbalanced-learn->imblearn) (1.6.2)\n",
      "Requirement already satisfied: scikit-learn>=0.24 in c:\\users\\sangeethraj k\\anaconda3\\lib\\site-packages (from imbalanced-learn->imblearn) (0.24.1)\n",
      "Requirement already satisfied: threadpoolctl>=2.0.0 in c:\\users\\sangeethraj k\\anaconda3\\lib\\site-packages (from scikit-learn>=0.24->imbalanced-learn->imblearn) (2.1.0)\n"
     ]
    }
   ],
   "source": [
    "!pip install imblearn"
   ]
  },
  {
   "cell_type": "code",
   "execution_count": 64,
   "id": "4d32a311",
   "metadata": {
    "ExecuteTime": {
     "end_time": "2021-12-05T16:00:25.024322Z",
     "start_time": "2021-12-05T16:00:24.849242Z"
    }
   },
   "outputs": [],
   "source": [
    "from imblearn.over_sampling import SMOTE"
   ]
  },
  {
   "cell_type": "code",
   "execution_count": 65,
   "id": "93d6672f",
   "metadata": {
    "ExecuteTime": {
     "end_time": "2021-12-05T16:00:25.335772Z",
     "start_time": "2021-12-05T16:00:25.322690Z"
    }
   },
   "outputs": [],
   "source": [
    "smote=SMOTE(sampling_strategy='minority')"
   ]
  },
  {
   "cell_type": "code",
   "execution_count": 66,
   "id": "2d24d1ea",
   "metadata": {
    "ExecuteTime": {
     "end_time": "2021-12-05T16:00:30.636227Z",
     "start_time": "2021-12-05T16:00:30.610199Z"
    }
   },
   "outputs": [],
   "source": [
    "x_sm,y_sm=smote.fit_resample(x,y)"
   ]
  },
  {
   "cell_type": "code",
   "execution_count": 67,
   "id": "cfffad9d",
   "metadata": {
    "ExecuteTime": {
     "end_time": "2021-12-05T16:00:31.653567Z",
     "start_time": "2021-12-05T16:00:31.633318Z"
    }
   },
   "outputs": [],
   "source": [
    "x_train_sm,x_test_sm,y_train_sm,y_test_sm=train_test_split(x_sm,y_sm,test_size=0.2)"
   ]
  },
  {
   "cell_type": "code",
   "execution_count": 68,
   "id": "5bc27acf",
   "metadata": {
    "ExecuteTime": {
     "end_time": "2021-12-05T16:00:31.966266Z",
     "start_time": "2021-12-05T16:00:31.954948Z"
    }
   },
   "outputs": [],
   "source": [
    "dt_model_smote=DecisionTreeClassifier().fit(x_train_sm,y_train_sm)"
   ]
  },
  {
   "cell_type": "code",
   "execution_count": 69,
   "id": "1308106d",
   "metadata": {
    "ExecuteTime": {
     "end_time": "2021-12-05T16:00:32.281150Z",
     "start_time": "2021-12-05T16:00:32.266126Z"
    }
   },
   "outputs": [],
   "source": [
    "y_pred_smote=dt_model_smote.predict(x_test_sm)"
   ]
  },
  {
   "cell_type": "code",
   "execution_count": 70,
   "id": "e86ded2d",
   "metadata": {
    "ExecuteTime": {
     "end_time": "2021-12-05T16:00:32.646899Z",
     "start_time": "2021-12-05T16:00:32.633831Z"
    }
   },
   "outputs": [
    {
     "name": "stdout",
     "output_type": "stream",
     "text": [
      "0.6596858638743456\n"
     ]
    }
   ],
   "source": [
    "print(accuracy_score(y_test_sm,y_pred_smote))"
   ]
  },
  {
   "cell_type": "code",
   "execution_count": 71,
   "id": "02f8cdab",
   "metadata": {
    "ExecuteTime": {
     "end_time": "2021-12-05T16:00:33.807169Z",
     "start_time": "2021-12-05T16:00:33.641341Z"
    }
   },
   "outputs": [
    {
     "data": {
      "text/plain": [
       "<AxesSubplot:>"
      ]
     },
     "execution_count": 71,
     "metadata": {},
     "output_type": "execute_result"
    },
    {
     "data": {
      "image/png": "[encoded data removed]",
      "text/plain": [
       "<Figure size 432x288 with 2 Axes>"
      ]
     },
     "metadata": {
      "needs_background": "light"
     },
     "output_type": "display_data"
    }
   ],
   "source": [
    "confusion_matrix_test=confusion_matrix(y_test_sm,y_pred_smote)\n",
    "sns.heatmap(confusion_matrix_test,annot=True)"
   ]
  },
  {
   "cell_type": "code",
   "execution_count": 72,
   "id": "8bc85934",
   "metadata": {
    "ExecuteTime": {
     "end_time": "2021-12-05T16:00:38.855575Z",
     "start_time": "2021-12-05T16:00:38.705219Z"
    }
   },
   "outputs": [
    {
     "name": "stdout",
     "output_type": "stream",
     "text": [
      "auc value for test data 0.6548799294998899\n"
     ]
    },
    {
     "data": {
      "image/png": "[encoded data removed]",
      "text/plain": [
       "<Figure size 432x288 with 1 Axes>"
      ]
     },
     "metadata": {
      "needs_background": "light"
     },
     "output_type": "display_data"
    }
   ],
   "source": [
    "fpr, tpr, thresholds = roc_curve(y,dt_model_smote.predict_proba (x)[:,1])\n",
    "\n",
    "plt.plot(fpr, tpr, color='red')\n",
    "plt.plot([0, 1], [0, 1], 'k--')\n",
    "plt.xlabel('False Positive Rate or [1 - True Negative Rate]')\n",
    "plt.ylabel('True Positive Rate')\n",
    "\n",
    "auc_test= roc_auc_score(y_test_sm, y_pred_smote)\n",
    "print('auc value for test data',auc_test)"
   ]
  },
  {
   "cell_type": "markdown",
   "id": "93d72491",
   "metadata": {},
   "source": [
    "### Inference\n",
    "* The result clearly shows that accuarcy gets improved by balancing the data"
   ]
  }
 ],
 "metadata": {
  "kernelspec": {
   "display_name": "Python 3",
   "language": "python",
   "name": "python3"
  },
  "language_info": {
   "codemirror_mode": {
    "name": "ipython",
    "version": 3
   },
   "file_extension": ".py",
   "mimetype": "text/x-python",
   "name": "python",
   "nbconvert_exporter": "python",
   "pygments_lexer": "ipython3",
   "version": "3.8.8"
  },
  "varInspector": {
   "cols": {
    "lenName": 16,
    "lenType": 16,
    "lenVar": 40
   },
   "kernels_config": {
    "python": {
     "delete_cmd_postfix": "",
     "delete_cmd_prefix": "del ",
     "library": "var_list.py",
     "varRefreshCmd": "print(var_dic_list())"
    },
    "r": {
     "delete_cmd_postfix": ") ",
     "delete_cmd_prefix": "rm(",
     "library": "var_list.r",
     "varRefreshCmd": "cat(var_dic_list()) "
    }
   },
   "types_to_exclude": [
    "module",
    "function",
    "builtin_function_or_method",
    "instance",
    "_Feature"
   ],
   "window_display": false
  }
 },
 "nbformat": 4,
 "nbformat_minor": 5
}
