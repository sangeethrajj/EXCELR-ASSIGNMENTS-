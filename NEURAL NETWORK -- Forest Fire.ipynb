{
 "cells": [
  {
   "cell_type": "markdown",
   "id": "bdf53ba2",
   "metadata": {},
   "source": [
    "## Import Necessary Libraries"
   ]
  },
  {
   "cell_type": "code",
   "execution_count": 2,
   "id": "8274bb78",
   "metadata": {
    "ExecuteTime": {
     "end_time": "2021-12-15T16:27:18.437110Z",
     "start_time": "2021-12-15T16:27:18.421606Z"
    }
   },
   "outputs": [],
   "source": [
    "import tensorflow as tf\n",
    "from tensorflow import keras\n",
    "import matplotlib.pyplot as plt\n",
    "import numpy as np\n",
    "import matplotlib.pyplot as plt\n",
    "import seaborn as sns\n",
    "import pandas as pd\n",
    "import warnings\n",
    "warnings.filterwarnings('ignore')"
   ]
  },
  {
   "cell_type": "markdown",
   "id": "6b41ba88",
   "metadata": {},
   "source": [
    "## Import Datasets"
   ]
  },
  {
   "cell_type": "code",
   "execution_count": 3,
   "id": "cbdf1784",
   "metadata": {
    "ExecuteTime": {
     "end_time": "2021-12-15T16:27:48.383693Z",
     "start_time": "2021-12-15T16:27:48.324612Z"
    }
   },
   "outputs": [
    {
     "data": {
      "text/html": [
       "<div>\n",
       "<style scoped>\n",
       "    .dataframe tbody tr th:only-of-type {\n",
       "        vertical-align: middle;\n",
       "    }\n",
       "\n",
       "    .dataframe tbody tr th {\n",
       "        vertical-align: top;\n",
       "    }\n",
       "\n",
       "    .dataframe thead th {\n",
       "        text-align: right;\n",
       "    }\n",
       "</style>\n",
       "<table border=\"1\" class=\"dataframe\">\n",
       "  <thead>\n",
       "    <tr style=\"text-align: right;\">\n",
       "      <th></th>\n",
       "      <th>month</th>\n",
       "      <th>day</th>\n",
       "      <th>FFMC</th>\n",
       "      <th>DMC</th>\n",
       "      <th>DC</th>\n",
       "      <th>ISI</th>\n",
       "      <th>temp</th>\n",
       "      <th>RH</th>\n",
       "      <th>wind</th>\n",
       "      <th>rain</th>\n",
       "      <th>...</th>\n",
       "      <th>monthfeb</th>\n",
       "      <th>monthjan</th>\n",
       "      <th>monthjul</th>\n",
       "      <th>monthjun</th>\n",
       "      <th>monthmar</th>\n",
       "      <th>monthmay</th>\n",
       "      <th>monthnov</th>\n",
       "      <th>monthoct</th>\n",
       "      <th>monthsep</th>\n",
       "      <th>size_category</th>\n",
       "    </tr>\n",
       "  </thead>\n",
       "  <tbody>\n",
       "    <tr>\n",
       "      <th>0</th>\n",
       "      <td>mar</td>\n",
       "      <td>fri</td>\n",
       "      <td>86.2</td>\n",
       "      <td>26.2</td>\n",
       "      <td>94.3</td>\n",
       "      <td>5.1</td>\n",
       "      <td>8.2</td>\n",
       "      <td>51</td>\n",
       "      <td>6.7</td>\n",
       "      <td>0.0</td>\n",
       "      <td>...</td>\n",
       "      <td>0</td>\n",
       "      <td>0</td>\n",
       "      <td>0</td>\n",
       "      <td>0</td>\n",
       "      <td>1</td>\n",
       "      <td>0</td>\n",
       "      <td>0</td>\n",
       "      <td>0</td>\n",
       "      <td>0</td>\n",
       "      <td>small</td>\n",
       "    </tr>\n",
       "    <tr>\n",
       "      <th>1</th>\n",
       "      <td>oct</td>\n",
       "      <td>tue</td>\n",
       "      <td>90.6</td>\n",
       "      <td>35.4</td>\n",
       "      <td>669.1</td>\n",
       "      <td>6.7</td>\n",
       "      <td>18.0</td>\n",
       "      <td>33</td>\n",
       "      <td>0.9</td>\n",
       "      <td>0.0</td>\n",
       "      <td>...</td>\n",
       "      <td>0</td>\n",
       "      <td>0</td>\n",
       "      <td>0</td>\n",
       "      <td>0</td>\n",
       "      <td>0</td>\n",
       "      <td>0</td>\n",
       "      <td>0</td>\n",
       "      <td>1</td>\n",
       "      <td>0</td>\n",
       "      <td>small</td>\n",
       "    </tr>\n",
       "    <tr>\n",
       "      <th>2</th>\n",
       "      <td>oct</td>\n",
       "      <td>sat</td>\n",
       "      <td>90.6</td>\n",
       "      <td>43.7</td>\n",
       "      <td>686.9</td>\n",
       "      <td>6.7</td>\n",
       "      <td>14.6</td>\n",
       "      <td>33</td>\n",
       "      <td>1.3</td>\n",
       "      <td>0.0</td>\n",
       "      <td>...</td>\n",
       "      <td>0</td>\n",
       "      <td>0</td>\n",
       "      <td>0</td>\n",
       "      <td>0</td>\n",
       "      <td>0</td>\n",
       "      <td>0</td>\n",
       "      <td>0</td>\n",
       "      <td>1</td>\n",
       "      <td>0</td>\n",
       "      <td>small</td>\n",
       "    </tr>\n",
       "    <tr>\n",
       "      <th>3</th>\n",
       "      <td>mar</td>\n",
       "      <td>fri</td>\n",
       "      <td>91.7</td>\n",
       "      <td>33.3</td>\n",
       "      <td>77.5</td>\n",
       "      <td>9.0</td>\n",
       "      <td>8.3</td>\n",
       "      <td>97</td>\n",
       "      <td>4.0</td>\n",
       "      <td>0.2</td>\n",
       "      <td>...</td>\n",
       "      <td>0</td>\n",
       "      <td>0</td>\n",
       "      <td>0</td>\n",
       "      <td>0</td>\n",
       "      <td>1</td>\n",
       "      <td>0</td>\n",
       "      <td>0</td>\n",
       "      <td>0</td>\n",
       "      <td>0</td>\n",
       "      <td>small</td>\n",
       "    </tr>\n",
       "    <tr>\n",
       "      <th>4</th>\n",
       "      <td>mar</td>\n",
       "      <td>sun</td>\n",
       "      <td>89.3</td>\n",
       "      <td>51.3</td>\n",
       "      <td>102.2</td>\n",
       "      <td>9.6</td>\n",
       "      <td>11.4</td>\n",
       "      <td>99</td>\n",
       "      <td>1.8</td>\n",
       "      <td>0.0</td>\n",
       "      <td>...</td>\n",
       "      <td>0</td>\n",
       "      <td>0</td>\n",
       "      <td>0</td>\n",
       "      <td>0</td>\n",
       "      <td>1</td>\n",
       "      <td>0</td>\n",
       "      <td>0</td>\n",
       "      <td>0</td>\n",
       "      <td>0</td>\n",
       "      <td>small</td>\n",
       "    </tr>\n",
       "    <tr>\n",
       "      <th>...</th>\n",
       "      <td>...</td>\n",
       "      <td>...</td>\n",
       "      <td>...</td>\n",
       "      <td>...</td>\n",
       "      <td>...</td>\n",
       "      <td>...</td>\n",
       "      <td>...</td>\n",
       "      <td>...</td>\n",
       "      <td>...</td>\n",
       "      <td>...</td>\n",
       "      <td>...</td>\n",
       "      <td>...</td>\n",
       "      <td>...</td>\n",
       "      <td>...</td>\n",
       "      <td>...</td>\n",
       "      <td>...</td>\n",
       "      <td>...</td>\n",
       "      <td>...</td>\n",
       "      <td>...</td>\n",
       "      <td>...</td>\n",
       "      <td>...</td>\n",
       "    </tr>\n",
       "    <tr>\n",
       "      <th>512</th>\n",
       "      <td>aug</td>\n",
       "      <td>sun</td>\n",
       "      <td>81.6</td>\n",
       "      <td>56.7</td>\n",
       "      <td>665.6</td>\n",
       "      <td>1.9</td>\n",
       "      <td>27.8</td>\n",
       "      <td>32</td>\n",
       "      <td>2.7</td>\n",
       "      <td>0.0</td>\n",
       "      <td>...</td>\n",
       "      <td>0</td>\n",
       "      <td>0</td>\n",
       "      <td>0</td>\n",
       "      <td>0</td>\n",
       "      <td>0</td>\n",
       "      <td>0</td>\n",
       "      <td>0</td>\n",
       "      <td>0</td>\n",
       "      <td>0</td>\n",
       "      <td>large</td>\n",
       "    </tr>\n",
       "    <tr>\n",
       "      <th>513</th>\n",
       "      <td>aug</td>\n",
       "      <td>sun</td>\n",
       "      <td>81.6</td>\n",
       "      <td>56.7</td>\n",
       "      <td>665.6</td>\n",
       "      <td>1.9</td>\n",
       "      <td>21.9</td>\n",
       "      <td>71</td>\n",
       "      <td>5.8</td>\n",
       "      <td>0.0</td>\n",
       "      <td>...</td>\n",
       "      <td>0</td>\n",
       "      <td>0</td>\n",
       "      <td>0</td>\n",
       "      <td>0</td>\n",
       "      <td>0</td>\n",
       "      <td>0</td>\n",
       "      <td>0</td>\n",
       "      <td>0</td>\n",
       "      <td>0</td>\n",
       "      <td>large</td>\n",
       "    </tr>\n",
       "    <tr>\n",
       "      <th>514</th>\n",
       "      <td>aug</td>\n",
       "      <td>sun</td>\n",
       "      <td>81.6</td>\n",
       "      <td>56.7</td>\n",
       "      <td>665.6</td>\n",
       "      <td>1.9</td>\n",
       "      <td>21.2</td>\n",
       "      <td>70</td>\n",
       "      <td>6.7</td>\n",
       "      <td>0.0</td>\n",
       "      <td>...</td>\n",
       "      <td>0</td>\n",
       "      <td>0</td>\n",
       "      <td>0</td>\n",
       "      <td>0</td>\n",
       "      <td>0</td>\n",
       "      <td>0</td>\n",
       "      <td>0</td>\n",
       "      <td>0</td>\n",
       "      <td>0</td>\n",
       "      <td>large</td>\n",
       "    </tr>\n",
       "    <tr>\n",
       "      <th>515</th>\n",
       "      <td>aug</td>\n",
       "      <td>sat</td>\n",
       "      <td>94.4</td>\n",
       "      <td>146.0</td>\n",
       "      <td>614.7</td>\n",
       "      <td>11.3</td>\n",
       "      <td>25.6</td>\n",
       "      <td>42</td>\n",
       "      <td>4.0</td>\n",
       "      <td>0.0</td>\n",
       "      <td>...</td>\n",
       "      <td>0</td>\n",
       "      <td>0</td>\n",
       "      <td>0</td>\n",
       "      <td>0</td>\n",
       "      <td>0</td>\n",
       "      <td>0</td>\n",
       "      <td>0</td>\n",
       "      <td>0</td>\n",
       "      <td>0</td>\n",
       "      <td>small</td>\n",
       "    </tr>\n",
       "    <tr>\n",
       "      <th>516</th>\n",
       "      <td>nov</td>\n",
       "      <td>tue</td>\n",
       "      <td>79.5</td>\n",
       "      <td>3.0</td>\n",
       "      <td>106.7</td>\n",
       "      <td>1.1</td>\n",
       "      <td>11.8</td>\n",
       "      <td>31</td>\n",
       "      <td>4.5</td>\n",
       "      <td>0.0</td>\n",
       "      <td>...</td>\n",
       "      <td>0</td>\n",
       "      <td>0</td>\n",
       "      <td>0</td>\n",
       "      <td>0</td>\n",
       "      <td>0</td>\n",
       "      <td>0</td>\n",
       "      <td>1</td>\n",
       "      <td>0</td>\n",
       "      <td>0</td>\n",
       "      <td>small</td>\n",
       "    </tr>\n",
       "  </tbody>\n",
       "</table>\n",
       "<p>517 rows × 31 columns</p>\n",
       "</div>"
      ],
      "text/plain": [
       "    month  day  FFMC    DMC     DC   ISI  temp  RH  wind  rain  ...  monthfeb  \\\n",
       "0     mar  fri  86.2   26.2   94.3   5.1   8.2  51   6.7   0.0  ...         0   \n",
       "1     oct  tue  90.6   35.4  669.1   6.7  18.0  33   0.9   0.0  ...         0   \n",
       "2     oct  sat  90.6   43.7  686.9   6.7  14.6  33   1.3   0.0  ...         0   \n",
       "3     mar  fri  91.7   33.3   77.5   9.0   8.3  97   4.0   0.2  ...         0   \n",
       "4     mar  sun  89.3   51.3  102.2   9.6  11.4  99   1.8   0.0  ...         0   \n",
       "..    ...  ...   ...    ...    ...   ...   ...  ..   ...   ...  ...       ...   \n",
       "512   aug  sun  81.6   56.7  665.6   1.9  27.8  32   2.7   0.0  ...         0   \n",
       "513   aug  sun  81.6   56.7  665.6   1.9  21.9  71   5.8   0.0  ...         0   \n",
       "514   aug  sun  81.6   56.7  665.6   1.9  21.2  70   6.7   0.0  ...         0   \n",
       "515   aug  sat  94.4  146.0  614.7  11.3  25.6  42   4.0   0.0  ...         0   \n",
       "516   nov  tue  79.5    3.0  106.7   1.1  11.8  31   4.5   0.0  ...         0   \n",
       "\n",
       "     monthjan  monthjul  monthjun  monthmar  monthmay  monthnov  monthoct  \\\n",
       "0           0         0         0         1         0         0         0   \n",
       "1           0         0         0         0         0         0         1   \n",
       "2           0         0         0         0         0         0         1   \n",
       "3           0         0         0         1         0         0         0   \n",
       "4           0         0         0         1         0         0         0   \n",
       "..        ...       ...       ...       ...       ...       ...       ...   \n",
       "512         0         0         0         0         0         0         0   \n",
       "513         0         0         0         0         0         0         0   \n",
       "514         0         0         0         0         0         0         0   \n",
       "515         0         0         0         0         0         0         0   \n",
       "516         0         0         0         0         0         1         0   \n",
       "\n",
       "     monthsep  size_category  \n",
       "0           0          small  \n",
       "1           0          small  \n",
       "2           0          small  \n",
       "3           0          small  \n",
       "4           0          small  \n",
       "..        ...            ...  \n",
       "512         0          large  \n",
       "513         0          large  \n",
       "514         0          large  \n",
       "515         0          small  \n",
       "516         0          small  \n",
       "\n",
       "[517 rows x 31 columns]"
      ]
     },
     "execution_count": 3,
     "metadata": {},
     "output_type": "execute_result"
    }
   ],
   "source": [
    "forest_fire=pd.read_csv('forestfires (1).csv')\n",
    "forest_fire"
   ]
  },
  {
   "cell_type": "markdown",
   "id": "f46acb27",
   "metadata": {},
   "source": [
    "## Data Understanding"
   ]
  },
  {
   "cell_type": "code",
   "execution_count": 4,
   "id": "9bd84950",
   "metadata": {
    "ExecuteTime": {
     "end_time": "2021-12-15T16:29:07.173278Z",
     "start_time": "2021-12-15T16:29:07.157273Z"
    }
   },
   "outputs": [
    {
     "data": {
      "text/plain": [
       "(517, 31)"
      ]
     },
     "execution_count": 4,
     "metadata": {},
     "output_type": "execute_result"
    }
   ],
   "source": [
    "forest_fire.shape"
   ]
  },
  {
   "cell_type": "code",
   "execution_count": 5,
   "id": "0567ef1f",
   "metadata": {
    "ExecuteTime": {
     "end_time": "2021-12-15T16:29:24.911080Z",
     "start_time": "2021-12-15T16:29:24.900065Z"
    }
   },
   "outputs": [
    {
     "data": {
      "text/plain": [
       "month            0\n",
       "day              0\n",
       "FFMC             0\n",
       "DMC              0\n",
       "DC               0\n",
       "ISI              0\n",
       "temp             0\n",
       "RH               0\n",
       "wind             0\n",
       "rain             0\n",
       "area             0\n",
       "dayfri           0\n",
       "daymon           0\n",
       "daysat           0\n",
       "daysun           0\n",
       "daythu           0\n",
       "daytue           0\n",
       "daywed           0\n",
       "monthapr         0\n",
       "monthaug         0\n",
       "monthdec         0\n",
       "monthfeb         0\n",
       "monthjan         0\n",
       "monthjul         0\n",
       "monthjun         0\n",
       "monthmar         0\n",
       "monthmay         0\n",
       "monthnov         0\n",
       "monthoct         0\n",
       "monthsep         0\n",
       "size_category    0\n",
       "dtype: int64"
      ]
     },
     "execution_count": 5,
     "metadata": {},
     "output_type": "execute_result"
    }
   ],
   "source": [
    "forest_fire.isna().sum()"
   ]
  },
  {
   "cell_type": "code",
   "execution_count": 6,
   "id": "bccf522d",
   "metadata": {
    "ExecuteTime": {
     "end_time": "2021-12-15T16:29:32.509567Z",
     "start_time": "2021-12-15T16:29:32.495561Z"
    }
   },
   "outputs": [
    {
     "data": {
      "text/plain": [
       "month             object\n",
       "day               object\n",
       "FFMC             float64\n",
       "DMC              float64\n",
       "DC               float64\n",
       "ISI              float64\n",
       "temp             float64\n",
       "RH                 int64\n",
       "wind             float64\n",
       "rain             float64\n",
       "area             float64\n",
       "dayfri             int64\n",
       "daymon             int64\n",
       "daysat             int64\n",
       "daysun             int64\n",
       "daythu             int64\n",
       "daytue             int64\n",
       "daywed             int64\n",
       "monthapr           int64\n",
       "monthaug           int64\n",
       "monthdec           int64\n",
       "monthfeb           int64\n",
       "monthjan           int64\n",
       "monthjul           int64\n",
       "monthjun           int64\n",
       "monthmar           int64\n",
       "monthmay           int64\n",
       "monthnov           int64\n",
       "monthoct           int64\n",
       "monthsep           int64\n",
       "size_category     object\n",
       "dtype: object"
      ]
     },
     "execution_count": 6,
     "metadata": {},
     "output_type": "execute_result"
    }
   ],
   "source": [
    "forest_fire.dtypes"
   ]
  },
  {
   "cell_type": "markdown",
   "id": "10ea49a9",
   "metadata": {},
   "source": [
    "### Inference:\n",
    "* The dataset have 31 features and 517 records\n",
    "\n",
    "* The datatype of the features are assigned correctly\n",
    "\n",
    "* The dataset have no null values"
   ]
  },
  {
   "cell_type": "markdown",
   "id": "a73f45e3",
   "metadata": {
    "id": "Q_G_tpVAPdDX"
   },
   "source": [
    "## Data visualization"
   ]
  },
  {
   "cell_type": "code",
   "execution_count": 7,
   "id": "3ba0b095",
   "metadata": {
    "ExecuteTime": {
     "end_time": "2021-12-15T16:30:29.881853Z",
     "start_time": "2021-12-15T16:30:29.869584Z"
    },
    "colab": {
     "base_uri": "https://localhost:8080/"
    },
    "executionInfo": {
     "elapsed": 456,
     "status": "ok",
     "timestamp": 1631538095400,
     "user": {
      "displayName": "Rooba Dharshini",
      "photoUrl": "https://lh3.googleusercontent.com/a-/AOh14GgFMTz2I-kQBRnzggoR7sNyqkk8l6OvkfZ1oqO9RA=s64",
      "userId": "15190253811630465496"
     },
     "user_tz": -330
    },
    "id": "MLILMu1FPbze",
    "outputId": "6fd114c5-fc8f-4650-9668-5abf047c543f"
   },
   "outputs": [
    {
     "data": {
      "text/plain": [
       "small    378\n",
       "large    139\n",
       "Name: size_category, dtype: int64"
      ]
     },
     "execution_count": 7,
     "metadata": {},
     "output_type": "execute_result"
    }
   ],
   "source": [
    "forest_fire['size_category'].value_counts()"
   ]
  },
  {
   "cell_type": "code",
   "execution_count": 8,
   "id": "1cec5918",
   "metadata": {
    "ExecuteTime": {
     "end_time": "2021-12-15T16:30:30.928449Z",
     "start_time": "2021-12-15T16:30:30.775549Z"
    },
    "colab": {
     "base_uri": "https://localhost:8080/",
     "height": 351
    },
    "executionInfo": {
     "elapsed": 1826,
     "status": "ok",
     "timestamp": 1631538193310,
     "user": {
      "displayName": "Rooba Dharshini",
      "photoUrl": "https://lh3.googleusercontent.com/a-/AOh14GgFMTz2I-kQBRnzggoR7sNyqkk8l6OvkfZ1oqO9RA=s64",
      "userId": "15190253811630465496"
     },
     "user_tz": -330
    },
    "id": "FCuI7X2oP_21",
    "outputId": "0776ba67-7abc-46ef-95c5-b047fafeefb0"
   },
   "outputs": [
    {
     "data": {
      "text/plain": [
       "<AxesSubplot:xlabel='size_category', ylabel='count'>"
      ]
     },
     "execution_count": 8,
     "metadata": {},
     "output_type": "execute_result"
    },
    {
     "data": {
      "image/png": "[encoded data removed]",
      "text/plain": [
       "<Figure size 432x288 with 1 Axes>"
      ]
     },
     "metadata": {
      "needs_background": "light"
     },
     "output_type": "display_data"
    }
   ],
   "source": [
    "sns.countplot(forest_fire['size_category'])"
   ]
  },
  {
   "cell_type": "code",
   "execution_count": 9,
   "id": "00815802",
   "metadata": {
    "ExecuteTime": {
     "end_time": "2021-12-15T16:30:31.853965Z",
     "start_time": "2021-12-15T16:30:31.635577Z"
    },
    "colab": {
     "base_uri": "https://localhost:8080/",
     "height": 350
    },
    "executionInfo": {
     "elapsed": 449,
     "status": "ok",
     "timestamp": 1631538316277,
     "user": {
      "displayName": "Rooba Dharshini",
      "photoUrl": "https://lh3.googleusercontent.com/a-/AOh14GgFMTz2I-kQBRnzggoR7sNyqkk8l6OvkfZ1oqO9RA=s64",
      "userId": "15190253811630465496"
     },
     "user_tz": -330
    },
    "id": "nqJLt5FLQA4d",
    "outputId": "f80bf134-0cb9-4e2f-8787-eafc5a834ac9"
   },
   "outputs": [
    {
     "data": {
      "text/plain": [
       "<AxesSubplot:xlabel='FFMC', ylabel='Density'>"
      ]
     },
     "execution_count": 9,
     "metadata": {},
     "output_type": "execute_result"
    },
    {
     "data": {
      "image/png": "[encoded data removed]",
      "text/plain": [
       "<Figure size 432x288 with 1 Axes>"
      ]
     },
     "metadata": {
      "needs_background": "light"
     },
     "output_type": "display_data"
    }
   ],
   "source": [
    "sns.distplot(forest_fire['FFMC'])"
   ]
  },
  {
   "cell_type": "code",
   "execution_count": 10,
   "id": "19c28837",
   "metadata": {
    "ExecuteTime": {
     "end_time": "2021-12-15T16:30:32.263073Z",
     "start_time": "2021-12-15T16:30:32.058542Z"
    },
    "colab": {
     "base_uri": "https://localhost:8080/",
     "height": 350
    },
    "executionInfo": {
     "elapsed": 1148,
     "status": "ok",
     "timestamp": 1631538347399,
     "user": {
      "displayName": "Rooba Dharshini",
      "photoUrl": "https://lh3.googleusercontent.com/a-/AOh14GgFMTz2I-kQBRnzggoR7sNyqkk8l6OvkfZ1oqO9RA=s64",
      "userId": "15190253811630465496"
     },
     "user_tz": -330
    },
    "id": "QTLtMHsiQAn1",
    "outputId": "5dde103e-a1fc-4554-8d3d-7411f18fc041"
   },
   "outputs": [
    {
     "data": {
      "text/plain": [
       "<AxesSubplot:xlabel='temp', ylabel='Density'>"
      ]
     },
     "execution_count": 10,
     "metadata": {},
     "output_type": "execute_result"
    },
    {
     "data": {
      "image/png": "[encoded data removed]",
      "text/plain": [
       "<Figure size 432x288 with 1 Axes>"
      ]
     },
     "metadata": {
      "needs_background": "light"
     },
     "output_type": "display_data"
    }
   ],
   "source": [
    "sns.distplot(forest_fire['temp'])"
   ]
  },
  {
   "cell_type": "code",
   "execution_count": 11,
   "id": "9e14595c",
   "metadata": {
    "ExecuteTime": {
     "end_time": "2021-12-15T16:30:32.703642Z",
     "start_time": "2021-12-15T16:30:32.515545Z"
    },
    "colab": {
     "base_uri": "https://localhost:8080/",
     "height": 350
    },
    "executionInfo": {
     "elapsed": 1369,
     "status": "ok",
     "timestamp": 1631538375535,
     "user": {
      "displayName": "Rooba Dharshini",
      "photoUrl": "https://lh3.googleusercontent.com/a-/AOh14GgFMTz2I-kQBRnzggoR7sNyqkk8l6OvkfZ1oqO9RA=s64",
      "userId": "15190253811630465496"
     },
     "user_tz": -330
    },
    "id": "twjpf0-GQAVu",
    "outputId": "d8055a30-740b-4434-ebbc-7790f94482b5"
   },
   "outputs": [
    {
     "data": {
      "text/plain": [
       "<AxesSubplot:xlabel='wind', ylabel='Density'>"
      ]
     },
     "execution_count": 11,
     "metadata": {},
     "output_type": "execute_result"
    },
    {
     "data": {
      "image/png": "[encoded data removed]",
      "text/plain": [
       "<Figure size 432x288 with 1 Axes>"
      ]
     },
     "metadata": {
      "needs_background": "light"
     },
     "output_type": "display_data"
    }
   ],
   "source": [
    "sns.distplot(forest_fire['wind'])"
   ]
  },
  {
   "cell_type": "code",
   "execution_count": 12,
   "id": "fba05424",
   "metadata": {
    "ExecuteTime": {
     "end_time": "2021-12-15T16:30:33.097239Z",
     "start_time": "2021-12-15T16:30:32.898981Z"
    },
    "colab": {
     "base_uri": "https://localhost:8080/",
     "height": 350
    },
    "executionInfo": {
     "elapsed": 436,
     "status": "ok",
     "timestamp": 1631538420666,
     "user": {
      "displayName": "Rooba Dharshini",
      "photoUrl": "https://lh3.googleusercontent.com/a-/AOh14GgFMTz2I-kQBRnzggoR7sNyqkk8l6OvkfZ1oqO9RA=s64",
      "userId": "15190253811630465496"
     },
     "user_tz": -330
    },
    "id": "u2rV-oIbRAN4",
    "outputId": "3bc126a6-5813-4cd0-efde-1923806f71a1"
   },
   "outputs": [
    {
     "data": {
      "text/plain": [
       "<AxesSubplot:xlabel='rain', ylabel='Density'>"
      ]
     },
     "execution_count": 12,
     "metadata": {},
     "output_type": "execute_result"
    },
    {
     "data": {
      "image/png": "[encoded data removed]",
      "text/plain": [
       "<Figure size 432x288 with 1 Axes>"
      ]
     },
     "metadata": {
      "needs_background": "light"
     },
     "output_type": "display_data"
    }
   ],
   "source": [
    "sns.distplot(forest_fire['rain'])"
   ]
  },
  {
   "cell_type": "code",
   "execution_count": 13,
   "id": "c6a9c09c",
   "metadata": {
    "ExecuteTime": {
     "end_time": "2021-12-15T16:30:33.647008Z",
     "start_time": "2021-12-15T16:30:33.390269Z"
    },
    "colab": {
     "base_uri": "https://localhost:8080/",
     "height": 350
    },
    "executionInfo": {
     "elapsed": 472,
     "status": "ok",
     "timestamp": 1631538433965,
     "user": {
      "displayName": "Rooba Dharshini",
      "photoUrl": "https://lh3.googleusercontent.com/a-/AOh14GgFMTz2I-kQBRnzggoR7sNyqkk8l6OvkfZ1oqO9RA=s64",
      "userId": "15190253811630465496"
     },
     "user_tz": -330
    },
    "id": "zI78lBz1RAB0",
    "outputId": "de2139ae-4cbd-48d1-ab33-16c131d8c178"
   },
   "outputs": [
    {
     "data": {
      "text/plain": [
       "<AxesSubplot:xlabel='area', ylabel='Density'>"
      ]
     },
     "execution_count": 13,
     "metadata": {},
     "output_type": "execute_result"
    },
    {
     "data": {
      "image/png": "[encoded data removed]",
      "text/plain": [
       "<Figure size 432x288 with 1 Axes>"
      ]
     },
     "metadata": {
      "needs_background": "light"
     },
     "output_type": "display_data"
    }
   ],
   "source": [
    "sns.distplot(forest_fire['area'])"
   ]
  },
  {
   "cell_type": "code",
   "execution_count": 14,
   "id": "59671132",
   "metadata": {
    "ExecuteTime": {
     "end_time": "2021-12-15T16:30:33.991160Z",
     "start_time": "2021-12-15T16:30:33.794562Z"
    },
    "colab": {
     "base_uri": "https://localhost:8080/",
     "height": 350
    },
    "executionInfo": {
     "elapsed": 1704,
     "status": "ok",
     "timestamp": 1631538482793,
     "user": {
      "displayName": "Rooba Dharshini",
      "photoUrl": "https://lh3.googleusercontent.com/a-/AOh14GgFMTz2I-kQBRnzggoR7sNyqkk8l6OvkfZ1oqO9RA=s64",
      "userId": "15190253811630465496"
     },
     "user_tz": -330
    },
    "id": "tHEr1fsSQ_nz",
    "outputId": "aba1480b-6c14-4337-c3c0-59b66326726e"
   },
   "outputs": [
    {
     "data": {
      "text/plain": [
       "<AxesSubplot:xlabel='RH', ylabel='Density'>"
      ]
     },
     "execution_count": 14,
     "metadata": {},
     "output_type": "execute_result"
    },
    {
     "data": {
      "image/png": "[encoded data removed]",
      "text/plain": [
       "<Figure size 432x288 with 1 Axes>"
      ]
     },
     "metadata": {
      "needs_background": "light"
     },
     "output_type": "display_data"
    }
   ],
   "source": [
    "sns.distplot(forest_fire['RH'])"
   ]
  },
  {
   "cell_type": "markdown",
   "id": "08e2bf35",
   "metadata": {
    "id": "4gI_kBj77QO1"
   },
   "source": [
    "## Data preprocessing"
   ]
  },
  {
   "cell_type": "code",
   "execution_count": 15,
   "id": "d90b9821",
   "metadata": {
    "ExecuteTime": {
     "end_time": "2021-12-15T16:30:56.938577Z",
     "start_time": "2021-12-15T16:30:56.919571Z"
    },
    "executionInfo": {
     "elapsed": 457,
     "status": "ok",
     "timestamp": 1631532712132,
     "user": {
      "displayName": "Rooba Dharshini",
      "photoUrl": "https://lh3.googleusercontent.com/a-/AOh14GgFMTz2I-kQBRnzggoR7sNyqkk8l6OvkfZ1oqO9RA=s64",
      "userId": "15190253811630465496"
     },
     "user_tz": -330
    },
    "id": "J4e8MZ0U7Q7n"
   },
   "outputs": [],
   "source": [
    "forest_fire.drop(columns='month',axis=1,inplace=True)\n",
    "forest_fire.drop(columns='day',axis=1,inplace=True)"
   ]
  },
  {
   "cell_type": "code",
   "execution_count": 16,
   "id": "fdd44753",
   "metadata": {
    "ExecuteTime": {
     "end_time": "2021-12-15T16:30:57.505266Z",
     "start_time": "2021-12-15T16:30:57.494910Z"
    },
    "executionInfo": {
     "elapsed": 425,
     "status": "ok",
     "timestamp": 1631532720470,
     "user": {
      "displayName": "Rooba Dharshini",
      "photoUrl": "https://lh3.googleusercontent.com/a-/AOh14GgFMTz2I-kQBRnzggoR7sNyqkk8l6OvkfZ1oqO9RA=s64",
      "userId": "15190253811630465496"
     },
     "user_tz": -330
    },
    "id": "y9-OOMmE7Xui"
   },
   "outputs": [],
   "source": [
    "x=forest_fire.iloc[:,:-1]\n",
    "y=forest_fire['size_category']"
   ]
  },
  {
   "cell_type": "code",
   "execution_count": 17,
   "id": "473b5871",
   "metadata": {
    "ExecuteTime": {
     "end_time": "2021-12-15T16:30:57.961252Z",
     "start_time": "2021-12-15T16:30:57.829868Z"
    },
    "executionInfo": {
     "elapsed": 1209,
     "status": "ok",
     "timestamp": 1631532729464,
     "user": {
      "displayName": "Rooba Dharshini",
      "photoUrl": "https://lh3.googleusercontent.com/a-/AOh14GgFMTz2I-kQBRnzggoR7sNyqkk8l6OvkfZ1oqO9RA=s64",
      "userId": "15190253811630465496"
     },
     "user_tz": -330
    },
    "id": "n2uADX4b7Z0v"
   },
   "outputs": [],
   "source": [
    "from sklearn.preprocessing import StandardScaler\n",
    "std_model=StandardScaler()"
   ]
  },
  {
   "cell_type": "code",
   "execution_count": 18,
   "id": "d8091783",
   "metadata": {
    "ExecuteTime": {
     "end_time": "2021-12-15T16:30:58.182400Z",
     "start_time": "2021-12-15T16:30:58.168344Z"
    },
    "colab": {
     "base_uri": "https://localhost:8080/"
    },
    "executionInfo": {
     "elapsed": 6,
     "status": "ok",
     "timestamp": 1631532736520,
     "user": {
      "displayName": "Rooba Dharshini",
      "photoUrl": "https://lh3.googleusercontent.com/a-/AOh14GgFMTz2I-kQBRnzggoR7sNyqkk8l6OvkfZ1oqO9RA=s64",
      "userId": "15190253811630465496"
     },
     "user_tz": -330
    },
    "id": "H2nz3DuX7brw",
    "outputId": "884884d0-530d-4023-8407-b1931d70932a"
   },
   "outputs": [
    {
     "data": {
      "text/plain": [
       "array([[-8.05959472e-01, -1.32332557e+00, -1.83047676e+00, ...,\n",
       "        -4.40225453e-02, -1.72859706e-01, -7.06081245e-01],\n",
       "       [-8.10203395e-03, -1.17954077e+00,  4.88890915e-01, ...,\n",
       "        -4.40225453e-02,  5.78503817e+00, -7.06081245e-01],\n",
       "       [-8.10203395e-03, -1.04982188e+00,  5.60715454e-01, ...,\n",
       "        -4.40225453e-02,  5.78503817e+00, -7.06081245e-01],\n",
       "       ...,\n",
       "       [-1.64008316e+00, -8.46647711e-01,  4.74768113e-01, ...,\n",
       "        -4.40225453e-02, -1.72859706e-01, -7.06081245e-01],\n",
       "       [ 6.80956663e-01,  5.49002541e-01,  2.69382214e-01, ...,\n",
       "        -4.40225453e-02, -1.72859706e-01, -7.06081245e-01],\n",
       "       [-2.02087875e+00, -1.68591332e+00, -1.78044169e+00, ...,\n",
       "         2.27156334e+01, -1.72859706e-01, -7.06081245e-01]])"
      ]
     },
     "execution_count": 18,
     "metadata": {},
     "output_type": "execute_result"
    }
   ],
   "source": [
    "x_transform=std_model.fit_transform(x)\n",
    "x_transform"
   ]
  },
  {
   "cell_type": "code",
   "execution_count": 19,
   "id": "8b55b7ca",
   "metadata": {
    "ExecuteTime": {
     "end_time": "2021-12-15T16:30:58.540471Z",
     "start_time": "2021-12-15T16:30:58.534088Z"
    },
    "executionInfo": {
     "elapsed": 485,
     "status": "ok",
     "timestamp": 1631532745276,
     "user": {
      "displayName": "Rooba Dharshini",
      "photoUrl": "https://lh3.googleusercontent.com/a-/AOh14GgFMTz2I-kQBRnzggoR7sNyqkk8l6OvkfZ1oqO9RA=s64",
      "userId": "15190253811630465496"
     },
     "user_tz": -330
    },
    "id": "iaZk7Dk07d0i"
   },
   "outputs": [],
   "source": [
    "from sklearn.preprocessing import LabelEncoder\n",
    "le=LabelEncoder()"
   ]
  },
  {
   "cell_type": "code",
   "execution_count": 20,
   "id": "018c8d60",
   "metadata": {
    "ExecuteTime": {
     "end_time": "2021-12-15T16:30:59.150027Z",
     "start_time": "2021-12-15T16:30:59.144025Z"
    },
    "colab": {
     "base_uri": "https://localhost:8080/"
    },
    "executionInfo": {
     "elapsed": 582,
     "status": "ok",
     "timestamp": 1631532754876,
     "user": {
      "displayName": "Rooba Dharshini",
      "photoUrl": "https://lh3.googleusercontent.com/a-/AOh14GgFMTz2I-kQBRnzggoR7sNyqkk8l6OvkfZ1oqO9RA=s64",
      "userId": "15190253811630465496"
     },
     "user_tz": -330
    },
    "id": "1bL_q91h7f1-",
    "outputId": "637c9911-d13c-48b7-f1fe-c6b9c71515e7"
   },
   "outputs": [
    {
     "data": {
      "text/plain": [
       "array([1, 1, 1, 1, 1, 1, 1, 1, 1, 1, 1, 1, 1, 1, 1, 1, 1, 1, 1, 1, 1, 1,\n",
       "       1, 1, 1, 1, 1, 1, 1, 1, 1, 1, 1, 1, 1, 1, 1, 1, 1, 1, 1, 1, 1, 1,\n",
       "       1, 1, 1, 1, 1, 1, 1, 1, 1, 1, 1, 1, 1, 1, 1, 1, 1, 1, 1, 1, 1, 1,\n",
       "       1, 1, 1, 1, 1, 1, 1, 1, 1, 1, 1, 1, 1, 1, 1, 1, 1, 1, 1, 1, 1, 1,\n",
       "       1, 1, 1, 1, 1, 1, 1, 1, 1, 1, 1, 1, 1, 1, 1, 1, 1, 1, 1, 1, 1, 1,\n",
       "       1, 1, 1, 1, 1, 1, 1, 1, 1, 1, 1, 1, 1, 1, 1, 1, 1, 1, 1, 1, 1, 1,\n",
       "       1, 1, 1, 1, 1, 1, 1, 1, 1, 1, 1, 1, 1, 1, 1, 1, 1, 1, 1, 1, 1, 1,\n",
       "       1, 1, 1, 1, 1, 1, 1, 1, 1, 1, 1, 1, 1, 1, 1, 1, 1, 1, 1, 1, 1, 1,\n",
       "       1, 1, 1, 1, 1, 1, 0, 0, 0, 0, 0, 0, 0, 0, 0, 0, 0, 0, 0, 0, 0, 0,\n",
       "       0, 0, 0, 0, 0, 0, 0, 0, 0, 0, 0, 0, 0, 0, 0, 0, 0, 0, 0, 0, 0, 0,\n",
       "       0, 0, 0, 0, 0, 0, 0, 0, 0, 0, 0, 0, 0, 0, 0, 0, 0, 0, 0, 1, 1, 1,\n",
       "       0, 1, 1, 1, 1, 1, 1, 1, 1, 1, 1, 1, 0, 1, 0, 1, 1, 1, 0, 1, 1, 1,\n",
       "       0, 1, 1, 1, 1, 1, 1, 0, 1, 0, 0, 1, 0, 0, 0, 0, 0, 0, 1, 1, 0, 1,\n",
       "       1, 1, 1, 1, 1, 0, 1, 0, 0, 1, 1, 1, 1, 1, 1, 1, 1, 1, 1, 1, 1, 1,\n",
       "       1, 1, 1, 0, 1, 1, 1, 1, 1, 1, 1, 1, 0, 0, 1, 1, 1, 1, 1, 1, 1, 1,\n",
       "       0, 0, 0, 1, 1, 1, 1, 0, 0, 1, 1, 1, 1, 1, 0, 1, 0, 1, 1, 1, 1, 0,\n",
       "       1, 1, 1, 0, 1, 1, 1, 0, 1, 1, 1, 1, 1, 0, 1, 1, 0, 1, 0, 1, 1, 1,\n",
       "       0, 0, 1, 0, 1, 1, 0, 0, 1, 0, 0, 0, 0, 1, 0, 1, 0, 0, 0, 1, 1, 0,\n",
       "       1, 1, 1, 1, 0, 1, 1, 1, 0, 1, 1, 1, 0, 1, 1, 1, 1, 1, 1, 0, 0, 1,\n",
       "       1, 1, 0, 1, 0, 1, 1, 1, 1, 1, 1, 1, 1, 0, 1, 0, 1, 1, 1, 1, 0, 1,\n",
       "       1, 1, 1, 1, 0, 1, 1, 1, 1, 1, 0, 0, 1, 1, 1, 1, 1, 0, 1, 1, 1, 1,\n",
       "       1, 1, 1, 0, 1, 1, 0, 0, 1, 0, 1, 0, 0, 1, 1, 0, 1, 0, 1, 1, 1, 1,\n",
       "       0, 1, 1, 0, 0, 1, 1, 1, 1, 0, 0, 1, 1, 0, 0, 0, 1, 1, 1, 1, 0, 1,\n",
       "       1, 1, 1, 1, 1, 1, 0, 0, 0, 1, 1])"
      ]
     },
     "execution_count": 20,
     "metadata": {},
     "output_type": "execute_result"
    }
   ],
   "source": [
    "y_transform=le.fit_transform(y)\n",
    "y_transform"
   ]
  },
  {
   "cell_type": "markdown",
   "id": "67325027",
   "metadata": {
    "id": "lFmvlE747lGG"
   },
   "source": [
    "## Model building"
   ]
  },
  {
   "cell_type": "code",
   "execution_count": 22,
   "id": "eeaf9729",
   "metadata": {
    "ExecuteTime": {
     "end_time": "2021-12-15T16:31:43.315867Z",
     "start_time": "2021-12-15T16:31:43.252806Z"
    },
    "executionInfo": {
     "elapsed": 647,
     "status": "ok",
     "timestamp": 1631532807361,
     "user": {
      "displayName": "Rooba Dharshini",
      "photoUrl": "https://lh3.googleusercontent.com/a-/AOh14GgFMTz2I-kQBRnzggoR7sNyqkk8l6OvkfZ1oqO9RA=s64",
      "userId": "15190253811630465496"
     },
     "user_tz": -330
    },
    "id": "eXLMDqUP7l6v"
   },
   "outputs": [],
   "source": [
    "from sklearn.model_selection import train_test_split\n",
    "x_train,x_test,y_train,y_test=train_test_split(x_transform,y_transform,test_size=0.2)"
   ]
  },
  {
   "cell_type": "code",
   "execution_count": 23,
   "id": "248f468b",
   "metadata": {
    "ExecuteTime": {
     "end_time": "2021-12-15T16:31:43.506170Z",
     "start_time": "2021-12-15T16:31:43.499158Z"
    },
    "colab": {
     "base_uri": "https://localhost:8080/"
    },
    "executionInfo": {
     "elapsed": 567,
     "status": "ok",
     "timestamp": 1631532815029,
     "user": {
      "displayName": "Rooba Dharshini",
      "photoUrl": "https://lh3.googleusercontent.com/a-/AOh14GgFMTz2I-kQBRnzggoR7sNyqkk8l6OvkfZ1oqO9RA=s64",
      "userId": "15190253811630465496"
     },
     "user_tz": -330
    },
    "id": "S15oq9-C7u9t",
    "outputId": "dcc75a83-0067-49ff-dd26-1e2e370b163e"
   },
   "outputs": [
    {
     "data": {
      "text/plain": [
       "((413, 28), (413,), (104, 28), (104,))"
      ]
     },
     "execution_count": 23,
     "metadata": {},
     "output_type": "execute_result"
    }
   ],
   "source": [
    "x_train.shape,y_train.shape,x_test.shape,y_test.shape"
   ]
  },
  {
   "cell_type": "code",
   "execution_count": 24,
   "id": "6ec752c7",
   "metadata": {
    "ExecuteTime": {
     "end_time": "2021-12-15T16:31:43.724109Z",
     "start_time": "2021-12-15T16:31:43.707070Z"
    },
    "colab": {
     "base_uri": "https://localhost:8080/"
    },
    "executionInfo": {
     "elapsed": 645,
     "status": "ok",
     "timestamp": 1631533405741,
     "user": {
      "displayName": "Rooba Dharshini",
      "photoUrl": "https://lh3.googleusercontent.com/a-/AOh14GgFMTz2I-kQBRnzggoR7sNyqkk8l6OvkfZ1oqO9RA=s64",
      "userId": "15190253811630465496"
     },
     "user_tz": -330
    },
    "id": "9unL6eCt9-5i",
    "outputId": "4a0ef83e-46e9-44c2-8e18-2431f608e9cb"
   },
   "outputs": [
    {
     "data": {
      "text/plain": [
       "array([[ 0.1732292 ,  1.10069855,  0.26252257, ..., -0.04402255,\n",
       "        -0.17285971, -0.70608125],\n",
       "       [ 0.13696295,  0.49273893,  0.21571556, ..., -0.04402255,\n",
       "        -0.17285971, -0.70608125],\n",
       "       [ 0.75348916,  1.8149339 ,  0.64061017, ..., -0.04402255,\n",
       "        -0.17285971, -0.70608125],\n",
       "       ...,\n",
       "       [ 0.08256358,  0.33488823,  1.06590827, ..., -0.04402255,\n",
       "        -0.17285971,  1.41626761],\n",
       "       [ 0.98921976,  1.0975728 ,  0.4973646 , ..., -0.04402255,\n",
       "        -0.17285971, -0.70608125],\n",
       "       [ 0.40895981,  0.4083435 ,  0.63939964, ..., -0.04402255,\n",
       "        -0.17285971,  1.41626761]])"
      ]
     },
     "execution_count": 24,
     "metadata": {},
     "output_type": "execute_result"
    }
   ],
   "source": [
    "x_train"
   ]
  },
  {
   "cell_type": "code",
   "execution_count": 49,
   "id": "d0480fbd",
   "metadata": {
    "ExecuteTime": {
     "end_time": "2021-12-15T16:37:27.256514Z",
     "start_time": "2021-12-15T16:37:27.243472Z"
    },
    "colab": {
     "base_uri": "https://localhost:8080/"
    },
    "executionInfo": {
     "elapsed": 512,
     "status": "ok",
     "timestamp": 1631536952914,
     "user": {
      "displayName": "Rooba Dharshini",
      "photoUrl": "https://lh3.googleusercontent.com/a-/AOh14GgFMTz2I-kQBRnzggoR7sNyqkk8l6OvkfZ1oqO9RA=s64",
      "userId": "15190253811630465496"
     },
     "user_tz": -330
    },
    "id": "-_X1GVC8-CWT",
    "outputId": "0274bbb4-4c05-4bef-8bc1-f4cba61304cb"
   },
   "outputs": [
    {
     "data": {
      "text/plain": [
       "array([1, 1, 0, 1, 0, 1, 1, 1, 1, 1, 1, 0, 1, 1, 0, 1, 1, 0, 1, 1, 0, 1,\n",
       "       1, 1, 1, 1, 1, 0, 0, 1, 1, 0, 1, 1, 1, 1, 1, 1, 1, 1, 0, 1, 1, 0,\n",
       "       1, 1, 0, 1, 1, 0, 0, 0, 1, 1, 1, 1, 1, 1, 1, 0, 0, 1, 1, 1, 0, 1,\n",
       "       0, 1, 1, 1, 1, 1, 1, 0, 1, 1, 1, 1, 0, 0, 0, 1, 1, 1, 1, 1, 0, 1,\n",
       "       1, 1, 0, 1, 0, 1, 1, 0, 1, 1, 1, 0, 1, 1, 1, 1])"
      ]
     },
     "execution_count": 49,
     "metadata": {},
     "output_type": "execute_result"
    }
   ],
   "source": [
    "y_test"
   ]
  },
  {
   "cell_type": "markdown",
   "id": "15be0b3e",
   "metadata": {
    "id": "swnhhDTF715H"
   },
   "source": [
    "## Model training"
   ]
  },
  {
   "cell_type": "code",
   "execution_count": 27,
   "id": "89ded8c8",
   "metadata": {
    "ExecuteTime": {
     "end_time": "2021-12-15T16:32:15.331611Z",
     "start_time": "2021-12-15T16:32:13.953590Z"
    },
    "executionInfo": {
     "elapsed": 10,
     "status": "ok",
     "timestamp": 1631537730844,
     "user": {
      "displayName": "Rooba Dharshini",
      "photoUrl": "https://lh3.googleusercontent.com/a-/AOh14GgFMTz2I-kQBRnzggoR7sNyqkk8l6OvkfZ1oqO9RA=s64",
      "userId": "15190253811630465496"
     },
     "user_tz": -330
    },
    "id": "W4fdr8rQ73yi"
   },
   "outputs": [],
   "source": [
    "model = tf.keras.models.Sequential([tf.keras.layers.Flatten(input_dim = 28), #I/player\n",
    "                                    tf.keras.layers.Dense(25,activation = 'relu'), #Hidden layer 1\n",
    "                                    tf.keras.layers.Dense(1,activation = 'sigmoid')]) #O/p layer"
   ]
  },
  {
   "cell_type": "code",
   "execution_count": 28,
   "id": "b00adc9d",
   "metadata": {
    "ExecuteTime": {
     "end_time": "2021-12-15T16:32:15.393959Z",
     "start_time": "2021-12-15T16:32:15.379944Z"
    },
    "colab": {
     "base_uri": "https://localhost:8080/"
    },
    "executionInfo": {
     "elapsed": 391,
     "status": "ok",
     "timestamp": 1631537044706,
     "user": {
      "displayName": "Rooba Dharshini",
      "photoUrl": "https://lh3.googleusercontent.com/a-/AOh14GgFMTz2I-kQBRnzggoR7sNyqkk8l6OvkfZ1oqO9RA=s64",
      "userId": "15190253811630465496"
     },
     "user_tz": -330
    },
    "id": "J_L7Ua3F8U3m",
    "outputId": "97414fcd-8383-4944-882b-63b1e609ea65"
   },
   "outputs": [
    {
     "name": "stdout",
     "output_type": "stream",
     "text": [
      "Model: \"sequential\"\n",
      "_________________________________________________________________\n",
      " Layer (type)                Output Shape              Param #   \n",
      "=================================================================\n",
      " flatten (Flatten)           (None, 28)                0         \n",
      "                                                                 \n",
      " dense (Dense)               (None, 25)                725       \n",
      "                                                                 \n",
      " dense_1 (Dense)             (None, 1)                 26        \n",
      "                                                                 \n",
      "=================================================================\n",
      "Total params: 751\n",
      "Trainable params: 751\n",
      "Non-trainable params: 0\n",
      "_________________________________________________________________\n"
     ]
    }
   ],
   "source": [
    "model.summary()"
   ]
  },
  {
   "cell_type": "code",
   "execution_count": 29,
   "id": "b11d4777",
   "metadata": {
    "ExecuteTime": {
     "end_time": "2021-12-15T16:32:16.407603Z",
     "start_time": "2021-12-15T16:32:16.385583Z"
    },
    "executionInfo": {
     "elapsed": 863,
     "status": "ok",
     "timestamp": 1631537737030,
     "user": {
      "displayName": "Rooba Dharshini",
      "photoUrl": "https://lh3.googleusercontent.com/a-/AOh14GgFMTz2I-kQBRnzggoR7sNyqkk8l6OvkfZ1oqO9RA=s64",
      "userId": "15190253811630465496"
     },
     "user_tz": -330
    },
    "id": "Kc--wN6F8dK_"
   },
   "outputs": [],
   "source": [
    "model.compile(optimizer ='RMSprop',loss= 'binary_crossentropy',metrics =['accuracy'])"
   ]
  },
  {
   "cell_type": "code",
   "execution_count": 30,
   "id": "b2122c49",
   "metadata": {
    "ExecuteTime": {
     "end_time": "2021-12-15T16:32:18.119018Z",
     "start_time": "2021-12-15T16:32:16.917631Z"
    },
    "colab": {
     "base_uri": "https://localhost:8080/"
    },
    "executionInfo": {
     "elapsed": 1632,
     "status": "ok",
     "timestamp": 1631537740081,
     "user": {
      "displayName": "Rooba Dharshini",
      "photoUrl": "https://lh3.googleusercontent.com/a-/AOh14GgFMTz2I-kQBRnzggoR7sNyqkk8l6OvkfZ1oqO9RA=s64",
      "userId": "15190253811630465496"
     },
     "user_tz": -330
    },
    "id": "qlrC0NS28rAB",
    "outputId": "a0b1e379-10b7-44d8-e5d9-de76cf35f225"
   },
   "outputs": [
    {
     "name": "stdout",
     "output_type": "stream",
     "text": [
      "Epoch 1/10\n",
      "13/13 [==============================] - 1s 1ms/step - loss: 0.7638 - accuracy: 0.5085\n",
      "Epoch 2/10\n",
      "13/13 [==============================] - 0s 1ms/step - loss: 0.6946 - accuracy: 0.5763\n",
      "Epoch 3/10\n",
      "13/13 [==============================] - 0s 1ms/step - loss: 0.6516 - accuracy: 0.6223\n",
      "Epoch 4/10\n",
      "13/13 [==============================] - 0s 2ms/step - loss: 0.6201 - accuracy: 0.6852\n",
      "Epoch 5/10\n",
      "13/13 [==============================] - 0s 1ms/step - loss: 0.5959 - accuracy: 0.7094\n",
      "Epoch 6/10\n",
      "13/13 [==============================] - 0s 1ms/step - loss: 0.5763 - accuracy: 0.7482\n",
      "Epoch 7/10\n",
      "13/13 [==============================] - 0s 1ms/step - loss: 0.5608 - accuracy: 0.7627\n",
      "Epoch 8/10\n",
      "13/13 [==============================] - 0s 1ms/step - loss: 0.5488 - accuracy: 0.7724\n",
      "Epoch 9/10\n",
      "13/13 [==============================] - 0s 1ms/step - loss: 0.5368 - accuracy: 0.7724\n",
      "Epoch 10/10\n",
      "13/13 [==============================] - 0s 917us/step - loss: 0.5270 - accuracy: 0.7748\n"
     ]
    },
    {
     "data": {
      "text/plain": [
       "<keras.callbacks.History at 0x184aac5f5e0>"
      ]
     },
     "execution_count": 30,
     "metadata": {},
     "output_type": "execute_result"
    }
   ],
   "source": [
    "model.fit(x_train,y_train,epochs=10)"
   ]
  },
  {
   "cell_type": "code",
   "execution_count": 31,
   "id": "1f31c797",
   "metadata": {
    "ExecuteTime": {
     "end_time": "2021-12-15T16:32:18.953303Z",
     "start_time": "2021-12-15T16:32:18.765550Z"
    },
    "colab": {
     "base_uri": "https://localhost:8080/"
    },
    "executionInfo": {
     "elapsed": 574,
     "status": "ok",
     "timestamp": 1631533729183,
     "user": {
      "displayName": "Rooba Dharshini",
      "photoUrl": "https://lh3.googleusercontent.com/a-/AOh14GgFMTz2I-kQBRnzggoR7sNyqkk8l6OvkfZ1oqO9RA=s64",
      "userId": "15190253811630465496"
     },
     "user_tz": -330
    },
    "id": "hM7GLUHR89Pk",
    "outputId": "04c2188a-dd18-49f9-f044-77b807a0d613"
   },
   "outputs": [
    {
     "name": "stdout",
     "output_type": "stream",
     "text": [
      "4/4 [==============================] - 0s 2ms/step - loss: 0.5459 - accuracy: 0.7500\n"
     ]
    },
    {
     "data": {
      "text/plain": [
       "[0.5458664894104004, 0.75]"
      ]
     },
     "execution_count": 31,
     "metadata": {},
     "output_type": "execute_result"
    }
   ],
   "source": [
    "model.evaluate(x_test,y_test)"
   ]
  },
  {
   "cell_type": "markdown",
   "id": "2cd13af5",
   "metadata": {},
   "source": [
    "## Model testing"
   ]
  },
  {
   "cell_type": "code",
   "execution_count": 32,
   "id": "4b6fe44f",
   "metadata": {
    "ExecuteTime": {
     "end_time": "2021-12-15T16:32:23.189987Z",
     "start_time": "2021-12-15T16:32:23.078553Z"
    },
    "colab": {
     "base_uri": "https://localhost:8080/"
    },
    "executionInfo": {
     "elapsed": 403,
     "status": "ok",
     "timestamp": 1631537745131,
     "user": {
      "displayName": "Rooba Dharshini",
      "photoUrl": "https://lh3.googleusercontent.com/a-/AOh14GgFMTz2I-kQBRnzggoR7sNyqkk8l6OvkfZ1oqO9RA=s64",
      "userId": "15190253811630465496"
     },
     "user_tz": -330
    },
    "id": "LCCmiqk__Mga",
    "outputId": "a9ff443f-e943-4719-9920-8727696facfd",
    "scrolled": true
   },
   "outputs": [
    {
     "data": {
      "text/plain": [
       "array([[0.5767344 ],\n",
       "       [0.6768606 ],\n",
       "       [0.5317    ],\n",
       "       [0.79545844],\n",
       "       [0.7462788 ],\n",
       "       [0.73253906],\n",
       "       [0.84371907],\n",
       "       [0.7381943 ],\n",
       "       [0.7835609 ],\n",
       "       [0.7238369 ],\n",
       "       [0.7626014 ],\n",
       "       [0.64722335],\n",
       "       [0.72730887],\n",
       "       [0.8349921 ],\n",
       "       [0.43016517],\n",
       "       [0.6084816 ],\n",
       "       [0.7167306 ],\n",
       "       [0.59219444],\n",
       "       [0.83937347],\n",
       "       [0.7195434 ],\n",
       "       [0.12971953],\n",
       "       [0.6686381 ],\n",
       "       [0.8014351 ],\n",
       "       [0.7372189 ],\n",
       "       [0.7161714 ],\n",
       "       [0.61424226],\n",
       "       [0.6724743 ],\n",
       "       [0.7286715 ],\n",
       "       [0.7712529 ],\n",
       "       [0.5285559 ],\n",
       "       [0.7332062 ],\n",
       "       [0.66517806],\n",
       "       [0.74418783],\n",
       "       [0.74245226],\n",
       "       [0.8341886 ],\n",
       "       [0.78248954],\n",
       "       [0.7817707 ],\n",
       "       [0.694981  ],\n",
       "       [0.6751758 ],\n",
       "       [0.62935   ],\n",
       "       [0.7778504 ],\n",
       "       [0.64894414],\n",
       "       [0.67683804],\n",
       "       [0.6635469 ],\n",
       "       [0.74144346],\n",
       "       [0.7492406 ],\n",
       "       [0.80652416],\n",
       "       [0.54721564],\n",
       "       [0.75857496],\n",
       "       [0.75261796],\n",
       "       [0.66514355],\n",
       "       [0.6090333 ],\n",
       "       [0.85232973],\n",
       "       [0.73242193],\n",
       "       [0.74149394],\n",
       "       [0.7529864 ],\n",
       "       [0.5442653 ],\n",
       "       [0.54749566],\n",
       "       [0.7889747 ],\n",
       "       [0.80607116],\n",
       "       [0.66363037],\n",
       "       [0.6479825 ],\n",
       "       [0.74740773],\n",
       "       [0.7304027 ],\n",
       "       [0.7678636 ],\n",
       "       [0.7599126 ],\n",
       "       [0.6597539 ],\n",
       "       [0.7098797 ],\n",
       "       [0.75672024],\n",
       "       [0.42122278],\n",
       "       [0.73846364],\n",
       "       [0.7467584 ],\n",
       "       [0.82318056],\n",
       "       [0.7819171 ],\n",
       "       [0.6787281 ],\n",
       "       [0.6866851 ],\n",
       "       [0.6936004 ],\n",
       "       [0.77106357],\n",
       "       [0.6622934 ],\n",
       "       [0.5356015 ],\n",
       "       [0.72936416],\n",
       "       [0.5854325 ],\n",
       "       [0.70042866],\n",
       "       [0.8645631 ],\n",
       "       [0.8098123 ],\n",
       "       [0.67390645],\n",
       "       [0.69927555],\n",
       "       [0.6057204 ],\n",
       "       [0.81514144],\n",
       "       [0.76446164],\n",
       "       [0.7486209 ],\n",
       "       [0.6582664 ],\n",
       "       [0.6710249 ],\n",
       "       [0.5896659 ],\n",
       "       [0.5820547 ],\n",
       "       [0.55178   ],\n",
       "       [0.81804174],\n",
       "       [0.8813982 ],\n",
       "       [0.63524276],\n",
       "       [0.14908835],\n",
       "       [0.74607015],\n",
       "       [0.7643988 ],\n",
       "       [0.8382005 ],\n",
       "       [0.77757335]], dtype=float32)"
      ]
     },
     "execution_count": 32,
     "metadata": {},
     "output_type": "execute_result"
    }
   ],
   "source": [
    "y_pred = model.predict(x_test)\n",
    "y_pred"
   ]
  },
  {
   "cell_type": "code",
   "execution_count": 54,
   "id": "7cbe2f52",
   "metadata": {
    "ExecuteTime": {
     "end_time": "2021-12-15T16:41:07.283471Z",
     "start_time": "2021-12-15T16:41:07.271458Z"
    }
   },
   "outputs": [],
   "source": [
    "pred=[]\n",
    "for i in range(0,len(y_pred)):\n",
    "    if y_pred[i]<0.5:\n",
    "        y_pr=0\n",
    "    else:\n",
    "        y_pr=1\n",
    "    pred.append(y_pr)"
   ]
  },
  {
   "cell_type": "code",
   "execution_count": 55,
   "id": "42b2e271",
   "metadata": {
    "ExecuteTime": {
     "end_time": "2021-12-15T16:41:07.612996Z",
     "start_time": "2021-12-15T16:41:07.595968Z"
    }
   },
   "outputs": [
    {
     "data": {
      "text/plain": [
       "104"
      ]
     },
     "execution_count": 55,
     "metadata": {},
     "output_type": "execute_result"
    }
   ],
   "source": [
    "len(pred)"
   ]
  },
  {
   "cell_type": "code",
   "execution_count": 56,
   "id": "e48c15c6",
   "metadata": {
    "ExecuteTime": {
     "end_time": "2021-12-15T16:41:08.078865Z",
     "start_time": "2021-12-15T16:41:08.060612Z"
    },
    "executionInfo": {
     "elapsed": 573,
     "status": "ok",
     "timestamp": 1631537815194,
     "user": {
      "displayName": "Rooba Dharshini",
      "photoUrl": "https://lh3.googleusercontent.com/a-/AOh14GgFMTz2I-kQBRnzggoR7sNyqkk8l6OvkfZ1oqO9RA=s64",
      "userId": "15190253811630465496"
     },
     "user_tz": -330
    },
    "id": "_iTttjvcMzQ9"
   },
   "outputs": [],
   "source": [
    "from sklearn.metrics import accuracy_score,confusion_matrix"
   ]
  },
  {
   "cell_type": "code",
   "execution_count": 57,
   "id": "dc953f3f",
   "metadata": {
    "ExecuteTime": {
     "end_time": "2021-12-15T16:41:08.576419Z",
     "start_time": "2021-12-15T16:41:08.567428Z"
    },
    "colab": {
     "base_uri": "https://localhost:8080/"
    },
    "executionInfo": {
     "elapsed": 9,
     "status": "ok",
     "timestamp": 1631537758119,
     "user": {
      "displayName": "Rooba Dharshini",
      "photoUrl": "https://lh3.googleusercontent.com/a-/AOh14GgFMTz2I-kQBRnzggoR7sNyqkk8l6OvkfZ1oqO9RA=s64",
      "userId": "15190253811630465496"
     },
     "user_tz": -330
    },
    "id": "wbhgZPuWOYHB",
    "outputId": "f2336ecb-bc7c-4558-b47e-1ca4a62d4389"
   },
   "outputs": [
    {
     "data": {
      "text/plain": [
       "0.75"
      ]
     },
     "execution_count": 57,
     "metadata": {},
     "output_type": "execute_result"
    }
   ],
   "source": [
    "accuracy_score(y_test,pred)"
   ]
  }
 ],
 "metadata": {
  "kernelspec": {
   "display_name": "Python 3",
   "language": "python",
   "name": "python3"
  },
  "language_info": {
   "codemirror_mode": {
    "name": "ipython",
    "version": 3
   },
   "file_extension": ".py",
   "mimetype": "text/x-python",
   "name": "python",
   "nbconvert_exporter": "python",
   "pygments_lexer": "ipython3",
   "version": "3.8.8"
  },
  "varInspector": {
   "cols": {
    "lenName": 16,
    "lenType": 16,
    "lenVar": 40
   },
   "kernels_config": {
    "python": {
     "delete_cmd_postfix": "",
     "delete_cmd_prefix": "del ",
     "library": "var_list.py",
     "varRefreshCmd": "print(var_dic_list())"
    },
    "r": {
     "delete_cmd_postfix": ") ",
     "delete_cmd_prefix": "rm(",
     "library": "var_list.r",
     "varRefreshCmd": "cat(var_dic_list()) "
    }
   },
   "types_to_exclude": [
    "module",
    "function",
    "builtin_function_or_method",
    "instance",
    "_Feature"
   ],
   "window_display": false
  }
 },
 "nbformat": 4,
 "nbformat_minor": 5
}
